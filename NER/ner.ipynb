{
 "cells": [
  {
   "cell_type": "code",
   "execution_count": 3,
   "metadata": {},
   "outputs": [
    {
     "name": "stderr",
     "output_type": "stream",
     "text": [
      "/Users/firaterman/Documents/fer/berserk3/lib/python3.12/site-packages/sentence_transformers/cross_encoder/CrossEncoder.py:13: TqdmWarning: IProgress not found. Please update jupyter and ipywidgets. See https://ipywidgets.readthedocs.io/en/stable/user_install.html\n",
      "  from tqdm.autonotebook import tqdm, trange\n"
     ]
    }
   ],
   "source": [
    "import spacy\n",
    "from sentence_transformers import SentenceTransformer, util\n",
    "from sklearn.cluster import AgglomerativeClustering\n",
    "import json\n",
    "from transformers import pipeline"
   ]
  },
  {
   "cell_type": "code",
   "execution_count": 13,
   "metadata": {},
   "outputs": [
    {
     "name": "stdout",
     "output_type": "stream",
     "text": [
      "PERSON Barack Obama\n",
      "LOC ASIA\n",
      "PERSON Obama\n",
      "GPE Taiwan\n",
      "PERSON Barack\n",
      "GPE Japan\n",
      "LOC Europe\n",
      "entities: ['Barack Obama', 'Barack', 'Obama', 'Japan', 'Taiwan']\n"
     ]
    }
   ],
   "source": [
    "# Load the spaCy model for NER\n",
    "nlp = spacy.load(\"en_core_web_sm\")\n",
    "\n",
    "# Load Sentence-BERT model for embeddings\n",
    "sbert_model = SentenceTransformer('all-MiniLM-L6-v2')\n",
    "\n",
    "# Example text input\n",
    "text = \"\"\"\n",
    "The president of the united states Barack Obama has started to travel in ASIA.\n",
    "Obama is still trying to prevent a war in Taiwan.\n",
    "Barack as his wife call him, is really appreciated in Japan by the population.\n",
    "The president is not going to Europe.\n",
    "\"\"\"\n",
    "\n",
    "\n",
    "### Step 1: Extract Entities from Text\n",
    "doc = nlp(text)\n",
    "entities = []\n",
    "for ent in doc.ents:\n",
    "    print(ent.label_, ent)\n",
    "    # Only add entities that are commonly useful like PERSON, ORG, GPE (places), etc.\n",
    "    if ent.label_ in [\"PERSON\", \"ORG\", \"GPE\"]:\n",
    "        entities.append(ent.text)\n",
    "\n",
    "# Remove duplicate entities\n",
    "entities = list(set(entities))\n",
    "print(\"entities:\", entities)\n",
    "\n",
    "### Step 2: Create Embeddings and Cluster Entities\n",
    "# Generate embeddings for each entity using Sentence-BERT\n",
    "embeddings = sbert_model.encode(entities)\n",
    "\n",
    "# Cluster similar entities using Agglomerative Clustering\n",
    "clustering_model = AgglomerativeClustering(n_clusters=None, distance_threshold=1.0)\n",
    "clusters = clustering_model.fit_predict(embeddings)"
   ]
  },
  {
   "cell_type": "code",
   "execution_count": 15,
   "metadata": {},
   "outputs": [
    {
     "data": {
      "text/plain": [
       "['Barack Obama', 'Barack', 'Obama', 'Japan', 'Taiwan']"
      ]
     },
     "execution_count": 15,
     "metadata": {},
     "output_type": "execute_result"
    }
   ],
   "source": [
    "entities"
   ]
  },
  {
   "cell_type": "code",
   "execution_count": null,
   "metadata": {},
   "outputs": [],
   "source": []
  }
 ],
 "metadata": {
  "kernelspec": {
   "display_name": "berserk3",
   "language": "python",
   "name": "python3"
  },
  "language_info": {
   "codemirror_mode": {
    "name": "ipython",
    "version": 3
   },
   "file_extension": ".py",
   "mimetype": "text/x-python",
   "name": "python",
   "nbconvert_exporter": "python",
   "pygments_lexer": "ipython3",
   "version": "3.12.6"
  }
 },
 "nbformat": 4,
 "nbformat_minor": 2
}
