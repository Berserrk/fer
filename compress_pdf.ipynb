{
 "cells": [
  {
   "cell_type": "code",
   "execution_count": 2,
   "metadata": {},
   "outputs": [
    {
     "name": "stdout",
     "output_type": "stream",
     "text": [
      "Compressed PDF saved as: output.pdf\n"
     ]
    }
   ],
   "source": [
    "import subprocess\n",
    "\n",
    "def compress_pdf(input_pdf, output_pdf):\n",
    "    gs_command = [\n",
    "        \"gs\", \"-sDEVICE=pdfwrite\", \"-dCompatibilityLevel=1.4\",\n",
    "        \"-dPDFSETTINGS=/screen\",  # Change to /ebook for better quality\n",
    "        \"-dNOPAUSE\", \"-dQUIET\", \"-dBATCH\",\n",
    "        f\"-sOutputFile={output_pdf}\", input_pdf\n",
    "    ]\n",
    "    subprocess.run(gs_command)\n",
    "    print(f\"Compressed PDF saved as: {output_pdf}\")\n",
    "\n",
    "compress_pdf(\"diploma.pdf\", \"output.pdf\")"
   ]
  }
 ],
 "metadata": {
  "kernelspec": {
   "display_name": "berserk3",
   "language": "python",
   "name": "python3"
  },
  "language_info": {
   "codemirror_mode": {
    "name": "ipython",
    "version": 3
   },
   "file_extension": ".py",
   "mimetype": "text/x-python",
   "name": "python",
   "nbconvert_exporter": "python",
   "pygments_lexer": "ipython3",
   "version": "3.12.6"
  }
 },
 "nbformat": 4,
 "nbformat_minor": 2
}
