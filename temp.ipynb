{
 "cells": [
  {
   "cell_type": "code",
   "execution_count": null,
   "metadata": {},
   "outputs": [],
   "source": [
    "valid_p_list = {\n",
    "    \")\":\"(\",\n",
    "    \"]\":\"[\",\n",
    "    \"}\":\"{\"\n",
    "}\n",
    "stack = []\n",
    "\n",
    "for p in s:\n",
    "    if \n",
    "\n",
    "s = \"()[]{\""
   ]
  }
 ],
 "metadata": {
  "kernelspec": {
   "display_name": "berserk3",
   "language": "python",
   "name": "python3"
  },
  "language_info": {
   "name": "python",
   "version": "3.12.6"
  }
 },
 "nbformat": 4,
 "nbformat_minor": 2
}
