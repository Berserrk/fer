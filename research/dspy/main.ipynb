{
 "cells": [
  {
   "cell_type": "code",
   "execution_count": null,
   "metadata": {},
   "outputs": [],
   "source": [
    "### Pre-requisite\n",
    "python3 -m pip install \"llama-cpp-python[server]\" dspy\n",
    "\n",
    "\n",
    "python3 -m llama_cpp.server \\\n",
    "  --model /Users/firaterman/Documents/fer/models/.../Nous-Hermes-13B.Q4_K_M.gguf \\\n",
    "  --host 127.0.0.1 --port 8000"
   ]
  },
  {
   "cell_type": "code",
   "execution_count": 1,
   "metadata": {},
   "outputs": [
    {
     "name": "stderr",
     "output_type": "stream",
     "text": [
      "2025/05/05 08:48:26 WARNING dspy.adapters.json_adapter: Failed to use structured output format. Falling back to JSON mode. Error: litellm.APIError: APIError: OpenAIException - [{'type': 'literal_error', 'loc': ('body', 'response_format', 'type'), 'msg': \"Input should be 'text' or 'json_object'\", 'input': 'json_schema', 'ctx': {'expected': \"'text' or 'json_object'\"}}]\n"
     ]
    },
    {
     "name": "stdout",
     "output_type": "stream",
     "text": [
      "Tokyo\n"
     ]
    }
   ],
   "source": [
    "import dspy\n",
    "\n",
    "# point DSPy’s LM at your local OpenAI-compatible endpoint\n",
    "lm = dspy.LM(\n",
    "  \"openai/local-model\",           # “openai” = use Litellm’s OpenAI client,\n",
    "  api_base=\"http://127.0.0.1:8000/v1\",\n",
    "  api_key=\"local\",                # llama-cpp-python’s built-in default key\n",
    ")\n",
    "dspy.configure(lm=lm)\n",
    "\n",
    "# now any DSPy module will drive your local GGUF model\n",
    "from llama_cpp import Llama             # (your existing code)\n",
    "# … define DSPy modules / Signatures, then:\n",
    "result = dspy.Predict(\"question->answer\")(question=\"What’s the capital of Japan?\")\n",
    "print(result.answer)  "
   ]
  },
  {
   "cell_type": "code",
   "execution_count": null,
   "metadata": {},
   "outputs": [
    {
     "name": "stdout",
     "output_type": "stream",
     "text": [
      "Paris\n"
     ]
    }
   ],
   "source": [
    "import logging\n",
    "import dspy\n",
    "from dspy.adapters import ChatAdapter\n",
    "\n",
    "# 0) Silence the JSONAdapter warning entirely\n",
    "logging.getLogger(\"dspy.adapters.json_adapter\").setLevel(logging.ERROR)\n",
    "\n",
    "# 1) Create your DSPy LM\n",
    "lm = dspy.LM(\n",
    "    \"openai/local-model\",\n",
    "    api_base=\"http://127.0.0.1:8000/v1\",\n",
    "    api_key=\"local\",\n",
    "    response_format=\"text\"\n",
    ")\n",
    "\n",
    "# 2) Configure DSPy to use ChatAdapter only\n",
    "dspy.configure(lm=lm, adapter=ChatAdapter())\n",
    "\n",
    "# 3) Now define your pipeline (no JSONAdapter involved)\n",
    "from dspy import Predict\n",
    "qa = Predict(\"question:str -> answer:str\")\n",
    "\n",
    "print(qa(question=\"What’s the capital of Japan?\").answer)\n",
    "# → Tokyo  (no warning)"
   ]
  }
 ],
 "metadata": {
  "kernelspec": {
   "display_name": "berserk3",
   "language": "python",
   "name": "python3"
  },
  "language_info": {
   "codemirror_mode": {
    "name": "ipython",
    "version": 3
   },
   "file_extension": ".py",
   "mimetype": "text/x-python",
   "name": "python",
   "nbconvert_exporter": "python",
   "pygments_lexer": "ipython3",
   "version": "3.12.6"
  }
 },
 "nbformat": 4,
 "nbformat_minor": 2
}
