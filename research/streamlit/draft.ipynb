{
 "cells": [
  {
   "cell_type": "code",
   "execution_count": null,
   "metadata": {},
   "outputs": [],
   "source": [
    "import json\n",
    "import pandas as pd\n",
    "\n",
    "with open('categories_label.json', 'r') as f:\n",
    "    categories_label = json.load(f)\n",
    "    "
   ]
  },
  {
   "cell_type": "code",
   "execution_count": null,
   "metadata": {},
   "outputs": [],
   "source": [
    "categories_label"
   ]
  },
  {
   "cell_type": "code",
   "execution_count": null,
   "metadata": {},
   "outputs": [],
   "source": [
    "all_activities = set()\n",
    "for country_info in categories_label.values():\n",
    "    all_activities.update(country_info[\"activities\"])\n",
    "all_activities = sorted(all_activities)\n",
    "\n",
    "all_activities"
   ]
  },
  {
   "cell_type": "code",
   "execution_count": null,
   "metadata": {},
   "outputs": [],
   "source": [
    "data = {\"Country\": []}\n",
    "for activity in all_activities:\n",
    "    data[activity] = []\n",
    "\n",
    "for country, info in categories_label.items():\n",
    "    row = {activity: True if activity in info[\"activities\"] else False for activity in all_activities}\n",
    "    row[\"Country\"] = country\n",
    "    data[\"Country\"].append(country)\n",
    "    for activity in all_activities:\n",
    "        data[activity].append(row[activity])\n",
    "\n",
    "df = pd.DataFrame(data)\n",
    "df"
   ]
  },
  {
   "cell_type": "code",
   "execution_count": null,
   "metadata": {},
   "outputs": [],
   "source": [
    "conn = duckdb.connect('activities.db')\n",
    "\n",
    "# Create the activities_table if it doesn't exist using BOOLEAN instead of INTEGER\n",
    "create_table_query = '''\n",
    "CREATE TABLE IF NOT EXISTS activities_table1(\n",
    "    Country VARCHAR,\n",
    "    {},\n",
    "    timestamp_date TIMESTAMP,\n",
    "    PRIMARY KEY (Country, timestamp_date)\n",
    ")\n",
    "'''.format(\", \".join([f'\"{activity}\" BOOLEAN' for activity in all_activities]))\n",
    "\n",
    "# Print the CREATE TABLE statement for debugging\n",
    "print(f\"Executing: {create_table_query}\")\n",
    "conn.execute(create_table_query)\n",
    "print(f\"Executing2: {create_table_query}\")\n"
   ]
  },
  {
   "cell_type": "code",
   "execution_count": null,
   "metadata": {},
   "outputs": [],
   "source": [
    "import duckdb\n",
    "conn = duckdb.connect('activities.db')"
   ]
  },
  {
   "cell_type": "code",
   "execution_count": null,
   "metadata": {},
   "outputs": [],
   "source": [
    "\n",
    "\n",
    "# Step 2: Execute a query to read data from the activities_table\n",
    "query = \"SELECT * FROM activities_table1\"\n",
    "\n",
    "# Step 3: Fetch the results\n",
    "# You can fetch results directly into a pandas DataFrame or a list of tuples\n",
    "df = conn.execute(query).fetchdf()  # This will return a DataFrame\n",
    "\n",
    "# Step 4: Print the DataFrame\n",
    "print(df)"
   ]
  },
  {
   "cell_type": "code",
   "execution_count": null,
   "metadata": {},
   "outputs": [],
   "source": [
    "print(df)"
   ]
  },
  {
   "cell_type": "code",
   "execution_count": null,
   "metadata": {},
   "outputs": [],
   "source": [
    "insert_data = []\n",
    "for _, row in df.iterrows():\n",
    "    country = row[\"Country\"].replace(\"'\", \"''\")  # Escape single quotes\n",
    "    print(country)\n",
    "    activities = tuple(bool(row[activity]) for activity in all_activities)  # Convert activities to booleans\n",
    "    current_timestamp = pd.Timestamp.now()  # Get current timestamp\n",
    "    print(current_timestamp)\n",
    "    # Prepare the data to insert: include country, activities, and timestamp\n",
    "    data_row = (country,) + activities + (current_timestamp,)\n",
    "    print(\"here\", data_row)\n",
    "    "
   ]
  },
  {
   "cell_type": "code",
   "execution_count": null,
   "metadata": {},
   "outputs": [],
   "source": [
    "insert_data"
   ]
  },
  {
   "cell_type": "code",
   "execution_count": null,
   "metadata": {},
   "outputs": [],
   "source": [
    "insert_data = []\n",
    "for _, row in df.iterrows():\n",
    "    country = row[\"Country\"].replace(\"'\", \"''\")  # Escape single quotes\n",
    "    print(country)\n",
    "    activities = tuple(bool(row[activity]) for activity in all_activities)  # Convert activities to booleans\n",
    "    current_timestamp = pd.Timestamp.now()  # Get current timestamp\n",
    "    print(current_timestamp)\n",
    "    # Prepare the data to insert: include country, activities, and timestamp\n",
    "    data_row = (country,) + activities + (current_timestamp,)\n",
    "    print(\"here\", data_row)\n",
    "    \n",
    "    # Check if the last entry for this country is different\n",
    "    query = f'SELECT * FROM activities_table WHERE Country = ? ORDER BY timestamp DESC LIMIT 1'\n",
    "    last_entry = conn.execute(query, (country,)).fetchone()\n",
    "    print(\"last_entry\")\n",
    "\n",
    "    # Check if the last entry exists and if there is a change\n",
    "    if last_entry:\n",
    "        # Compare activities to see if there's a change\n",
    "        if last_entry[1:-1] != activities:  # Exclude Country and timestamp for comparison\n",
    "            insert_data.append(data_row)\n",
    "    else:\n",
    "        # If no previous entry, add the current data\n",
    "        insert_data.append(data_row)\n"
   ]
  },
  {
   "cell_type": "code",
   "execution_count": null,
   "metadata": {},
   "outputs": [],
   "source": [
    "insert_data"
   ]
  },
  {
   "cell_type": "code",
   "execution_count": null,
   "metadata": {},
   "outputs": [],
   "source": [
    "activities"
   ]
  },
  {
   "cell_type": "code",
   "execution_count": null,
   "metadata": {},
   "outputs": [],
   "source": [
    "data_row"
   ]
  },
  {
   "cell_type": "code",
   "execution_count": null,
   "metadata": {},
   "outputs": [],
   "source": [
    "\n",
    "\n",
    "# Step 2: Execute a query to read data from the activities_table\n",
    "query = \"SELECT * FROM activities_table\"\n",
    "\n",
    "# Step 3: Fetch the results\n",
    "# You can fetch results directly into a pandas DataFrame or a list of tuples\n",
    "df = conn.execute(query).fetchdf()  # This will return a DataFrame\n",
    "\n",
    "# Step 4: Print the DataFrame\n",
    "print(df)"
   ]
  },
  {
   "cell_type": "code",
   "execution_count": null,
   "metadata": {},
   "outputs": [],
   "source": [
    "import duckdb\n",
    "\n",
    "# Path to your .db file\n",
    "db_file = 'activities.db'\n",
    "\n",
    "# Connect to the DuckDB database\n",
    "connection = duckdb.connect(database=db_file)\n",
    "\n",
    "# Example: Query to fetch all records from a table (replace 'your_table_name' with your actual table name)\n",
    "query = 'SELECT * FROM activities_table'\n",
    "\n",
    "# Execute the query and fetch the results into a DataFrame\n",
    "df = connection.execute(query).fetchdf()\n",
    "\n",
    "# Print the DataFrame\n",
    "print(df)\n",
    "\n",
    "# Close the connection\n",
    "connection.close()"
   ]
  },
  {
   "cell_type": "code",
   "execution_count": null,
   "metadata": {},
   "outputs": [],
   "source": [
    "import sqlite3\n",
    "\n",
    "# Path to your .db file\n",
    "db_file = 'activitiessql.db'\n",
    "\n",
    "# Connect to the SQLite database\n",
    "connection = sqlite3.connect(db_file)\n",
    "\n",
    "# Create a cursor object to interact with the database\n",
    "cursor = connection.cursor()\n",
    "\n",
    "# Example: Query to fetch all records from a table (replace 'your_table_name' with your actual table name)\n",
    "query = 'SELECT * FROM activities_table'\n",
    "\n",
    "# Execute the query\n",
    "cursor.execute(query)\n",
    "\n",
    "# Fetch all results\n",
    "results = cursor.fetchall()\n",
    "\n",
    "# Iterate through the results and print them\n",
    "for row in results:\n",
    "    print(row)\n",
    "\n",
    "# Close the cursor and connection\n",
    "cursor.close()\n",
    "connection.close()\n"
   ]
  },
  {
   "cell_type": "code",
   "execution_count": null,
   "metadata": {},
   "outputs": [],
   "source": [
    "asset_folder = Path(os.environ[\"domino_dataset_dir\"] + \"/local\" + os.environ[\"folder_deus\"]  + \"folder_march\")"
   ]
  },
  {
   "cell_type": "code",
   "execution_count": null,
   "metadata": {},
   "outputs": [],
   "source": [
    "import pandas as pd\n",
    "\n",
    "data = {'Name': ['Tom', 'Jack', 'Steve', 'Ricky'],\n",
    "        'Age': [28, 34, 29, 42]}\n",
    "df = pd.DataFrame(data)\n",
    "print(df)\n",
    "\n"
   ]
  },
  {
   "cell_type": "code",
   "execution_count": null,
   "metadata": {},
   "outputs": [],
   "source": [
    "df[col for col in df.columns if col not in [\"Name\"]]"
   ]
  },
  {
   "cell_type": "code",
   "execution_count": null,
   "metadata": {},
   "outputs": [],
   "source": [
    "list_a = [\"Name\"]\n",
    "df[list_a].columns"
   ]
  },
  {
   "cell_type": "code",
   "execution_count": null,
   "metadata": {},
   "outputs": [],
   "source": [
    "boolean_columns = df[list_a].columns\n",
    "boolean_columns"
   ]
  },
  {
   "cell_type": "code",
   "execution_count": null,
   "metadata": {},
   "outputs": [],
   "source": [
    "df.columns[0]"
   ]
  },
  {
   "cell_type": "code",
   "execution_count": null,
   "metadata": {},
   "outputs": [],
   "source": [
    "cols_to_exclude = ['Age']\n",
    "\n",
    "# Select all columns except the specified ones\n",
    "df = df.loc[:, ~df.columns.isin(cols_to_exclude)]"
   ]
  },
  {
   "cell_type": "code",
   "execution_count": null,
   "metadata": {},
   "outputs": [],
   "source": [
    "df"
   ]
  },
  {
   "cell_type": "code",
   "execution_count": null,
   "metadata": {},
   "outputs": [],
   "source": [
    "The document can also be a pdf here please adapt it :\n",
    "import hashlib\n",
    "from docx import Document\n",
    "\n",
    "def generate_docx_hash(file_path):\n",
    "    # Load and extract text from the .docx file\n",
    "    doc = Document(file_path)\n",
    "    content = '\\n'.join([para.text for para in doc.paragraphs])\n",
    "\n",
    "    # Generate a SHA-256 hash based only on the document's text content\n",
    "    return hashlib.sha256(content.encode('utf-8')).hexdigest()"
   ]
  },
  {
   "cell_type": "code",
   "execution_count": 3,
   "metadata": {},
   "outputs": [
    {
     "name": "stdout",
     "output_type": "stream",
     "text": [
      "/mot\n"
     ]
    }
   ],
   "source": [
    "import os\n",
    "print(os.path.join(\"ok\", \"/mot\"))"
   ]
  },
  {
   "cell_type": "code",
   "execution_count": 12,
   "metadata": {},
   "outputs": [],
   "source": [
    "article, ext = os.path.splitext(\"/do/sda/ad/doccc\")"
   ]
  },
  {
   "cell_type": "code",
   "execution_count": 13,
   "metadata": {},
   "outputs": [
    {
     "data": {
      "text/plain": [
       "''"
      ]
     },
     "execution_count": 13,
     "metadata": {},
     "output_type": "execute_result"
    }
   ],
   "source": [
    "ext\n"
   ]
  },
  {
   "cell_type": "code",
   "execution_count": null,
   "metadata": {},
   "outputs": [],
   "source": []
  }
 ],
 "metadata": {
  "kernelspec": {
   "display_name": "berserk3",
   "language": "python",
   "name": "python3"
  },
  "language_info": {
   "codemirror_mode": {
    "name": "ipython",
    "version": 3
   },
   "file_extension": ".py",
   "mimetype": "text/x-python",
   "name": "python",
   "nbconvert_exporter": "python",
   "pygments_lexer": "ipython3",
   "version": "3.12.6"
  }
 },
 "nbformat": 4,
 "nbformat_minor": 2
}
