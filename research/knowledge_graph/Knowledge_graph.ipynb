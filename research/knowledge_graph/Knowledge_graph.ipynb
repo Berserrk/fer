{
 "cells": [
  {
   "cell_type": "markdown",
   "metadata": {},
   "source": [
    "Summary:\n",
    "- We build a knowledge graph using account transactions and ownership/control relations.\n",
    "- We use a Knowledge-Graph Embedding model (TransE) to learn embeddings for all entities and relations.\n",
    "- After training, we can score possible new links (e.g., hidden suspicious transfers).\n",
    "- Higher score = higher predicted likelihood of the relationship existing.\n",
    "- Goal: uncover hidden or future suspicious connections (e.g., money laundering paths).\n",
    "\n",
    "Expected result:\n",
    "- Entity embeddings and relation embeddings.\n",
    "- Numerical scores for candidate triples.\n",
    "- Accounts or entities with high hidden link scores are flagged for investigation."
   ]
  },
  {
   "cell_type": "markdown",
   "metadata": {},
   "source": [
    "# 🧰 Packages used for Knowledge Graph Embedding code\n",
    "\n",
    "## 📦 pandas\n",
    "- Create and manage tables (triples DataFrame).\n",
    "- Used to clearly define (head, relation, tail) triples before converting to graph.\n",
    "\n",
    "---\n",
    "\n",
    "## 📦 torch\n",
    "- Core PyTorch library for tensor operations.\n",
    "- Used to create tensors for scoring triples and accessing embeddings.\n",
    "\n",
    "---\n",
    "\n",
    "## 📦 pykeen\n",
    "- Main library for building and training Knowledge Graph Embeddings.\n",
    "- Key features:\n",
    "  - `TriplesFactory`: convert triples to internal graph object.\n",
    "  - `pipeline`: easy way to train KGE models like TransE, RotatE.\n",
    "  - Scoring functions to evaluate potential links.\n",
    "\n",
    "---\n",
    "\n",
    "## ✅ Summary\n",
    "> *These packages together allow you to define your knowledge graph, train embeddings, and score suspicious or hidden links easily.*"
   ]
  },
  {
   "cell_type": "code",
   "execution_count": null,
   "metadata": {},
   "outputs": [],
   "source": [
    "PyKEEN = framework for KGE\n",
    "\t•\tPyKEEN is a unified library that supports many different KGE algorithms.\n",
    "\t•\tYou can easily switch between them just by changing the model name."
   ]
  },
  {
   "cell_type": "code",
   "execution_count": null,
   "metadata": {},
   "outputs": [],
   "source": []
  },
  {
   "cell_type": "code",
   "execution_count": 10,
   "metadata": {},
   "outputs": [
    {
     "name": "stdout",
     "output_type": "stream",
     "text": [
      "🔗 Triples table (knowledge graph):\n",
      "       head       relation      tail\n",
      "0         A   transfers_to         B\n",
      "1         A   transfers_to         C\n",
      "2         B   transfers_to         D\n",
      "3         C   transfers_to         D\n",
      "4         A           owns  CompanyX\n",
      "5  CompanyX  controlled_by   PersonY\n",
      "6   PersonY       controls         D \n",
      "\n"
     ]
    }
   ],
   "source": [
    "import pandas as pd\n",
    "import torch\n",
    "from pykeen.pipeline import pipeline\n",
    "from pykeen.triples import TriplesFactory\n",
    "\n",
    "# ---------------------------------\n",
    "# Step 1: Create knowledge graph triples\n",
    "# ---------------------------------\n",
    "triples = [\n",
    "    (\"A\", \"transfers_to\", \"B\"),\n",
    "    (\"A\", \"transfers_to\", \"C\"),\n",
    "    (\"B\", \"transfers_to\", \"D\"),\n",
    "    (\"C\", \"transfers_to\", \"D\"),\n",
    "    (\"A\", \"owns\", \"CompanyX\"),\n",
    "    (\"CompanyX\", \"controlled_by\", \"PersonY\"),\n",
    "    (\"PersonY\", \"controls\", \"D\")\n",
    "]\n",
    "\n",
    "triples_df = pd.DataFrame(triples, columns=[\"head\", \"relation\", \"tail\"])\n",
    "print(\"🔗 Triples table (knowledge graph):\")\n",
    "print(triples_df, \"\\n\")\n",
    "\n"
   ]
  },
  {
   "cell_type": "code",
   "execution_count": null,
   "metadata": {},
   "outputs": [
    {
     "name": "stderr",
     "output_type": "stream",
     "text": [
      "WARNING:pykeen.utils:using automatically assigned random_state=445258700\n",
      "INFO:pykeen.triples.splitting:done splitting triples to groups of sizes [0, 2]\n"
     ]
    },
    {
     "name": "stdout",
     "output_type": "stream",
     "text": [
      "tf TriplesFactory(num_entities=6, num_relations=4, create_inverse_triples=False, num_triples=7)\n",
      "TriplesFactory(num_entities=6, num_relations=4, create_inverse_triples=False, num_triples=5) TriplesFactory(num_entities=6, num_relations=4, create_inverse_triples=False, num_triples=2)\n"
     ]
    }
   ],
   "source": [
    "# ---------------------------------\n",
    "# Step 2: Convert to TriplesFactory\n",
    "\n",
    "# ---------------------------------\n",
    "''' \n",
    "# map entities and relations to integer IDS\n",
    "Entity        ID\n",
    "A             0\n",
    "B             1 \n",
    "CompanyX      2\n",
    "\n",
    "Relation      ID\n",
    "transfers_to  0\n",
    "owns          1 \n",
    "controlled_by 2\n",
    "\n",
    "Then converts triples to ID tensors\n",
    "(A, transfers_to, B) => [0, 0, 1]\n",
    "\n",
    "Tensor example:\n",
    "tensor([\n",
    "  [0, 0, 1],\n",
    "  [0, 1, 2],\n",
    "  [2, 2, 3],\n",
    "  ...\n",
    "])\n",
    "'''\n",
    "tf = TriplesFactory.from_labeled_triples(\n",
    "    triples_df[[\"head\", \"relation\", \"tail\"]].values\n",
    ")\n",
    "print('tf',tf)\n",
    "# Split into train/test (PyKEEN expects this)\n",
    "train_tf, test_tf = tf.split([0.8, 0.2])\n",
    "print(train_tf, test_tf)\n"
   ]
  },
  {
   "cell_type": "code",
   "execution_count": 26,
   "metadata": {},
   "outputs": [
    {
     "name": "stderr",
     "output_type": "stream",
     "text": [
      "WARNING:pykeen.pipeline.api:No random seed is specified. Setting to 497616368.\n",
      "WARNING:pykeen.utils:No cuda devices were available. The model runs on CPU\n",
      "INFO:pykeen.pipeline.api:Using device: None\n",
      "INFO:pykeen.nn.representation:Inferred unique=False for Embedding()\n",
      "INFO:pykeen.nn.representation:Inferred unique=False for Embedding()\n"
     ]
    },
    {
     "data": {
      "application/vnd.jupyter.widget-view+json": {
       "model_id": "1843a325960d4afb90e0790ba846940c",
       "version_major": 2,
       "version_minor": 0
      },
      "text/plain": [
       "Training epochs on cpu:   0%|          | 0/100 [00:00<?, ?epoch/s]"
      ]
     },
     "metadata": {},
     "output_type": "display_data"
    },
    {
     "data": {
      "application/vnd.jupyter.widget-view+json": {
       "model_id": "cbb585fa6dea4faab3577be63ebb8867",
       "version_major": 2,
       "version_minor": 0
      },
      "text/plain": [
       "Training batches on cpu:   0%|          | 0.00/1.00 [00:00<?, ?batch/s]"
      ]
     },
     "metadata": {},
     "output_type": "display_data"
    },
    {
     "data": {
      "application/vnd.jupyter.widget-view+json": {
       "model_id": "d03e6c2d90a942b2a8d0c037952bae83",
       "version_major": 2,
       "version_minor": 0
      },
      "text/plain": [
       "Training batches on cpu:   0%|          | 0.00/1.00 [00:00<?, ?batch/s]"
      ]
     },
     "metadata": {},
     "output_type": "display_data"
    },
    {
     "data": {
      "application/vnd.jupyter.widget-view+json": {
       "model_id": "55478ebb7a28489baa39eac1e8058eab",
       "version_major": 2,
       "version_minor": 0
      },
      "text/plain": [
       "Training batches on cpu:   0%|          | 0.00/1.00 [00:00<?, ?batch/s]"
      ]
     },
     "metadata": {},
     "output_type": "display_data"
    },
    {
     "data": {
      "application/vnd.jupyter.widget-view+json": {
       "model_id": "c1a0b809510542b39679ff85d6d98a5b",
       "version_major": 2,
       "version_minor": 0
      },
      "text/plain": [
       "Training batches on cpu:   0%|          | 0.00/1.00 [00:00<?, ?batch/s]"
      ]
     },
     "metadata": {},
     "output_type": "display_data"
    },
    {
     "data": {
      "application/vnd.jupyter.widget-view+json": {
       "model_id": "c5d84a7afa2a463c96bd3bd4e6e5a934",
       "version_major": 2,
       "version_minor": 0
      },
      "text/plain": [
       "Training batches on cpu:   0%|          | 0.00/1.00 [00:00<?, ?batch/s]"
      ]
     },
     "metadata": {},
     "output_type": "display_data"
    },
    {
     "data": {
      "application/vnd.jupyter.widget-view+json": {
       "model_id": "d06c7623b3d74cddb501e642d6f41384",
       "version_major": 2,
       "version_minor": 0
      },
      "text/plain": [
       "Training batches on cpu:   0%|          | 0.00/1.00 [00:00<?, ?batch/s]"
      ]
     },
     "metadata": {},
     "output_type": "display_data"
    },
    {
     "data": {
      "application/vnd.jupyter.widget-view+json": {
       "model_id": "32049b20317145fdafbdd5f63d122a9a",
       "version_major": 2,
       "version_minor": 0
      },
      "text/plain": [
       "Training batches on cpu:   0%|          | 0.00/1.00 [00:00<?, ?batch/s]"
      ]
     },
     "metadata": {},
     "output_type": "display_data"
    },
    {
     "data": {
      "application/vnd.jupyter.widget-view+json": {
       "model_id": "d540cc64e0484343a1da40ea898291ac",
       "version_major": 2,
       "version_minor": 0
      },
      "text/plain": [
       "Training batches on cpu:   0%|          | 0.00/1.00 [00:00<?, ?batch/s]"
      ]
     },
     "metadata": {},
     "output_type": "display_data"
    },
    {
     "data": {
      "application/vnd.jupyter.widget-view+json": {
       "model_id": "0c58198dd7584cbc88448dcc88e8727f",
       "version_major": 2,
       "version_minor": 0
      },
      "text/plain": [
       "Training batches on cpu:   0%|          | 0.00/1.00 [00:00<?, ?batch/s]"
      ]
     },
     "metadata": {},
     "output_type": "display_data"
    },
    {
     "data": {
      "application/vnd.jupyter.widget-view+json": {
       "model_id": "f695251044d243fbb7763d133838cd59",
       "version_major": 2,
       "version_minor": 0
      },
      "text/plain": [
       "Training batches on cpu:   0%|          | 0.00/1.00 [00:00<?, ?batch/s]"
      ]
     },
     "metadata": {},
     "output_type": "display_data"
    },
    {
     "data": {
      "application/vnd.jupyter.widget-view+json": {
       "model_id": "ae48b40f3dab41d8a5e7f3a287773de0",
       "version_major": 2,
       "version_minor": 0
      },
      "text/plain": [
       "Training batches on cpu:   0%|          | 0.00/1.00 [00:00<?, ?batch/s]"
      ]
     },
     "metadata": {},
     "output_type": "display_data"
    },
    {
     "data": {
      "application/vnd.jupyter.widget-view+json": {
       "model_id": "2faa919c309d4eb1abd6857019064cdd",
       "version_major": 2,
       "version_minor": 0
      },
      "text/plain": [
       "Training batches on cpu:   0%|          | 0.00/1.00 [00:00<?, ?batch/s]"
      ]
     },
     "metadata": {},
     "output_type": "display_data"
    },
    {
     "data": {
      "application/vnd.jupyter.widget-view+json": {
       "model_id": "52b82f65755b45de87abab88eabe555d",
       "version_major": 2,
       "version_minor": 0
      },
      "text/plain": [
       "Training batches on cpu:   0%|          | 0.00/1.00 [00:00<?, ?batch/s]"
      ]
     },
     "metadata": {},
     "output_type": "display_data"
    },
    {
     "data": {
      "application/vnd.jupyter.widget-view+json": {
       "model_id": "3ef281d735704070a8e3f051a37dd93f",
       "version_major": 2,
       "version_minor": 0
      },
      "text/plain": [
       "Training batches on cpu:   0%|          | 0.00/1.00 [00:00<?, ?batch/s]"
      ]
     },
     "metadata": {},
     "output_type": "display_data"
    },
    {
     "data": {
      "application/vnd.jupyter.widget-view+json": {
       "model_id": "0e50849a55704319bf92330c0d72ca4f",
       "version_major": 2,
       "version_minor": 0
      },
      "text/plain": [
       "Training batches on cpu:   0%|          | 0.00/1.00 [00:00<?, ?batch/s]"
      ]
     },
     "metadata": {},
     "output_type": "display_data"
    },
    {
     "data": {
      "application/vnd.jupyter.widget-view+json": {
       "model_id": "9d5bee72474c499d8b299a58e06812fa",
       "version_major": 2,
       "version_minor": 0
      },
      "text/plain": [
       "Training batches on cpu:   0%|          | 0.00/1.00 [00:00<?, ?batch/s]"
      ]
     },
     "metadata": {},
     "output_type": "display_data"
    },
    {
     "data": {
      "application/vnd.jupyter.widget-view+json": {
       "model_id": "33e0ed0307d947caa716c0f384283fb9",
       "version_major": 2,
       "version_minor": 0
      },
      "text/plain": [
       "Training batches on cpu:   0%|          | 0.00/1.00 [00:00<?, ?batch/s]"
      ]
     },
     "metadata": {},
     "output_type": "display_data"
    },
    {
     "data": {
      "application/vnd.jupyter.widget-view+json": {
       "model_id": "2a7e1cef59ef477c9f890e063445133c",
       "version_major": 2,
       "version_minor": 0
      },
      "text/plain": [
       "Training batches on cpu:   0%|          | 0.00/1.00 [00:00<?, ?batch/s]"
      ]
     },
     "metadata": {},
     "output_type": "display_data"
    },
    {
     "data": {
      "application/vnd.jupyter.widget-view+json": {
       "model_id": "d10ce5f395784a479a10f5a485a75349",
       "version_major": 2,
       "version_minor": 0
      },
      "text/plain": [
       "Training batches on cpu:   0%|          | 0.00/1.00 [00:00<?, ?batch/s]"
      ]
     },
     "metadata": {},
     "output_type": "display_data"
    },
    {
     "data": {
      "application/vnd.jupyter.widget-view+json": {
       "model_id": "e56f74224731409aa765a6c0be4404f9",
       "version_major": 2,
       "version_minor": 0
      },
      "text/plain": [
       "Training batches on cpu:   0%|          | 0.00/1.00 [00:00<?, ?batch/s]"
      ]
     },
     "metadata": {},
     "output_type": "display_data"
    },
    {
     "data": {
      "application/vnd.jupyter.widget-view+json": {
       "model_id": "911760bb170d401db71872cc56a04063",
       "version_major": 2,
       "version_minor": 0
      },
      "text/plain": [
       "Training batches on cpu:   0%|          | 0.00/1.00 [00:00<?, ?batch/s]"
      ]
     },
     "metadata": {},
     "output_type": "display_data"
    },
    {
     "data": {
      "application/vnd.jupyter.widget-view+json": {
       "model_id": "a973ed4e8bd5480cbdbd78a8d8a27f5d",
       "version_major": 2,
       "version_minor": 0
      },
      "text/plain": [
       "Training batches on cpu:   0%|          | 0.00/1.00 [00:00<?, ?batch/s]"
      ]
     },
     "metadata": {},
     "output_type": "display_data"
    },
    {
     "data": {
      "application/vnd.jupyter.widget-view+json": {
       "model_id": "0cb286e08bf94c7d95e5e8a928d18f8c",
       "version_major": 2,
       "version_minor": 0
      },
      "text/plain": [
       "Training batches on cpu:   0%|          | 0.00/1.00 [00:00<?, ?batch/s]"
      ]
     },
     "metadata": {},
     "output_type": "display_data"
    },
    {
     "data": {
      "application/vnd.jupyter.widget-view+json": {
       "model_id": "757462d9f00d4e16b9aceb4298ac21f4",
       "version_major": 2,
       "version_minor": 0
      },
      "text/plain": [
       "Training batches on cpu:   0%|          | 0.00/1.00 [00:00<?, ?batch/s]"
      ]
     },
     "metadata": {},
     "output_type": "display_data"
    },
    {
     "data": {
      "application/vnd.jupyter.widget-view+json": {
       "model_id": "102a0763e75b4291835d822449f31fc4",
       "version_major": 2,
       "version_minor": 0
      },
      "text/plain": [
       "Training batches on cpu:   0%|          | 0.00/1.00 [00:00<?, ?batch/s]"
      ]
     },
     "metadata": {},
     "output_type": "display_data"
    },
    {
     "data": {
      "application/vnd.jupyter.widget-view+json": {
       "model_id": "8349a4a120614647b649fae19d71c894",
       "version_major": 2,
       "version_minor": 0
      },
      "text/plain": [
       "Training batches on cpu:   0%|          | 0.00/1.00 [00:00<?, ?batch/s]"
      ]
     },
     "metadata": {},
     "output_type": "display_data"
    },
    {
     "data": {
      "application/vnd.jupyter.widget-view+json": {
       "model_id": "0645b62786764fcb89c3e047da8e58af",
       "version_major": 2,
       "version_minor": 0
      },
      "text/plain": [
       "Training batches on cpu:   0%|          | 0.00/1.00 [00:00<?, ?batch/s]"
      ]
     },
     "metadata": {},
     "output_type": "display_data"
    },
    {
     "data": {
      "application/vnd.jupyter.widget-view+json": {
       "model_id": "61599f9d1fe4413fba90178babe95ec9",
       "version_major": 2,
       "version_minor": 0
      },
      "text/plain": [
       "Training batches on cpu:   0%|          | 0.00/1.00 [00:00<?, ?batch/s]"
      ]
     },
     "metadata": {},
     "output_type": "display_data"
    },
    {
     "data": {
      "application/vnd.jupyter.widget-view+json": {
       "model_id": "46e77016ce4d4461b03daa55ed0a7cad",
       "version_major": 2,
       "version_minor": 0
      },
      "text/plain": [
       "Training batches on cpu:   0%|          | 0.00/1.00 [00:00<?, ?batch/s]"
      ]
     },
     "metadata": {},
     "output_type": "display_data"
    },
    {
     "data": {
      "application/vnd.jupyter.widget-view+json": {
       "model_id": "8566c6bc7d5245a4a47d8cc675b83aa1",
       "version_major": 2,
       "version_minor": 0
      },
      "text/plain": [
       "Training batches on cpu:   0%|          | 0.00/1.00 [00:00<?, ?batch/s]"
      ]
     },
     "metadata": {},
     "output_type": "display_data"
    },
    {
     "data": {
      "application/vnd.jupyter.widget-view+json": {
       "model_id": "000fc65643334184ac62c300ec3f15b5",
       "version_major": 2,
       "version_minor": 0
      },
      "text/plain": [
       "Training batches on cpu:   0%|          | 0.00/1.00 [00:00<?, ?batch/s]"
      ]
     },
     "metadata": {},
     "output_type": "display_data"
    },
    {
     "data": {
      "application/vnd.jupyter.widget-view+json": {
       "model_id": "2230cd4bf900487590d2093a2937051a",
       "version_major": 2,
       "version_minor": 0
      },
      "text/plain": [
       "Training batches on cpu:   0%|          | 0.00/1.00 [00:00<?, ?batch/s]"
      ]
     },
     "metadata": {},
     "output_type": "display_data"
    },
    {
     "data": {
      "application/vnd.jupyter.widget-view+json": {
       "model_id": "6e4a3b78316a4996bdb0fc1ea42484f2",
       "version_major": 2,
       "version_minor": 0
      },
      "text/plain": [
       "Training batches on cpu:   0%|          | 0.00/1.00 [00:00<?, ?batch/s]"
      ]
     },
     "metadata": {},
     "output_type": "display_data"
    },
    {
     "data": {
      "application/vnd.jupyter.widget-view+json": {
       "model_id": "c8a9572f638240fa9a257b5d31aaea06",
       "version_major": 2,
       "version_minor": 0
      },
      "text/plain": [
       "Training batches on cpu:   0%|          | 0.00/1.00 [00:00<?, ?batch/s]"
      ]
     },
     "metadata": {},
     "output_type": "display_data"
    },
    {
     "data": {
      "application/vnd.jupyter.widget-view+json": {
       "model_id": "28edd6efed8f462ba55c313629ed5104",
       "version_major": 2,
       "version_minor": 0
      },
      "text/plain": [
       "Training batches on cpu:   0%|          | 0.00/1.00 [00:00<?, ?batch/s]"
      ]
     },
     "metadata": {},
     "output_type": "display_data"
    },
    {
     "data": {
      "application/vnd.jupyter.widget-view+json": {
       "model_id": "bab077c762864e40ac45966831a53185",
       "version_major": 2,
       "version_minor": 0
      },
      "text/plain": [
       "Training batches on cpu:   0%|          | 0.00/1.00 [00:00<?, ?batch/s]"
      ]
     },
     "metadata": {},
     "output_type": "display_data"
    },
    {
     "data": {
      "application/vnd.jupyter.widget-view+json": {
       "model_id": "4105f34c60b04519baebf6cb792986e2",
       "version_major": 2,
       "version_minor": 0
      },
      "text/plain": [
       "Training batches on cpu:   0%|          | 0.00/1.00 [00:00<?, ?batch/s]"
      ]
     },
     "metadata": {},
     "output_type": "display_data"
    },
    {
     "data": {
      "application/vnd.jupyter.widget-view+json": {
       "model_id": "7c48cff993a544bea522e10a515c8761",
       "version_major": 2,
       "version_minor": 0
      },
      "text/plain": [
       "Training batches on cpu:   0%|          | 0.00/1.00 [00:00<?, ?batch/s]"
      ]
     },
     "metadata": {},
     "output_type": "display_data"
    },
    {
     "data": {
      "application/vnd.jupyter.widget-view+json": {
       "model_id": "bab558bc45d94ed891349d6d67b0834f",
       "version_major": 2,
       "version_minor": 0
      },
      "text/plain": [
       "Training batches on cpu:   0%|          | 0.00/1.00 [00:00<?, ?batch/s]"
      ]
     },
     "metadata": {},
     "output_type": "display_data"
    },
    {
     "data": {
      "application/vnd.jupyter.widget-view+json": {
       "model_id": "ead45851caea406c9e8b37d826532506",
       "version_major": 2,
       "version_minor": 0
      },
      "text/plain": [
       "Training batches on cpu:   0%|          | 0.00/1.00 [00:00<?, ?batch/s]"
      ]
     },
     "metadata": {},
     "output_type": "display_data"
    },
    {
     "data": {
      "application/vnd.jupyter.widget-view+json": {
       "model_id": "2ba75a6dcda74442a4c0f86a0bb2d51c",
       "version_major": 2,
       "version_minor": 0
      },
      "text/plain": [
       "Training batches on cpu:   0%|          | 0.00/1.00 [00:00<?, ?batch/s]"
      ]
     },
     "metadata": {},
     "output_type": "display_data"
    },
    {
     "data": {
      "application/vnd.jupyter.widget-view+json": {
       "model_id": "7bcc6ba1eb4e4bbb82b6f5696daceeef",
       "version_major": 2,
       "version_minor": 0
      },
      "text/plain": [
       "Training batches on cpu:   0%|          | 0.00/1.00 [00:00<?, ?batch/s]"
      ]
     },
     "metadata": {},
     "output_type": "display_data"
    },
    {
     "data": {
      "application/vnd.jupyter.widget-view+json": {
       "model_id": "31eed18290604d209b862170ca1ca8a9",
       "version_major": 2,
       "version_minor": 0
      },
      "text/plain": [
       "Training batches on cpu:   0%|          | 0.00/1.00 [00:00<?, ?batch/s]"
      ]
     },
     "metadata": {},
     "output_type": "display_data"
    },
    {
     "data": {
      "application/vnd.jupyter.widget-view+json": {
       "model_id": "6d2bf573553b4f3dabeff0714b1fbcbd",
       "version_major": 2,
       "version_minor": 0
      },
      "text/plain": [
       "Training batches on cpu:   0%|          | 0.00/1.00 [00:00<?, ?batch/s]"
      ]
     },
     "metadata": {},
     "output_type": "display_data"
    },
    {
     "data": {
      "application/vnd.jupyter.widget-view+json": {
       "model_id": "a52c676e86f347d89a75187501462b36",
       "version_major": 2,
       "version_minor": 0
      },
      "text/plain": [
       "Training batches on cpu:   0%|          | 0.00/1.00 [00:00<?, ?batch/s]"
      ]
     },
     "metadata": {},
     "output_type": "display_data"
    },
    {
     "data": {
      "application/vnd.jupyter.widget-view+json": {
       "model_id": "c6f09c7f915d427dbc33d01499a1705b",
       "version_major": 2,
       "version_minor": 0
      },
      "text/plain": [
       "Training batches on cpu:   0%|          | 0.00/1.00 [00:00<?, ?batch/s]"
      ]
     },
     "metadata": {},
     "output_type": "display_data"
    },
    {
     "data": {
      "application/vnd.jupyter.widget-view+json": {
       "model_id": "0594df5d6c8b40c9862d1b58d80f13a2",
       "version_major": 2,
       "version_minor": 0
      },
      "text/plain": [
       "Training batches on cpu:   0%|          | 0.00/1.00 [00:00<?, ?batch/s]"
      ]
     },
     "metadata": {},
     "output_type": "display_data"
    },
    {
     "data": {
      "application/vnd.jupyter.widget-view+json": {
       "model_id": "f739c33668aa40c99e39b590c1e81285",
       "version_major": 2,
       "version_minor": 0
      },
      "text/plain": [
       "Training batches on cpu:   0%|          | 0.00/1.00 [00:00<?, ?batch/s]"
      ]
     },
     "metadata": {},
     "output_type": "display_data"
    },
    {
     "data": {
      "application/vnd.jupyter.widget-view+json": {
       "model_id": "c8fe082c713346a4b98a1d3ab302ad1a",
       "version_major": 2,
       "version_minor": 0
      },
      "text/plain": [
       "Training batches on cpu:   0%|          | 0.00/1.00 [00:00<?, ?batch/s]"
      ]
     },
     "metadata": {},
     "output_type": "display_data"
    },
    {
     "data": {
      "application/vnd.jupyter.widget-view+json": {
       "model_id": "13c1476f90934f4cbd0e13449fa0e720",
       "version_major": 2,
       "version_minor": 0
      },
      "text/plain": [
       "Training batches on cpu:   0%|          | 0.00/1.00 [00:00<?, ?batch/s]"
      ]
     },
     "metadata": {},
     "output_type": "display_data"
    },
    {
     "data": {
      "application/vnd.jupyter.widget-view+json": {
       "model_id": "224d5aa37d29417cb89b87b6387511ed",
       "version_major": 2,
       "version_minor": 0
      },
      "text/plain": [
       "Training batches on cpu:   0%|          | 0.00/1.00 [00:00<?, ?batch/s]"
      ]
     },
     "metadata": {},
     "output_type": "display_data"
    },
    {
     "data": {
      "application/vnd.jupyter.widget-view+json": {
       "model_id": "2b724a02361940bca81fcb9bdef36b55",
       "version_major": 2,
       "version_minor": 0
      },
      "text/plain": [
       "Training batches on cpu:   0%|          | 0.00/1.00 [00:00<?, ?batch/s]"
      ]
     },
     "metadata": {},
     "output_type": "display_data"
    },
    {
     "data": {
      "application/vnd.jupyter.widget-view+json": {
       "model_id": "ad69f351d56b43fe94665a736017ed0d",
       "version_major": 2,
       "version_minor": 0
      },
      "text/plain": [
       "Training batches on cpu:   0%|          | 0.00/1.00 [00:00<?, ?batch/s]"
      ]
     },
     "metadata": {},
     "output_type": "display_data"
    },
    {
     "data": {
      "application/vnd.jupyter.widget-view+json": {
       "model_id": "0db7831966be413e80037d49971e6b9e",
       "version_major": 2,
       "version_minor": 0
      },
      "text/plain": [
       "Training batches on cpu:   0%|          | 0.00/1.00 [00:00<?, ?batch/s]"
      ]
     },
     "metadata": {},
     "output_type": "display_data"
    },
    {
     "data": {
      "application/vnd.jupyter.widget-view+json": {
       "model_id": "bb41452fbbd04ecb992c50eda15da005",
       "version_major": 2,
       "version_minor": 0
      },
      "text/plain": [
       "Training batches on cpu:   0%|          | 0.00/1.00 [00:00<?, ?batch/s]"
      ]
     },
     "metadata": {},
     "output_type": "display_data"
    },
    {
     "data": {
      "application/vnd.jupyter.widget-view+json": {
       "model_id": "4d821611e97f4c0ca75122cee708de34",
       "version_major": 2,
       "version_minor": 0
      },
      "text/plain": [
       "Training batches on cpu:   0%|          | 0.00/1.00 [00:00<?, ?batch/s]"
      ]
     },
     "metadata": {},
     "output_type": "display_data"
    },
    {
     "data": {
      "application/vnd.jupyter.widget-view+json": {
       "model_id": "b44f60a2543d476d84136926d96f767e",
       "version_major": 2,
       "version_minor": 0
      },
      "text/plain": [
       "Training batches on cpu:   0%|          | 0.00/1.00 [00:00<?, ?batch/s]"
      ]
     },
     "metadata": {},
     "output_type": "display_data"
    },
    {
     "data": {
      "application/vnd.jupyter.widget-view+json": {
       "model_id": "77232dec0d6340f6b65d06c5f30b411a",
       "version_major": 2,
       "version_minor": 0
      },
      "text/plain": [
       "Training batches on cpu:   0%|          | 0.00/1.00 [00:00<?, ?batch/s]"
      ]
     },
     "metadata": {},
     "output_type": "display_data"
    },
    {
     "data": {
      "application/vnd.jupyter.widget-view+json": {
       "model_id": "b735730541c74e17bc81dd54061f5d87",
       "version_major": 2,
       "version_minor": 0
      },
      "text/plain": [
       "Training batches on cpu:   0%|          | 0.00/1.00 [00:00<?, ?batch/s]"
      ]
     },
     "metadata": {},
     "output_type": "display_data"
    },
    {
     "data": {
      "application/vnd.jupyter.widget-view+json": {
       "model_id": "c6cd1dfa09e54a769dd54349a1d33015",
       "version_major": 2,
       "version_minor": 0
      },
      "text/plain": [
       "Training batches on cpu:   0%|          | 0.00/1.00 [00:00<?, ?batch/s]"
      ]
     },
     "metadata": {},
     "output_type": "display_data"
    },
    {
     "data": {
      "application/vnd.jupyter.widget-view+json": {
       "model_id": "d8a68128a7eb44f79c0fa4e585e561ae",
       "version_major": 2,
       "version_minor": 0
      },
      "text/plain": [
       "Training batches on cpu:   0%|          | 0.00/1.00 [00:00<?, ?batch/s]"
      ]
     },
     "metadata": {},
     "output_type": "display_data"
    },
    {
     "data": {
      "application/vnd.jupyter.widget-view+json": {
       "model_id": "cc78285a7e874876bd1caa7a7dbe7cad",
       "version_major": 2,
       "version_minor": 0
      },
      "text/plain": [
       "Training batches on cpu:   0%|          | 0.00/1.00 [00:00<?, ?batch/s]"
      ]
     },
     "metadata": {},
     "output_type": "display_data"
    },
    {
     "data": {
      "application/vnd.jupyter.widget-view+json": {
       "model_id": "c7653723ce2a4ae5a6d0ffab89632157",
       "version_major": 2,
       "version_minor": 0
      },
      "text/plain": [
       "Training batches on cpu:   0%|          | 0.00/1.00 [00:00<?, ?batch/s]"
      ]
     },
     "metadata": {},
     "output_type": "display_data"
    },
    {
     "data": {
      "application/vnd.jupyter.widget-view+json": {
       "model_id": "179024e82a244b60a736dc6501748d5f",
       "version_major": 2,
       "version_minor": 0
      },
      "text/plain": [
       "Training batches on cpu:   0%|          | 0.00/1.00 [00:00<?, ?batch/s]"
      ]
     },
     "metadata": {},
     "output_type": "display_data"
    },
    {
     "data": {
      "application/vnd.jupyter.widget-view+json": {
       "model_id": "b2d7951d34e24b8a84da0b751fb206e6",
       "version_major": 2,
       "version_minor": 0
      },
      "text/plain": [
       "Training batches on cpu:   0%|          | 0.00/1.00 [00:00<?, ?batch/s]"
      ]
     },
     "metadata": {},
     "output_type": "display_data"
    },
    {
     "data": {
      "application/vnd.jupyter.widget-view+json": {
       "model_id": "058cab8b3dd74180a8f4126bbf44a7c7",
       "version_major": 2,
       "version_minor": 0
      },
      "text/plain": [
       "Training batches on cpu:   0%|          | 0.00/1.00 [00:00<?, ?batch/s]"
      ]
     },
     "metadata": {},
     "output_type": "display_data"
    },
    {
     "data": {
      "application/vnd.jupyter.widget-view+json": {
       "model_id": "eb8379027c644cb7a08e51347192ae00",
       "version_major": 2,
       "version_minor": 0
      },
      "text/plain": [
       "Training batches on cpu:   0%|          | 0.00/1.00 [00:00<?, ?batch/s]"
      ]
     },
     "metadata": {},
     "output_type": "display_data"
    },
    {
     "data": {
      "application/vnd.jupyter.widget-view+json": {
       "model_id": "ca6eae90441d4a06853a30e866cf445c",
       "version_major": 2,
       "version_minor": 0
      },
      "text/plain": [
       "Training batches on cpu:   0%|          | 0.00/1.00 [00:00<?, ?batch/s]"
      ]
     },
     "metadata": {},
     "output_type": "display_data"
    },
    {
     "data": {
      "application/vnd.jupyter.widget-view+json": {
       "model_id": "5cdfb0a2ae0b4e21a4666b001b0b707f",
       "version_major": 2,
       "version_minor": 0
      },
      "text/plain": [
       "Training batches on cpu:   0%|          | 0.00/1.00 [00:00<?, ?batch/s]"
      ]
     },
     "metadata": {},
     "output_type": "display_data"
    },
    {
     "data": {
      "application/vnd.jupyter.widget-view+json": {
       "model_id": "aeb417558e594e7296cd7f4f5acdeefb",
       "version_major": 2,
       "version_minor": 0
      },
      "text/plain": [
       "Training batches on cpu:   0%|          | 0.00/1.00 [00:00<?, ?batch/s]"
      ]
     },
     "metadata": {},
     "output_type": "display_data"
    },
    {
     "data": {
      "application/vnd.jupyter.widget-view+json": {
       "model_id": "42b18b41e3054912b72c70fdcd2b1daf",
       "version_major": 2,
       "version_minor": 0
      },
      "text/plain": [
       "Training batches on cpu:   0%|          | 0.00/1.00 [00:00<?, ?batch/s]"
      ]
     },
     "metadata": {},
     "output_type": "display_data"
    },
    {
     "data": {
      "application/vnd.jupyter.widget-view+json": {
       "model_id": "5e436e7e6e434602af9fb83d6ec14265",
       "version_major": 2,
       "version_minor": 0
      },
      "text/plain": [
       "Training batches on cpu:   0%|          | 0.00/1.00 [00:00<?, ?batch/s]"
      ]
     },
     "metadata": {},
     "output_type": "display_data"
    },
    {
     "data": {
      "application/vnd.jupyter.widget-view+json": {
       "model_id": "5031ad8a7fc740e389f1c33257816ef8",
       "version_major": 2,
       "version_minor": 0
      },
      "text/plain": [
       "Training batches on cpu:   0%|          | 0.00/1.00 [00:00<?, ?batch/s]"
      ]
     },
     "metadata": {},
     "output_type": "display_data"
    },
    {
     "data": {
      "application/vnd.jupyter.widget-view+json": {
       "model_id": "3098c84412dd46f3802284e89b2a93bd",
       "version_major": 2,
       "version_minor": 0
      },
      "text/plain": [
       "Training batches on cpu:   0%|          | 0.00/1.00 [00:00<?, ?batch/s]"
      ]
     },
     "metadata": {},
     "output_type": "display_data"
    },
    {
     "data": {
      "application/vnd.jupyter.widget-view+json": {
       "model_id": "3b0ae040c8de4075a6ccfde54d9e6487",
       "version_major": 2,
       "version_minor": 0
      },
      "text/plain": [
       "Training batches on cpu:   0%|          | 0.00/1.00 [00:00<?, ?batch/s]"
      ]
     },
     "metadata": {},
     "output_type": "display_data"
    },
    {
     "data": {
      "application/vnd.jupyter.widget-view+json": {
       "model_id": "e276ec2c86464f56ae984a7f1bcd592c",
       "version_major": 2,
       "version_minor": 0
      },
      "text/plain": [
       "Training batches on cpu:   0%|          | 0.00/1.00 [00:00<?, ?batch/s]"
      ]
     },
     "metadata": {},
     "output_type": "display_data"
    },
    {
     "data": {
      "application/vnd.jupyter.widget-view+json": {
       "model_id": "ad0c792c044a44aca4f642fbd0a29494",
       "version_major": 2,
       "version_minor": 0
      },
      "text/plain": [
       "Training batches on cpu:   0%|          | 0.00/1.00 [00:00<?, ?batch/s]"
      ]
     },
     "metadata": {},
     "output_type": "display_data"
    },
    {
     "data": {
      "application/vnd.jupyter.widget-view+json": {
       "model_id": "71f2cee778784b00b06c9df84d3fabe6",
       "version_major": 2,
       "version_minor": 0
      },
      "text/plain": [
       "Training batches on cpu:   0%|          | 0.00/1.00 [00:00<?, ?batch/s]"
      ]
     },
     "metadata": {},
     "output_type": "display_data"
    },
    {
     "data": {
      "application/vnd.jupyter.widget-view+json": {
       "model_id": "9cf1f10349bf45c193b31ae9f189ce3e",
       "version_major": 2,
       "version_minor": 0
      },
      "text/plain": [
       "Training batches on cpu:   0%|          | 0.00/1.00 [00:00<?, ?batch/s]"
      ]
     },
     "metadata": {},
     "output_type": "display_data"
    },
    {
     "data": {
      "application/vnd.jupyter.widget-view+json": {
       "model_id": "c2b46017564846a499e0ba25e26d9c1a",
       "version_major": 2,
       "version_minor": 0
      },
      "text/plain": [
       "Training batches on cpu:   0%|          | 0.00/1.00 [00:00<?, ?batch/s]"
      ]
     },
     "metadata": {},
     "output_type": "display_data"
    },
    {
     "data": {
      "application/vnd.jupyter.widget-view+json": {
       "model_id": "f5f02486f730424e910b295f816e4e39",
       "version_major": 2,
       "version_minor": 0
      },
      "text/plain": [
       "Training batches on cpu:   0%|          | 0.00/1.00 [00:00<?, ?batch/s]"
      ]
     },
     "metadata": {},
     "output_type": "display_data"
    },
    {
     "data": {
      "application/vnd.jupyter.widget-view+json": {
       "model_id": "5937b3a5bf1a4507a6ed29389f5b3236",
       "version_major": 2,
       "version_minor": 0
      },
      "text/plain": [
       "Training batches on cpu:   0%|          | 0.00/1.00 [00:00<?, ?batch/s]"
      ]
     },
     "metadata": {},
     "output_type": "display_data"
    },
    {
     "data": {
      "application/vnd.jupyter.widget-view+json": {
       "model_id": "62e20b35aedf46ddaa81ea8288bcc22e",
       "version_major": 2,
       "version_minor": 0
      },
      "text/plain": [
       "Training batches on cpu:   0%|          | 0.00/1.00 [00:00<?, ?batch/s]"
      ]
     },
     "metadata": {},
     "output_type": "display_data"
    },
    {
     "data": {
      "application/vnd.jupyter.widget-view+json": {
       "model_id": "c5b1f07a52c74d769ceb4cc246a5f01f",
       "version_major": 2,
       "version_minor": 0
      },
      "text/plain": [
       "Training batches on cpu:   0%|          | 0.00/1.00 [00:00<?, ?batch/s]"
      ]
     },
     "metadata": {},
     "output_type": "display_data"
    },
    {
     "data": {
      "application/vnd.jupyter.widget-view+json": {
       "model_id": "b74983f08d5d43e58ee6cb197192407b",
       "version_major": 2,
       "version_minor": 0
      },
      "text/plain": [
       "Training batches on cpu:   0%|          | 0.00/1.00 [00:00<?, ?batch/s]"
      ]
     },
     "metadata": {},
     "output_type": "display_data"
    },
    {
     "data": {
      "application/vnd.jupyter.widget-view+json": {
       "model_id": "83c469651f684deea162944cfefc0d5c",
       "version_major": 2,
       "version_minor": 0
      },
      "text/plain": [
       "Training batches on cpu:   0%|          | 0.00/1.00 [00:00<?, ?batch/s]"
      ]
     },
     "metadata": {},
     "output_type": "display_data"
    },
    {
     "data": {
      "application/vnd.jupyter.widget-view+json": {
       "model_id": "5fd3c1221fec4950969324f9cf746c63",
       "version_major": 2,
       "version_minor": 0
      },
      "text/plain": [
       "Training batches on cpu:   0%|          | 0.00/1.00 [00:00<?, ?batch/s]"
      ]
     },
     "metadata": {},
     "output_type": "display_data"
    },
    {
     "data": {
      "application/vnd.jupyter.widget-view+json": {
       "model_id": "df358d8119b641268c09bd961e11146d",
       "version_major": 2,
       "version_minor": 0
      },
      "text/plain": [
       "Training batches on cpu:   0%|          | 0.00/1.00 [00:00<?, ?batch/s]"
      ]
     },
     "metadata": {},
     "output_type": "display_data"
    },
    {
     "data": {
      "application/vnd.jupyter.widget-view+json": {
       "model_id": "cf941ddf21a148cb97da32ec9f5495dd",
       "version_major": 2,
       "version_minor": 0
      },
      "text/plain": [
       "Training batches on cpu:   0%|          | 0.00/1.00 [00:00<?, ?batch/s]"
      ]
     },
     "metadata": {},
     "output_type": "display_data"
    },
    {
     "data": {
      "application/vnd.jupyter.widget-view+json": {
       "model_id": "ed4fed4c05924eea8defa325b693c4e6",
       "version_major": 2,
       "version_minor": 0
      },
      "text/plain": [
       "Training batches on cpu:   0%|          | 0.00/1.00 [00:00<?, ?batch/s]"
      ]
     },
     "metadata": {},
     "output_type": "display_data"
    },
    {
     "data": {
      "application/vnd.jupyter.widget-view+json": {
       "model_id": "c17c72087384465aa845e3e36e279a10",
       "version_major": 2,
       "version_minor": 0
      },
      "text/plain": [
       "Training batches on cpu:   0%|          | 0.00/1.00 [00:00<?, ?batch/s]"
      ]
     },
     "metadata": {},
     "output_type": "display_data"
    },
    {
     "data": {
      "application/vnd.jupyter.widget-view+json": {
       "model_id": "23fceca16b51456a92a9f487fcc3b2d7",
       "version_major": 2,
       "version_minor": 0
      },
      "text/plain": [
       "Training batches on cpu:   0%|          | 0.00/1.00 [00:00<?, ?batch/s]"
      ]
     },
     "metadata": {},
     "output_type": "display_data"
    },
    {
     "data": {
      "application/vnd.jupyter.widget-view+json": {
       "model_id": "192d78867a2c49b3a3927682dec48bf8",
       "version_major": 2,
       "version_minor": 0
      },
      "text/plain": [
       "Training batches on cpu:   0%|          | 0.00/1.00 [00:00<?, ?batch/s]"
      ]
     },
     "metadata": {},
     "output_type": "display_data"
    },
    {
     "data": {
      "application/vnd.jupyter.widget-view+json": {
       "model_id": "28f48c382fbb4c16b0b54160d1c8aee5",
       "version_major": 2,
       "version_minor": 0
      },
      "text/plain": [
       "Training batches on cpu:   0%|          | 0.00/1.00 [00:00<?, ?batch/s]"
      ]
     },
     "metadata": {},
     "output_type": "display_data"
    },
    {
     "data": {
      "application/vnd.jupyter.widget-view+json": {
       "model_id": "9198f809f9994b2badd4536cf60e1832",
       "version_major": 2,
       "version_minor": 0
      },
      "text/plain": [
       "Training batches on cpu:   0%|          | 0.00/1.00 [00:00<?, ?batch/s]"
      ]
     },
     "metadata": {},
     "output_type": "display_data"
    },
    {
     "data": {
      "application/vnd.jupyter.widget-view+json": {
       "model_id": "0b8b39f0c4e7485b85be60fdb2843d38",
       "version_major": 2,
       "version_minor": 0
      },
      "text/plain": [
       "Training batches on cpu:   0%|          | 0.00/1.00 [00:00<?, ?batch/s]"
      ]
     },
     "metadata": {},
     "output_type": "display_data"
    },
    {
     "data": {
      "application/vnd.jupyter.widget-view+json": {
       "model_id": "d33ac4c7f7944f8b8d6c0b445cf45b62",
       "version_major": 2,
       "version_minor": 0
      },
      "text/plain": [
       "Training batches on cpu:   0%|          | 0.00/1.00 [00:00<?, ?batch/s]"
      ]
     },
     "metadata": {},
     "output_type": "display_data"
    },
    {
     "data": {
      "application/vnd.jupyter.widget-view+json": {
       "model_id": "27fd8a04a34d42bc830d08f9c742bb4c",
       "version_major": 2,
       "version_minor": 0
      },
      "text/plain": [
       "Training batches on cpu:   0%|          | 0.00/1.00 [00:00<?, ?batch/s]"
      ]
     },
     "metadata": {},
     "output_type": "display_data"
    },
    {
     "data": {
      "application/vnd.jupyter.widget-view+json": {
       "model_id": "6d2c3cbdf9bc4ea7b3100e71ed9df8ce",
       "version_major": 2,
       "version_minor": 0
      },
      "text/plain": [
       "Training batches on cpu:   0%|          | 0.00/1.00 [00:00<?, ?batch/s]"
      ]
     },
     "metadata": {},
     "output_type": "display_data"
    },
    {
     "data": {
      "application/vnd.jupyter.widget-view+json": {
       "model_id": "dc5beb06e34442ffa5acb5c772bcf087",
       "version_major": 2,
       "version_minor": 0
      },
      "text/plain": [
       "Training batches on cpu:   0%|          | 0.00/1.00 [00:00<?, ?batch/s]"
      ]
     },
     "metadata": {},
     "output_type": "display_data"
    },
    {
     "name": "stderr",
     "output_type": "stream",
     "text": [
      "WARNING:pykeen.utils:Using automatic batch size on device.type='cpu' can cause unexplained out-of-memory crashes. Therefore, we use a conservative small batch_size=32. Performance may be improved by explicitly specifying a larger batch size.\n"
     ]
    },
    {
     "data": {
      "application/vnd.jupyter.widget-view+json": {
       "model_id": "5785876eda504c86aeee1753ca96743f",
       "version_major": 2,
       "version_minor": 0
      },
      "text/plain": [
       "Evaluating on cpu:   0%|          | 0.00/2.00 [00:00<?, ?triple/s]"
      ]
     },
     "metadata": {},
     "output_type": "display_data"
    },
    {
     "name": "stderr",
     "output_type": "stream",
     "text": [
      "WARNING:torch_max_mem.api:Encountered tensors on device_types={'cpu'} while only ['cuda'] are considered safe for automatic memory utilization maximization. This may lead to undocumented crashes (but can be safe, too).\n",
      "INFO:pykeen.evaluation.evaluator:Evaluation took 0.02s seconds\n"
     ]
    }
   ],
   "source": [
    "# ---------------------------------\n",
    "# Step 3: Train KGE model\n",
    "# ---------------------------------\n",
    "result = pipeline(\n",
    "    training=train_tf,\n",
    "    testing=test_tf,\n",
    "    model='TransE',\n",
    "    training_kwargs=dict(num_epochs=100),\n",
    ")\n",
    "\n"
   ]
  },
  {
   "cell_type": "code",
   "execution_count": null,
   "metadata": {},
   "outputs": [
    {
     "name": "stdout",
     "output_type": "stream",
     "text": [
      "📍 Embedding vector for entity A:\n",
      "[[-0.07973986 -0.2504249   0.05097923 -0.25063926  0.02950187 -0.01629204\n",
      "   0.18301998  0.18390365 -0.1437828   0.08742514  0.21019123 -0.05539561\n",
      "   0.16767271  0.16617793  0.02767996 -0.01452485  0.06938939 -0.02264258\n",
      "   0.05187031  0.12631048 -0.2414875  -0.22792947 -0.08107183 -0.22353646\n",
      "  -0.08727829  0.08163689 -0.04147071  0.11045516  0.22577046  0.20580865\n",
      "   0.07212144 -0.04152542 -0.01053331 -0.06780873 -0.17319354  0.05516351\n",
      "   0.19073737 -0.06339318 -0.02646952  0.10326536  0.24820502 -0.10201132\n",
      "   0.06053919 -0.14650267  0.02554761  0.2055259   0.09851103  0.20880887\n",
      "   0.22851089  0.10236115]] \n",
      "\n",
      "🔄 Embedding vector for relation 'transfers_to':\n",
      "[[ 0.04591494  0.07179378 -0.1028071   0.21411969 -0.26528192 -0.06401383\n",
      "  -0.26743394  0.11708802  0.07005366  0.0508561  -0.17405905  0.17120609\n",
      "  -0.16560054 -0.05427961  0.28832406  0.16804111 -0.13138331  0.05978727\n",
      "   0.22079481 -0.05185619 -0.08317145 -0.2004517   0.12980919 -0.01638967\n",
      "   0.0712316   0.13094613 -0.105492    0.07617123  0.01995506 -0.16505544\n",
      "   0.08525475 -0.02442256 -0.19965631 -0.21684518  0.19043617 -0.16863924\n",
      "  -0.16593975  0.18855184  0.0493827  -0.16961159 -0.2032639   0.0743866\n",
      "  -0.22012386 -0.02272121  0.25036672  0.2702243  -0.06437746  0.21708329\n",
      "  -0.04652897  0.06493859]] \n",
      "\n"
     ]
    }
   ],
   "source": [
    "\n",
    "# ---------------------------------\n",
    "# Step 4: Extract embeddings\n",
    "# ---------------------------------\n",
    "'''\n",
    "stores dictionaries\n",
    "tf.entity_to_id => {'A': 0, 'B': 1, 'CompanyX': 2, 'PersonY': 3, 'D': 4}\n",
    "tf.relation_to_id   => {'transfers_to': 0, 'owns': 1, 'controlled_by': 2, 'controls': 3}\n",
    "'''\n",
    "\n",
    "entity_embeddings = result.model.entity_representations[0]\n",
    "relation_embeddings = result.model.relation_representations[0]\n",
    "\n",
    "# Example: Get embedding for A\n",
    "embedding_A = entity_embeddings(torch.tensor([tf.entity_to_id[\"A\"]])).detach().numpy()\n",
    "print(\"📍 Embedding vector for entity A:\")\n",
    "print(embedding_A, \"\\n\")\n",
    "\n",
    "# Example: Get embedding for relation transfers_to\n",
    "embedding_transfer = relation_embeddings(torch.tensor([tf.relation_to_id[\"transfers_to\"]])).detach().numpy()\n",
    "print(\"🔄 Embedding vector for relation 'transfers_to':\")\n",
    "print(embedding_transfer, \"\\n\")\n",
    "\n"
   ]
  },
  {
   "cell_type": "code",
   "execution_count": 31,
   "metadata": {},
   "outputs": [
    {
     "name": "stdout",
     "output_type": "stream",
     "text": [
      "⚖️ Score for (A, transfers_to, D): -9.8958\n"
     ]
    },
    {
     "name": "stderr",
     "output_type": "stream",
     "text": [
      "/var/folders/dr/83m5p3m94s7gmtrc3_97lxvc0000gn/T/ipykernel_3509/3747726604.py:9: DeprecationWarning: Conversion of an array with ndim > 0 to a scalar is deprecated, and will error in future. Ensure you extract a single element from your array before performing this operation. (Deprecated NumPy 1.25.)\n",
      "  print(f\"⚖️ Score for (A, transfers_to, D): {float(score[0]):.4f}\")\n"
     ]
    }
   ],
   "source": [
    "# ---------------------------------\n",
    "# Step 5: Score potential hidden link\n",
    "# ---------------------------------\n",
    "triple = torch.tensor([\n",
    "    [tf.entity_to_id[\"A\"], tf.relation_to_id[\"transfers_to\"], tf.entity_to_id[\"D\"]]\n",
    "])\n",
    "score = result.model.score_hrt(triple).detach().numpy()\n",
    "\n",
    "print(f\"⚖️ Score for (A, transfers_to, D): {float(score[0]):.4f}\")"
   ]
  },
  {
   "cell_type": "code",
   "execution_count": 32,
   "metadata": {},
   "outputs": [
    {
     "name": "stdout",
     "output_type": "stream",
     "text": [
      "\n",
      "📊 Available metric keys:\n",
      "dict_keys(['head', 'tail', 'both'])\n",
      "\n",
      "📊 Evaluation metrics (head):\n",
      "optimistic: {'median_absolute_deviation': 1.482602218505602, 'geometric_mean_rank': 3.872983346207417, 'adjusted_inverse_harmonic_mean_rank': -0.29221732745961815, 'adjusted_arithmetic_mean_rank_index': -0.33333333333333326, 'variance': 1.0, 'inverse_arithmetic_mean_rank': 0.25, 'harmonic_mean_rank': 3.75, 'adjusted_arithmetic_mean_rank': 1.2307692307692308, 'standard_deviation': 1.0, 'z_arithmetic_mean_rank': -0.676481425202546, 'inverse_median_rank': 0.25, 'arithmetic_mean_rank': 4.0, 'median_rank': 4.0, 'inverse_geometric_mean_rank': 0.2581988897471611, 'z_geometric_mean_rank': -0.7311934862411587, 'count': 2.0, 'inverse_harmonic_mean_rank': 0.26666666666666666, 'z_inverse_harmonic_mean_rank': -0.8140279252758773, 'adjusted_geometric_mean_rank_index': -0.4176853051609841, 'hits_at_1': 0.0, 'hits_at_3': 0.5, 'hits_at_5': 1.0, 'hits_at_10': 1.0, 'z_hits_at_k': 0.0, 'adjusted_hits_at_k': 0.0}\n",
      "realistic: {'median_absolute_deviation': 1.482602218505602, 'geometric_mean_rank': 3.872983455657959, 'adjusted_inverse_harmonic_mean_rank': -0.2922173029525689, 'adjusted_arithmetic_mean_rank_index': -0.33333333333333326, 'variance': 1.0, 'inverse_arithmetic_mean_rank': 0.25, 'harmonic_mean_rank': 3.7499998044222695, 'adjusted_arithmetic_mean_rank': 1.2307692307692308, 'standard_deviation': 1.0, 'z_arithmetic_mean_rank': -0.676481425202546, 'inverse_median_rank': 0.25, 'arithmetic_mean_rank': 4.0, 'median_rank': 4.0, 'inverse_geometric_mean_rank': 0.25819888710975647, 'z_geometric_mean_rank': -0.7311935807881609, 'count': 2.0, 'inverse_harmonic_mean_rank': 0.2666666805744171, 'z_inverse_harmonic_mean_rank': -0.8140278570067481, 'adjusted_geometric_mean_rank_index': -0.41768535916979865, 'hits_at_1': 0.0, 'hits_at_3': 0.5, 'hits_at_5': 1.0, 'hits_at_10': 1.0, 'z_hits_at_k': 0.0, 'adjusted_hits_at_k': 0.0}\n",
      "pessimistic: {'median_absolute_deviation': 1.482602218505602, 'geometric_mean_rank': 3.872983346207417, 'adjusted_inverse_harmonic_mean_rank': -0.29221732745961815, 'adjusted_arithmetic_mean_rank_index': -0.33333333333333326, 'variance': 1.0, 'inverse_arithmetic_mean_rank': 0.25, 'harmonic_mean_rank': 3.75, 'adjusted_arithmetic_mean_rank': 1.2307692307692308, 'standard_deviation': 1.0, 'z_arithmetic_mean_rank': -0.676481425202546, 'inverse_median_rank': 0.25, 'arithmetic_mean_rank': 4.0, 'median_rank': 4.0, 'inverse_geometric_mean_rank': 0.2581988897471611, 'z_geometric_mean_rank': -0.7311934862411587, 'count': 2.0, 'inverse_harmonic_mean_rank': 0.26666666666666666, 'z_inverse_harmonic_mean_rank': -0.8140279252758773, 'adjusted_geometric_mean_rank_index': -0.4176853051609841, 'hits_at_1': 0.0, 'hits_at_3': 0.5, 'hits_at_5': 1.0, 'hits_at_10': 1.0, 'z_hits_at_k': 0.0, 'adjusted_hits_at_k': 0.0}\n"
     ]
    }
   ],
   "source": [
    "# ---------------------------------\n",
    "# Step 6: Print evaluation metrics\n",
    "# ---------------------------------\n",
    "metrics = result.metric_results.to_dict()\n",
    "\n",
    "print(\"\\n📊 Available metric keys:\")\n",
    "print(metrics.keys())\n",
    "\n",
    "# Get first available key\n",
    "first_key = list(metrics.keys())[0]\n",
    "\n",
    "print(f\"\\n📊 Evaluation metrics ({first_key}):\")\n",
    "for metric, value in metrics[first_key].items():\n",
    "    if isinstance(value, (float, int)):\n",
    "        print(f\"{metric}: {value:.4f}\")\n",
    "    else:\n",
    "        print(f\"{metric}: {value}\")  # Print raw if not a simple number"
   ]
  },
  {
   "cell_type": "code",
   "execution_count": 35,
   "metadata": {},
   "outputs": [
    {
     "name": "stdout",
     "output_type": "stream",
     "text": [
      "{'optimistic': {'median_absolute_deviation': 1.482602218505602, 'geometric_mean_rank': 3.872983346207417, 'adjusted_inverse_harmonic_mean_rank': -0.29221732745961815, 'adjusted_arithmetic_mean_rank_index': -0.33333333333333326, 'variance': 1.0, 'inverse_arithmetic_mean_rank': 0.25, 'harmonic_mean_rank': 3.75, 'adjusted_arithmetic_mean_rank': 1.2307692307692308, 'standard_deviation': 1.0, 'z_arithmetic_mean_rank': -0.676481425202546, 'inverse_median_rank': 0.25, 'arithmetic_mean_rank': 4.0, 'median_rank': 4.0, 'inverse_geometric_mean_rank': 0.2581988897471611, 'z_geometric_mean_rank': -0.7311934862411587, 'count': 2.0, 'inverse_harmonic_mean_rank': 0.26666666666666666, 'z_inverse_harmonic_mean_rank': -0.8140279252758773, 'adjusted_geometric_mean_rank_index': -0.4176853051609841, 'hits_at_1': 0.0, 'hits_at_3': 0.5, 'hits_at_5': 1.0, 'hits_at_10': 1.0, 'z_hits_at_k': 0.0, 'adjusted_hits_at_k': 0.0}, 'realistic': {'median_absolute_deviation': 1.482602218505602, 'geometric_mean_rank': 3.872983455657959, 'adjusted_inverse_harmonic_mean_rank': -0.2922173029525689, 'adjusted_arithmetic_mean_rank_index': -0.33333333333333326, 'variance': 1.0, 'inverse_arithmetic_mean_rank': 0.25, 'harmonic_mean_rank': 3.7499998044222695, 'adjusted_arithmetic_mean_rank': 1.2307692307692308, 'standard_deviation': 1.0, 'z_arithmetic_mean_rank': -0.676481425202546, 'inverse_median_rank': 0.25, 'arithmetic_mean_rank': 4.0, 'median_rank': 4.0, 'inverse_geometric_mean_rank': 0.25819888710975647, 'z_geometric_mean_rank': -0.7311935807881609, 'count': 2.0, 'inverse_harmonic_mean_rank': 0.2666666805744171, 'z_inverse_harmonic_mean_rank': -0.8140278570067481, 'adjusted_geometric_mean_rank_index': -0.41768535916979865, 'hits_at_1': 0.0, 'hits_at_3': 0.5, 'hits_at_5': 1.0, 'hits_at_10': 1.0, 'z_hits_at_k': 0.0, 'adjusted_hits_at_k': 0.0}, 'pessimistic': {'median_absolute_deviation': 1.482602218505602, 'geometric_mean_rank': 3.872983346207417, 'adjusted_inverse_harmonic_mean_rank': -0.29221732745961815, 'adjusted_arithmetic_mean_rank_index': -0.33333333333333326, 'variance': 1.0, 'inverse_arithmetic_mean_rank': 0.25, 'harmonic_mean_rank': 3.75, 'adjusted_arithmetic_mean_rank': 1.2307692307692308, 'standard_deviation': 1.0, 'z_arithmetic_mean_rank': -0.676481425202546, 'inverse_median_rank': 0.25, 'arithmetic_mean_rank': 4.0, 'median_rank': 4.0, 'inverse_geometric_mean_rank': 0.2581988897471611, 'z_geometric_mean_rank': -0.7311934862411587, 'count': 2.0, 'inverse_harmonic_mean_rank': 0.26666666666666666, 'z_inverse_harmonic_mean_rank': -0.8140279252758773, 'adjusted_geometric_mean_rank_index': -0.4176853051609841, 'hits_at_1': 0.0, 'hits_at_3': 0.5, 'hits_at_5': 1.0, 'hits_at_10': 1.0, 'z_hits_at_k': 0.0, 'adjusted_hits_at_k': 0.0}}\n"
     ]
    }
   ],
   "source": [
    "print(metrics['head'])"
   ]
  },
  {
   "cell_type": "markdown",
   "metadata": {},
   "source": [
    "PyKEEN computes different filtering strategies when ranking:\n",
    "\t•\tOptimistic: Best possible ranking assumption.\n",
    "\t•\tPessimistic: Worst possible.\n",
    "\t•\tRealistic: More practical estimate.\n",
    "\n",
    "Usually, we focus on realistic."
   ]
  },
  {
   "cell_type": "markdown",
   "metadata": {},
   "source": [
    "📊 Key metrics explained\n",
    "\n",
    "⭐ Hits@K\n",
    "\t•\thits_at_1: Fraction of correct heads ranked #1. (0.0 here)\n",
    "\t•\thits_at_3: Correct heads in top 3. (0.5 here → 50% correct)\n",
    "\t•\thits_at_5, hits_at_10: Same logic but larger K.\n",
    "\n",
    "Interpretation:\n",
    "\t•\thits_at_3 = 0.5 ⇒ in 50% of head prediction cases, true head is in top 3."
   ]
  },
  {
   "cell_type": "code",
   "execution_count": 38,
   "metadata": {},
   "outputs": [
    {
     "name": "stdout",
     "output_type": "stream",
     "text": [
      "\n",
      "💡 Generating possible suspicious links...\n",
      "all_entities ['A', 'B', 'C', 'CompanyX', 'D', 'PersonY']\n",
      "head_id 0\n",
      "relation_id 3\n",
      "  head      relation      tail      score\n",
      "0    A  transfers_to         C -10.747336\n",
      "1    A  transfers_to   PersonY -10.303490\n",
      "2    A  transfers_to         D  -9.895801\n",
      "3    A  transfers_to  CompanyX  -9.465056\n",
      "4    A  transfers_to         B  -7.791265\n",
      "\n",
      "✅ Top suspicious links ranked by plausibility (lowest score first):\n",
      "  head      relation      tail      score\n",
      "0    A  transfers_to         C -10.747336\n",
      "1    A  transfers_to   PersonY -10.303490\n",
      "2    A  transfers_to         D  -9.895801\n",
      "3    A  transfers_to  CompanyX  -9.465056\n",
      "4    A  transfers_to         B  -7.791265\n"
     ]
    }
   ],
   "source": [
    "# ---------------------------------\n",
    "# Step 7: Generate and save suspicious link scores\n",
    "# ---------------------------------\n",
    "print(\"\\n💡 Generating possible suspicious links...\")\n",
    "\n",
    "# List all entities\n",
    "all_entities = list(tf.entity_to_id.keys())\n",
    "print(\"all_entities\",all_entities)\n",
    "# Example: Check all possible tails for (A, transfers_to, ?)\n",
    "head_id = tf.entity_to_id[\"A\"]\n",
    "relation_id = tf.relation_to_id[\"transfers_to\"]\n",
    "print('head_id', head_id)\n",
    "print('relation_id',relation_id)\n",
    "triples_to_score = []\n",
    "\n",
    "for tail in all_entities:\n",
    "    if tail != \"A\":  # Avoid self-loop\n",
    "        tail_id = tf.entity_to_id[tail]\n",
    "        triples_to_score.append([head_id, relation_id, tail_id])\n",
    "\n",
    "triples_tensor = torch.tensor(triples_to_score)\n",
    "\n",
    "# Get scores\n",
    "scores = result.model.score_hrt(triples_tensor).detach().numpy()\n",
    "\n",
    "# Create DataFrame\n",
    "suspicious_df = pd.DataFrame({\n",
    "    \"head\": [\"A\"] * len(all_entities[:-1]),\n",
    "    \"relation\": [\"transfers_to\"] * len(all_entities[:-1]),\n",
    "    \"tail\": [t for t in all_entities if t != \"A\"],\n",
    "    \"score\": scores.flatten()\n",
    "})\n",
    "\n",
    "# Sort by score (ascending, lower = more plausible for TransE)\n",
    "suspicious_df = suspicious_df.sort_values(by=\"score\").reset_index(drop=True)\n",
    "print(suspicious_df)\n",
    "print(\"\\n✅ Top suspicious links ranked by plausibility (lowest score first):\")\n",
    "print(suspicious_df)\n",
    "\n",
    "# Save example (e.g., suspicious_df.to_sql(...) or .to_csv(...) )\n",
    "# suspicious_df.to_csv(\"suspicious_links.csv\", index=False)"
   ]
  },
  {
   "cell_type": "code",
   "execution_count": null,
   "metadata": {},
   "outputs": [],
   "source": []
  }
 ],
 "metadata": {
  "kernelspec": {
   "display_name": "berserk3",
   "language": "python",
   "name": "python3"
  },
  "language_info": {
   "codemirror_mode": {
    "name": "ipython",
    "version": 3
   },
   "file_extension": ".py",
   "mimetype": "text/x-python",
   "name": "python",
   "nbconvert_exporter": "python",
   "pygments_lexer": "ipython3",
   "version": "3.12.6"
  }
 },
 "nbformat": 4,
 "nbformat_minor": 2
}
