{
 "cells": [
  {
   "cell_type": "code",
   "execution_count": 6,
   "metadata": {},
   "outputs": [],
   "source": [
    "import networkx as nx"
   ]
  },
  {
   "cell_type": "markdown",
   "metadata": {},
   "source": [
    "### GRAPH TRAVERSAL ALGORITHMS"
   ]
  },
  {
   "cell_type": "code",
   "execution_count": null,
   "metadata": {},
   "outputs": [
    {
     "name": "stdout",
     "output_type": "stream",
     "text": [
      "BFS: [1, 2, 3, 4, 5]\n",
      "DFS: [1, 2, 4, 3, 5]\n"
     ]
    }
   ],
   "source": [
    "# BREAD FIRST SEARCH\n",
    "\n",
    "# Create a simple graph\n",
    "G = nx.Graph()\n",
    "G.add_edges_from([(1, 2), (1, 3), (2, 4), (3, 5)])\n",
    "'''\n",
    "  1\n",
    " / \\\n",
    "2   3\n",
    "|   |\n",
    "4   5\n",
    "'''\n",
    "\n",
    "# BFS from node 1\n",
    "# BFS visits nodes level by level.\n",
    "# It starts at the root (node 1), then visits all neighbors before going deeper\n",
    "bfs_nodes = list(nx.bfs_tree(G, source=1))\n",
    "print(\"BFS:\", bfs_nodes)\n",
    "\n",
    "# DEPTH FIRST SEARCH\n",
    "# DFS from node 1\n",
    "# DFS goes as deep as possible along each branch before backtracking.\n",
    "# It starts at node 1 and explores one neighbor fully before moving to another.\n",
    "dfs_nodes = list(nx.dfs_tree(G, source=1))\n",
    "print(\"DFS:\", dfs_nodes)"
   ]
  },
  {
   "cell_type": "markdown",
   "metadata": {},
   "source": [
    "### LINK PREDICTION ALGORITHMS\n"
   ]
  },
  {
   "cell_type": "markdown",
   "metadata": {},
   "source": [
    "#### Common Neighbors"
   ]
  },
  {
   "cell_type": "code",
   "execution_count": null,
   "metadata": {},
   "outputs": [
    {
     "name": "stdout",
     "output_type": "stream",
     "text": [
      "Gnodes ['Alice', 'Bob', 'Claire', 'Dennis', 'Eva', 'Frank']\n",
      "pairs [('Alice', 'Dennis'), ('Alice', 'Eva'), ('Alice', 'Frank')]\n",
      "scores <generator object _apply_prediction.<locals>.<genexpr> at 0x1105e2240>\n",
      "Friend suggestions for Alice:\n",
      "  • Dennis  (shared friends = 2.2)\n",
      "  • Eva  (shared friends = 1.4)\n",
      "  • Frank  (shared friends = 0.3999999999999999)\n"
     ]
    }
   ],
   "source": [
    "\n",
    "# 1️ Build a toy social graph -----------------------------------\n",
    "G = nx.Graph()\n",
    "G.add_edges_from([\n",
    "    (\"Alice\", \"Bob\"), (\"Alice\", \"Claire\"), (\"Bob\", \"Dennis\"),\n",
    "    (\"Claire\", \"Dennis\"), (\"Claire\", \"Eva\"), (\"Dennis\", \"Frank\"),\n",
    "    (\"Eva\", \"Frank\"),  # no edge yet between Alice and Dennis, etc.\n",
    "])\n",
    "\n",
    "# 2️ Pick the target user for recommendations -------------------\n",
    "target = \"Alice\"\n",
    "print(\"Gnodes\",G.nodes)\n",
    "# Pairs to score: (target, other) where no edge exists yet\n",
    "pairs = [(target, v) for v in G.nodes\n",
    "         if v != target and not G.has_edge(target, v)]\n",
    "print(\"pairs\",pairs)\n",
    "# 3️Compute common-neighbor scores -----------------------------\n",
    "## takes every node pair you listed in pairs, counts how many friends they have in common inside graph G, and gives you a generator that yields (u, v, count) for each pair.\n",
    "\n",
    "scores = nx.common_neighbor_centrality(G, pairs)\n",
    "print(\"scores\",scores)\n",
    "# 44 Rank and show the top suggestions --------------------------\n",
    "top_k = sorted(scores, key=lambda x: x[2], reverse=True)[:3]\n",
    "# \n",
    "print(f\"Friend suggestions for {target}:\")\n",
    "for u, v, score in top_k:\n",
    "    print(f\"  • {v}  (shared friends = {score})\")"
   ]
  },
  {
   "cell_type": "markdown",
   "metadata": {},
   "source": [
    "#### ADAMIC Adar-Index "
   ]
  },
  {
   "cell_type": "code",
   "execution_count": null,
   "metadata": {},
   "outputs": [
    {
     "name": "stdout",
     "output_type": "stream",
     "text": [
      "Eve    ↔ Prof Hub  AA = 2.885\n",
      "Alice  ↔ Bob     AA = 2.353\n",
      "Dana   ↔ Prof Hub  AA = 1.443\n",
      "Alice  ↔ Charlie  AA = 0.910\n",
      "Bob    ↔ Charlie  AA = 0.910\n",
      "Alice  ↔ Dana    AA = 0.000\n",
      "Bob    ↔ Dana    AA = 0.000\n",
      "Charlie ↔ Eve     AA = 0.000\n",
      "Dana   ↔ Eve     AA = 0.000\n"
     ]
    }
   ],
   "source": [
    "import networkx as nx\n",
    "\n",
    "# 1️  Build a tiny co-authorship graph\n",
    "G = nx.Graph()\n",
    "G.add_edges_from([\n",
    "    (\"Alice\", \"Prof Hub\"), (\"Bob\", \"Prof Hub\"),         # hub collaborator\n",
    "    (\"Alice\", \"Eve\"), (\"Bob\", \"Eve\"),                   # niche collaborator\n",
    "    (\"Charlie\", \"Prof Hub\"), (\"Charlie\", \"Dana\")        # another cluster\n",
    "])\n",
    "\n",
    "# 2️  Candidate pairs with no existing edge\n",
    "pairs = [(u, v) for u in G for v in G\n",
    "         if u < v and not G.has_edge(u, v)]\n",
    "\n",
    "# 3️  Compute Adamic–Adar\n",
    "aa = nx.adamic_adar_index(G, pairs)\n",
    "\n",
    "# 4️  Show ranked suggestions\n",
    "for u, v, score in sorted(aa, key=lambda t: t[2], reverse=True):\n",
    "    print(f\"{u:6} ↔ {v:6}  AA = {score:.3f}\")\n",
    "\n",
    "'''\n",
    "\n",
    "Eve    ↔ Prof Hub  AA = 2.885 is the strongest candidate\n",
    "Although “Prof Hub” has many connections, Eve is low-degree and therefore rare in the network; their shared neighbours are mostly Eve’s other collaborators, so the pair still scores highly.\n",
    " If you want to suppress hubs even further, try Resource Allocation or apply a post-filter that discards any pair involving nodes above a chosen degree threshold.\n",
    "'''"
   ]
  },
  {
   "cell_type": "markdown",
   "metadata": {},
   "source": [
    "#### Resource Allocation Index*"
   ]
  },
  {
   "cell_type": "code",
   "execution_count": 20,
   "metadata": {},
   "outputs": [
    {
     "name": "stdout",
     "output_type": "stream",
     "text": [
      "Top RA scores (higher ⇒ stronger recommendation):\n",
      "Eve     ↔ Prof Hub   RA = 1.000\n",
      "Alice   ↔ Bob        RA = 0.833\n",
      "Dana    ↔ Prof Hub   RA = 0.500\n",
      "Alice   ↔ Charlie    RA = 0.333\n",
      "Bob     ↔ Charlie    RA = 0.333\n",
      "Alice   ↔ Dana       RA = 0.000\n",
      "Bob     ↔ Dana       RA = 0.000\n",
      "Charlie ↔ Eve        RA = 0.000\n",
      "Dana    ↔ Eve        RA = 0.000\n"
     ]
    }
   ],
   "source": [
    "import networkx as nx\n",
    "\n",
    "# 1️⃣  Build a toy co-authorship graph\n",
    "G = nx.Graph()\n",
    "G.add_edges_from([\n",
    "    (\"Alice\",   \"Prof Hub\"),\n",
    "    (\"Bob\",     \"Prof Hub\"),\n",
    "    (\"Charlie\", \"Prof Hub\"),\n",
    "    (\"Alice\",   \"Eve\"),\n",
    "    (\"Bob\",     \"Eve\"),\n",
    "    (\"Charlie\", \"Dana\"),\n",
    "])\n",
    "\n",
    "# 2️⃣  Candidate pairs = no existing edge\n",
    "pairs = [(u, v) for u in G for v in G\n",
    "         if u < v and not G.has_edge(u, v)]\n",
    "\n",
    "# 3️⃣  Compute Resource Allocation Index\n",
    "ra = nx.resource_allocation_index(G, pairs)\n",
    "\n",
    "# 4️⃣  Rank and display top suggestions\n",
    "print(\"Top RA scores (higher ⇒ stronger recommendation):\")\n",
    "for u, v, score in sorted(ra, key=lambda t: t[2], reverse=True):\n",
    "    print(f\"{u:7} ↔ {v:9}  RA = {score:.3f}\")"
   ]
  },
  {
   "cell_type": "markdown",
   "metadata": {},
   "source": [
    "#### Preferential attachement\n"
   ]
  },
  {
   "cell_type": "code",
   "execution_count": 21,
   "metadata": {},
   "outputs": [
    {
     "name": "stdout",
     "output_type": "stream",
     "text": [
      "Pairs ranked by Preferential Attachment (highest first)\n",
      "Eve     ↔ Prof Hub   PA = 6\n",
      "Alice   ↔ Bob        PA = 4\n",
      "Alice   ↔ Charlie    PA = 4\n",
      "Bob     ↔ Charlie    PA = 4\n",
      "Charlie ↔ Eve        PA = 4\n",
      "Dana    ↔ Prof Hub   PA = 3\n",
      "Alice   ↔ Dana       PA = 2\n",
      "Bob     ↔ Dana       PA = 2\n",
      "Dana    ↔ Eve        PA = 2\n"
     ]
    }
   ],
   "source": [
    "import networkx as nx\n",
    "\n",
    "# -- same graph as before ------------------------------------\n",
    "G = nx.Graph()\n",
    "G.add_edges_from([\n",
    "    (\"Alice\",   \"Prof Hub\"),\n",
    "    (\"Bob\",     \"Prof Hub\"),\n",
    "    (\"Charlie\", \"Prof Hub\"),\n",
    "    (\"Alice\",   \"Eve\"),\n",
    "    (\"Bob\",     \"Eve\"),\n",
    "    (\"Charlie\", \"Dana\")\n",
    "])\n",
    "\n",
    "# candidate pairs without an existing edge\n",
    "pairs = [(u, v) for u in G for v in G\n",
    "         if u < v and not G.has_edge(u, v)]\n",
    "\n",
    "# preferential-attachment generator\n",
    "pa = nx.preferential_attachment(G, pairs)   # yields (u, v, score)\n",
    "\n",
    "# sort & show\n",
    "print(\"Pairs ranked by Preferential Attachment (highest first)\")\n",
    "for u, v, score in sorted(pa, key=lambda t: t[2], reverse=True):\n",
    "    print(f\"{u:<7} ↔ {v:<9}  PA = {score}\")"
   ]
  },
  {
   "cell_type": "markdown",
   "metadata": {},
   "source": [
    "#### SALTON"
   ]
  },
  {
   "cell_type": "code",
   "execution_count": null,
   "metadata": {},
   "outputs": [],
   "source": [
    "import networkx as nx\n",
    "import math\n",
    "\n",
    "# --- build the same graph -----------------------------------\n",
    "G = nx.Graph()\n",
    "G.add_edges_from([\n",
    "    (\"Alice\",   \"Prof Hub\"),\n",
    "    (\"Bob\",     \"Prof Hub\"),\n",
    "    (\"Charlie\", \"Prof Hub\"),\n",
    "    (\"Alice\",   \"Eve\"),\n",
    "    (\"Bob\",     \"Eve\"),\n",
    "    (\"Charlie\", \"Dana\")\n",
    "])\n",
    "\n",
    "# candidate pairs with no current edge\n",
    "pairs = [(u, v) for u in G for v in G\n",
    "         if u < v and not G.has_edge(u, v)]\n",
    "\n",
    "# --- Salton / Cosine index generator ------------------------\n",
    "def salton_index(G, ebunch):\n",
    "    for u, v in ebunch:\n",
    "        cn = len(set(G[u]) & set(G[v]))\n",
    "        denom = math.sqrt(G.degree(u) * G.degree(v))\n",
    "        yield (u, v, 0 if denom == 0 else cn / denom)\n",
    "\n",
    "# rank and display\n",
    "print(\"Pairs ranked by Salton / Cosine (highest first)\")\n",
    "for u, v, score in sorted(salton_index(G, pairs),\n",
    "                          key=lambda t: t[2], reverse=True):\n",
    "    print(f\"{u:<7} ↔ {v:<9}  Salton = {score:.3f}\")"
   ]
  },
  {
   "cell_type": "markdown",
   "metadata": {},
   "source": [
    "##### Salton / cosine index"
   ]
  },
  {
   "cell_type": "code",
   "execution_count": null,
   "metadata": {},
   "outputs": [],
   "source": [
    "import networkx as nx\n",
    "\n",
    "# 1️⃣  Toy membership data  -----------------------------------\n",
    "subs = {\n",
    "    \"r/Python\":   {\"alice\", \"bob\", \"claire\", \"dennis\"},\n",
    "    \"r/DataSci\":  {\"alice\", \"bob\", \"eva\", \"frank\"},\n",
    "    \"r/AI\":       {\"alice\", \"bob\", \"claire\", \"eva\", \"frank\", \"gina\"},\n",
    "    \"r/Funny\":    {\"alice\", \"bob\", \"claire\", \"dennis\", \"eva\",\n",
    "                   \"frank\", \"gina\", \"henry\", \"ida\", \"john\"},\n",
    "}\n",
    "\n",
    "# 2️⃣  Project down to a graph whose edge weight is SD --------\n",
    "G = nx.Graph()\n",
    "for a, users_a in subs.items():\n",
    "    for b, users_b in subs.items():\n",
    "        if a < b:                          # one direction only\n",
    "            overlap = len(users_a & users_b)\n",
    "            sd = 2 * overlap / (len(users_a) + len(users_b))\n",
    "            if sd > 0:                     # keep only pairs with some overlap\n",
    "                G.add_edge(a, b, weight=sd)\n",
    "\n",
    "# 3️⃣  Recommend similar communities for r/Python -------------\n",
    "target = \"r/Python\"\n",
    "recommend = sorted(\n",
    "    ((nbr, G[target][nbr][\"weight\"]) for nbr in G.neighbors(target)),\n",
    "    key=lambda t: t[1],\n",
    "    reverse=True\n",
    ")\n",
    "\n",
    "print(\"Suggested subreddits for r/Python\")\n",
    "for sub, score in recommend:\n",
    "    print(f\"  • {sub:<10}  (Sorensen–Dice = {score:.2f})\")"
   ]
  },
  {
   "cell_type": "code",
   "execution_count": null,
   "metadata": {},
   "outputs": [],
   "source": [
    "\n",
    "# 💼 Compliance Project: Suspicious Transaction Prediction\n",
    "\n",
    "##### 🗺️ **Context**\n",
    "- **Graph**: Transaction network\n",
    "  - **Nodes** = Bank accounts or customers\n",
    "  - **Edges** = Money transfers\n",
    "\n",
    "##### 🎯 **Goal**\n",
    "Predict **suspicious or hidden links** (potential illicit transactions).\n",
    "\n",
    "---\n",
    "\n",
    "##### ⚡ **Why not only classic ML?**\n",
    "- Flat tables miss **graph structure** (e.g., indirect paths).\n",
    "- Need to capture hidden connections and network behavior.\n",
    "\n",
    "---\n",
    "\n",
    "##### 🔗 **Graph approach: node2vec**\n",
    "\n",
    "###### ✅ **What it does**\n",
    "1. Runs random walks to explore graph neighborhoods.\n",
    "2. Learns a **vector (embedding)** for each account.\n",
    "3. Similar graph contexts → similar vectors.\n",
    "\n",
    "---\n",
    "\n",
    "##### ⚖️ **How to use embeddings**\n",
    "\n",
    "###### ➕ **Combine with features**\n",
    "- Transaction amounts\n",
    "- KYC scores\n",
    "- Transfer frequency\n",
    "\n",
    "###### ⚙️ **Train ML model**\n",
    "- Input: [tabular features + embeddings]\n",
    "- Target: suspicious or normal label\n",
    "\n",
    "---\n",
    "\n",
    "##### ✅ **Benefits**\n",
    "- Finds hidden risky accounts with no direct links.\n",
    "- Highlights possible collusion paths.\n",
    "- Helps compliance teams proactively investigate.\n",
    "\n",
    "---\n",
    "\n",
    "##### 💬 **Summary**\n",
    "> *We build a transaction graph, generate node2vec embeddings to capture hidden relationships, and combine them with classical features to train a model for suspicious link prediction.*"
   ]
  }
 ],
 "metadata": {
  "kernelspec": {
   "display_name": ".venv",
   "language": "python",
   "name": "python3"
  },
  "language_info": {
   "codemirror_mode": {
    "name": "ipython",
    "version": 3
   },
   "file_extension": ".py",
   "mimetype": "text/x-python",
   "name": "python",
   "nbconvert_exporter": "python",
   "pygments_lexer": "ipython3",
   "version": "3.12.6"
  }
 },
 "nbformat": 4,
 "nbformat_minor": 2
}
