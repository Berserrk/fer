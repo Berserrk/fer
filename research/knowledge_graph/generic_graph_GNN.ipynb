{
 "cells": [
  {
   "cell_type": "code",
   "execution_count": 2,
   "metadata": {},
   "outputs": [
    {
     "name": "stdout",
     "output_type": "stream",
     "text": [
      "2.6.0\n"
     ]
    }
   ],
   "source": [
    "import torch\n",
    "print(torch.__version__)"
   ]
  },
  {
   "cell_type": "markdown",
   "metadata": {},
   "source": [
    "✅ What this script does\n",
    "\n",
    "✅ Creates a transaction graph from your example.\n",
    "✅ Assigns example node features.\n",
    "✅ Builds a PyTorch Geometric Data object.\n",
    "✅ Defines and trains a small GraphSAGE GNN.\n",
    "✅ Prints all key tables (features, edge index, final suspicion scores)."
   ]
  },
  {
   "cell_type": "code",
   "execution_count": 5,
   "metadata": {},
   "outputs": [
    {
     "name": "stdout",
     "output_type": "stream",
     "text": [
      "🔎 Transactions table:\n",
      "  from_account to_account  amount\n",
      "0            A          B     500\n",
      "1            A          C     200\n",
      "2            B          D     700\n",
      "3            C          D     300 \n",
      "\n"
     ]
    }
   ],
   "source": [
    "import torch\n",
    "import torch.nn.functional as F\n",
    "from torch_geometric.data import Data\n",
    "from torch_geometric.nn import SAGEConv\n",
    "import pandas as pd\n",
    "import networkx as nx\n",
    "from sklearn.preprocessing import LabelEncoder\n",
    "\n",
    "# ---------------------------------\n",
    "# Step 1: Create transactions data\n",
    "# ---------------------------------\n",
    "df = pd.DataFrame({\n",
    "    'from_account': [\"A\", \"A\", \"B\", \"C\"],\n",
    "    'to_account':   [\"B\", \"C\", \"D\", \"D\"],\n",
    "    'amount': [500, 200, 700, 300]\n",
    "})\n",
    "\n",
    "print(\"🔎 Transactions table:\")\n",
    "print(df, '\\n')\n",
    "\n"
   ]
  },
  {
   "cell_type": "code",
   "execution_count": 6,
   "metadata": {},
   "outputs": [
    {
     "name": "stdout",
     "output_type": "stream",
     "text": [
      "📄 Account features before encoding:\n",
      "  account  avg_amount  num_tx  risk_score\n",
      "0       A         350       2         0.2\n",
      "1       B         500       1         0.3\n",
      "2       C         200       1         0.3\n",
      "3       D           0       0         0.9 \n",
      "\n",
      "🟢 Node features matrix (x):\n",
      "tensor([[3.5000e+02, 2.0000e+00, 2.0000e-01],\n",
      "        [5.0000e+02, 1.0000e+00, 3.0000e-01],\n",
      "        [2.0000e+02, 1.0000e+00, 3.0000e-01],\n",
      "        [0.0000e+00, 0.0000e+00, 9.0000e-01]]) \n",
      "\n",
      "🔗 Edge index:\n",
      "tensor([[0, 0, 1, 2],\n",
      "        [1, 2, 3, 3]]) \n",
      "\n"
     ]
    },
    {
     "name": "stderr",
     "output_type": "stream",
     "text": [
      "/var/folders/dr/83m5p3m94s7gmtrc3_97lxvc0000gn/T/ipykernel_3012/2110555209.py:22: FutureWarning: Downcasting behavior in `replace` is deprecated and will be removed in a future version. To retain the old behavior, explicitly call `result.infer_objects(copy=False)`. To opt-in to the future behavior, set `pd.set_option('future.no_silent_downcasting', True)`\n",
      "  .replace(dict(zip(encoder.classes_, encoder.transform(encoder.classes_))))\n"
     ]
    }
   ],
   "source": [
    "# ---------------------------------\n",
    "# Step 2: Create graph and account list\n",
    "# ---------------------------------\n",
    "accounts = pd.unique(df[['from_account', 'to_account']].values.ravel())\n",
    "account_df = pd.DataFrame({'account': accounts})\n",
    "\n",
    "# Assign dummy node features\n",
    "account_df['avg_amount'] = [350, 500, 200, 0]  # Placeholder features\n",
    "account_df['num_tx'] = [2, 1, 1, 0]\n",
    "account_df['risk_score'] = [0.2, 0.3, 0.3, 0.9]\n",
    "\n",
    "print(\"📄 Account features before encoding:\")\n",
    "print(account_df, '\\n')\n",
    "\n",
    "# Encode account names to indices\n",
    "encoder = LabelEncoder()\n",
    "account_df['account_idx'] = encoder.fit_transform(account_df['account'])\n",
    "\n",
    "# Build edge index\n",
    "edge_index = torch.tensor(\n",
    "    df[['from_account', 'to_account']]\n",
    "    .replace(dict(zip(encoder.classes_, encoder.transform(encoder.classes_))))\n",
    "    .values.T,\n",
    "    dtype=torch.long\n",
    ")\n",
    "\n",
    "# Create node feature matrix\n",
    "x = torch.tensor(account_df[['avg_amount', 'num_tx', 'risk_score']].values, dtype=torch.float)\n",
    "\n",
    "# Labels (1 = suspicious, 0 = normal)\n",
    "labels = torch.tensor([0, 0, 0, 1], dtype=torch.long)  # D is suspicious\n",
    "\n",
    "print(\"🟢 Node features matrix (x):\")\n",
    "print(x, '\\n')\n",
    "\n",
    "print(\"🔗 Edge index:\")\n",
    "print(edge_index, '\\n')"
   ]
  },
  {
   "cell_type": "code",
   "execution_count": 7,
   "metadata": {},
   "outputs": [],
   "source": [
    "\n",
    "# ---------------------------------\n",
    "# Step 3: Create PyG data object\n",
    "# ---------------------------------\n",
    "data = Data(x=x, edge_index=edge_index, y=labels)\n",
    "\n",
    "# ---------------------------------\n",
    "# Step 4: Define a simple GraphSAGE model\n",
    "# ---------------------------------\n",
    "class GNN(torch.nn.Module):\n",
    "    def __init__(self):\n",
    "        super(GNN, self).__init__()\n",
    "        self.conv1 = SAGEConv(3, 8)  # input features 3 → hidden 8\n",
    "        self.conv2 = SAGEConv(8, 2)  # hidden 8 → output classes 2\n",
    "\n",
    "    def forward(self, x, edge_index):\n",
    "        x = self.conv1(x, edge_index)\n",
    "        x = F.relu(x)\n",
    "        x = self.conv2(x, edge_index)\n",
    "        return x\n",
    "\n",
    "model = GNN()"
   ]
  },
  {
   "cell_type": "code",
   "execution_count": 8,
   "metadata": {},
   "outputs": [],
   "source": [
    "\n",
    "# ---------------------------------\n",
    "# Step 4: Define a simple GraphSAGE model\n",
    "# ---------------------------------\n",
    "class GNN(torch.nn.Module):\n",
    "    def __init__(self):\n",
    "        super(GNN, self).__init__()\n",
    "        self.conv1 = SAGEConv(3, 8)  # input features 3 → hidden 8\n",
    "        self.conv2 = SAGEConv(8, 2)  # hidden 8 → output classes 2\n",
    "\n",
    "    def forward(self, x, edge_index):\n",
    "        x = self.conv1(x, edge_index)\n",
    "        x = F.relu(x)\n",
    "        x = self.conv2(x, edge_index)\n",
    "        return x\n",
    "\n",
    "model = GNN()"
   ]
  },
  {
   "cell_type": "code",
   "execution_count": 9,
   "metadata": {},
   "outputs": [
    {
     "name": "stdout",
     "output_type": "stream",
     "text": [
      "Epoch 0, Loss: 1.1621\n",
      "Epoch 10, Loss: 0.0000\n",
      "Epoch 20, Loss: 0.0000\n",
      "Epoch 30, Loss: 0.0000\n",
      "Epoch 40, Loss: 0.0000\n"
     ]
    }
   ],
   "source": [
    "\n",
    "# ---------------------------------\n",
    "# Step 5: Train the GNN\n",
    "# ---------------------------------\n",
    "optimizer = torch.optim.Adam(model.parameters(), lr=0.01)\n",
    "criterion = torch.nn.CrossEntropyLoss()\n",
    "\n",
    "model.train()\n",
    "for epoch in range(50):\n",
    "    optimizer.zero_grad()\n",
    "    out = model(data.x, data.edge_index)\n",
    "    loss = criterion(out, data.y)\n",
    "    loss.backward()\n",
    "    optimizer.step()\n",
    "    if epoch % 10 == 0:\n",
    "        print(f\"Epoch {epoch}, Loss: {loss.item():.4f}\")"
   ]
  },
  {
   "cell_type": "code",
   "execution_count": 10,
   "metadata": {},
   "outputs": [
    {
     "name": "stdout",
     "output_type": "stream",
     "text": [
      "\n",
      "✅ Final account table with suspicion scores:\n",
      "  account  suspicion_score\n",
      "0       A     1.797408e-15\n",
      "1       B     0.000000e+00\n",
      "2       C     3.054020e-15\n",
      "3       D     1.000000e+00\n"
     ]
    }
   ],
   "source": [
    "# ---------------------------------\n",
    "# Step 6: Get predictions and scores\n",
    "# ---------------------------------\n",
    "model.eval()\n",
    "out = model(data.x, data.edge_index)\n",
    "probs = F.softmax(out, dim=1)[:, 1].detach().numpy()\n",
    "\n",
    "account_df['suspicion_score'] = probs\n",
    "\n",
    "print(\"\\n✅ Final account table with suspicion scores:\")\n",
    "print(account_df[['account', 'suspicion_score']])"
   ]
  },
  {
   "cell_type": "code",
   "execution_count": null,
   "metadata": {},
   "outputs": [],
   "source": []
  }
 ],
 "metadata": {
  "kernelspec": {
   "display_name": "berserk3",
   "language": "python",
   "name": "python3"
  },
  "language_info": {
   "codemirror_mode": {
    "name": "ipython",
    "version": 3
   },
   "file_extension": ".py",
   "mimetype": "text/x-python",
   "name": "python",
   "nbconvert_exporter": "python",
   "pygments_lexer": "ipython3",
   "version": "3.12.6"
  }
 },
 "nbformat": 4,
 "nbformat_minor": 2
}
