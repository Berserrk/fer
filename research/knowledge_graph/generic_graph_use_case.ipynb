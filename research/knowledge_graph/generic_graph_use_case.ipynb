{
 "cells": [
  {
   "cell_type": "markdown",
   "metadata": {},
   "source": [
    "#### Banking usecase : node2vec"
   ]
  },
  {
   "cell_type": "code",
   "execution_count": 1,
   "metadata": {},
   "outputs": [
    {
     "name": "stdout",
     "output_type": "stream",
     "text": [
      "Requirement already satisfied: node2vec in /Users/firaterman/Documents/fer/research/.venv/lib/python3.12/site-packages (0.5.0)\n",
      "Requirement already satisfied: gensim<5.0.0,>=4.3.0 in /Users/firaterman/Documents/fer/research/.venv/lib/python3.12/site-packages (from node2vec) (4.3.3)\n",
      "Requirement already satisfied: joblib<2.0.0,>=1.4.0 in /Users/firaterman/Documents/fer/research/.venv/lib/python3.12/site-packages (from node2vec) (1.5.1)\n",
      "Requirement already satisfied: networkx<4.0.0,>=3.1.0 in /Users/firaterman/Documents/fer/research/.venv/lib/python3.12/site-packages (from node2vec) (3.5)\n",
      "Requirement already satisfied: numpy<2.0.0,>=1.24.0 in /Users/firaterman/Documents/fer/research/.venv/lib/python3.12/site-packages (from node2vec) (1.26.4)\n",
      "Requirement already satisfied: tqdm<5.0.0,>=4.66.1 in /Users/firaterman/Documents/fer/research/.venv/lib/python3.12/site-packages (from node2vec) (4.67.1)\n",
      "Requirement already satisfied: scipy<1.14.0,>=1.7.0 in /Users/firaterman/Documents/fer/research/.venv/lib/python3.12/site-packages (from gensim<5.0.0,>=4.3.0->node2vec) (1.13.1)\n",
      "Requirement already satisfied: smart-open>=1.8.1 in /Users/firaterman/Documents/fer/research/.venv/lib/python3.12/site-packages (from gensim<5.0.0,>=4.3.0->node2vec) (7.3.0)\n",
      "Requirement already satisfied: wrapt in /Users/firaterman/Documents/fer/research/.venv/lib/python3.12/site-packages (from smart-open>=1.8.1->gensim<5.0.0,>=4.3.0->node2vec) (1.17.2)\n"
     ]
    }
   ],
   "source": [
    "! pip install node2vec"
   ]
  },
  {
   "cell_type": "code",
   "execution_count": 2,
   "metadata": {},
   "outputs": [
    {
     "name": "stdout",
     "output_type": "stream",
     "text": [
      "Requirement already satisfied: scikit-learn in /Users/firaterman/Documents/fer/research/.venv/lib/python3.12/site-packages (1.7.0)\n",
      "Requirement already satisfied: numpy>=1.22.0 in /Users/firaterman/Documents/fer/research/.venv/lib/python3.12/site-packages (from scikit-learn) (1.26.4)\n",
      "Requirement already satisfied: scipy>=1.8.0 in /Users/firaterman/Documents/fer/research/.venv/lib/python3.12/site-packages (from scikit-learn) (1.13.1)\n",
      "Requirement already satisfied: joblib>=1.2.0 in /Users/firaterman/Documents/fer/research/.venv/lib/python3.12/site-packages (from scikit-learn) (1.5.1)\n",
      "Requirement already satisfied: threadpoolctl>=3.1.0 in /Users/firaterman/Documents/fer/research/.venv/lib/python3.12/site-packages (from scikit-learn) (3.6.0)\n"
     ]
    }
   ],
   "source": [
    "!pip install scikit-learn"
   ]
  },
  {
   "cell_type": "markdown",
   "metadata": {},
   "source": []
  },
  {
   "cell_type": "code",
   "execution_count": 3,
   "metadata": {},
   "outputs": [
    {
     "name": "stderr",
     "output_type": "stream",
     "text": [
      "/Users/firaterman/Documents/fer/research/.venv/lib/python3.12/site-packages/tqdm/auto.py:21: TqdmWarning: IProgress not found. Please update jupyter and ipywidgets. See https://ipywidgets.readthedocs.io/en/stable/user_install.html\n",
      "  from .autonotebook import tqdm as notebook_tqdm\n"
     ]
    },
    {
     "name": "stdout",
     "output_type": "stream",
     "text": [
      "🔎 Transactions table:\n",
      "  from_account to_account  amount\n",
      "0            A          B     500\n",
      "1            A          C     200\n",
      "2            B          D     700\n",
      "3            C          D     300 \n",
      "\n"
     ]
    },
    {
     "name": "stderr",
     "output_type": "stream",
     "text": [
      "Computing transition probabilities: 100%|██████████| 4/4 [00:00<00:00, 12309.04it/s]\n",
      "Generating walks (CPU: 1): 100%|██████████| 10/10 [00:00<00:00, 64527.75it/s]"
     ]
    },
    {
     "name": "stdout",
     "output_type": "stream",
     "text": [
      "🧩 Embeddings table:\n",
      "  account     emb_1     emb_2     emb_3     emb_4\n",
      "0       A -0.113415  0.163851 -0.121504 -0.045400\n",
      "1       B -0.232574 -0.177920  0.161472  0.224325\n",
      "2       C -0.125386 -0.094084  0.184513 -0.038337\n",
      "3       D -0.013406  0.005911  0.127584  0.225232 \n",
      "\n",
      "📄 Features table before embeddings:\n",
      "  account  avg_amount_out  num_transfers  risk_score\n",
      "0       A           350.0            2.0         0.2\n",
      "1       B           700.0            1.0         0.3\n",
      "2       C           300.0            1.0         0.3\n",
      "3       D             0.0            0.0         0.9 \n",
      "\n",
      "🧾 Full table with features + embeddings:\n",
      "  account  avg_amount_out  num_transfers  risk_score     emb_1     emb_2  \\\n",
      "0       A           350.0            2.0         0.2 -0.113415  0.163851   \n",
      "1       B           700.0            1.0         0.3 -0.232574 -0.177920   \n",
      "2       C           300.0            1.0         0.3 -0.125386 -0.094084   \n",
      "3       D             0.0            0.0         0.9 -0.013406  0.005911   \n",
      "\n",
      "      emb_3     emb_4  \n",
      "0 -0.121504 -0.045400  \n",
      "1  0.161472  0.224325  \n",
      "2  0.184513 -0.038337  \n",
      "3  0.127584  0.225232   \n",
      "\n",
      "🏷️ Table with labels:\n",
      "  account  avg_amount_out  num_transfers  risk_score     emb_1     emb_2  \\\n",
      "0       A           350.0            2.0         0.2 -0.113415  0.163851   \n",
      "1       B           700.0            1.0         0.3 -0.232574 -0.177920   \n",
      "2       C           300.0            1.0         0.3 -0.125386 -0.094084   \n",
      "3       D             0.0            0.0         0.9 -0.013406  0.005911   \n",
      "\n",
      "      emb_3     emb_4  label  \n",
      "0 -0.121504 -0.045400      0  \n",
      "1  0.161472  0.224325      0  \n",
      "2  0.184513 -0.038337      0  \n",
      "3  0.127584  0.225232      1   \n",
      "\n",
      "✅ Final results with suspicion scores:\n",
      "  account  suspicion_score\n",
      "0       A             0.08\n",
      "1       B             0.06\n",
      "2       C             0.02\n",
      "3       D             0.71\n"
     ]
    },
    {
     "name": "stderr",
     "output_type": "stream",
     "text": [
      "\n"
     ]
    }
   ],
   "source": [
    "import pandas as pd\n",
    "import networkx as nx\n",
    "from node2vec import Node2Vec\n",
    "from sklearn.ensemble import RandomForestClassifier\n",
    "\n",
    "# ---------------------------------\n",
    "# Step 1: Create transactions data\n",
    "# ---------------------------------\n",
    "df = pd.DataFrame({\n",
    "    'from_account': [\"A\", \"A\", \"B\", \"C\"],\n",
    "    'to_account':   [\"B\", \"C\", \"D\", \"D\"],\n",
    "    'amount': [500, 200, 700, 300]\n",
    "})\n",
    "\n",
    "print(\"🔎 Transactions table:\")\n",
    "print(df, '\\n')\n",
    "\n",
    "# Collect all unique accounts\n",
    "all_accounts = pd.DataFrame({'account': pd.unique(df[['from_account', 'to_account']].values.ravel())})\n",
    "\n",
    "# ---------------------------------git\n",
    "# Step 2: Build transaction graph\n",
    "# ---------------------------------\n",
    "G = nx.DiGraph()\n",
    "G.add_edges_from(zip(df['from_account'], df['to_account']))\n",
    "\n",
    "# ---------------------------------\n",
    "# Step 3: Generate node2vec embeddings\n",
    "# ---------------------------------\n",
    "'''\n",
    "✔️ num_walks controls how many “sentences” each node contributes.\t•\tThe number of walks you start from each node.If you set 10, each node generates 10 random walk sequences.\n",
    "✔️ walk_length controls how long each “sentence” is.\n",
    "✔️ dimensions controls how much “space” each node has to encode its context.After training, each node becomes a point in a dimensions-dimensional space. Each node vector has 2 values, so you can plot them directly in 2D.\n",
    "Node A embedding (example): [0.12, -0.08]\n",
    "Example: num_walks = 2, walk_length = 3 \n",
    "Walk 1: A → B → D → C\n",
    "Walk 2: A → C → D → B\n",
    "if more walk length than node then go back \n",
    "\t•\tLow num_walks (e.g., 2): less context variety, fewer samples.\n",
    "\t•\tHigh num_walks (e.g., 10 or 20): more robust learning, better node context representation.\n",
    "'''\n",
    "node2vec = Node2Vec(G, dimensions=4, walk_length=5, num_walks=10, workers=1, seed=42)\n",
    "model = node2vec.fit(window=3, min_count=1)\n",
    "\n",
    "embeddings = pd.DataFrame(\n",
    "    [model.wv[str(node)] for node in G.nodes()],\n",
    "    index=G.nodes()\n",
    ")\n",
    "embeddings.columns = [f'emb_{i+1}' for i in range(embeddings.shape[1])]\n",
    "embeddings.reset_index(inplace=True)\n",
    "embeddings.rename(columns={'index': 'account'}, inplace=True)\n",
    "\n",
    "print(\"🧩 Embeddings table:\")\n",
    "print(embeddings, '\\n')\n",
    "\n",
    "# ---------------------------------\n",
    "# Step 4: Compute features\n",
    "# ---------------------------------\n",
    "avg_amount = df.groupby('from_account')['amount'].mean().reset_index()\n",
    "avg_amount.rename(columns={'from_account': 'account', 'amount': 'avg_amount_out'}, inplace=True)\n",
    "\n",
    "num_tx = df.groupby('from_account').size().reset_index(name='num_transfers')\n",
    "num_tx.rename(columns={'from_account': 'account'}, inplace=True)\n",
    "\n",
    "# Merge to all accounts to avoid dropping receivers\n",
    "features_df = all_accounts.merge(avg_amount, on='account', how='left')\n",
    "features_df = features_df.merge(num_tx, on='account', how='left')\n",
    "\n",
    "# Fill missing values (accounts with only incoming transfers)\n",
    "features_df['avg_amount_out'] = features_df['avg_amount_out'].fillna(0)\n",
    "features_df['num_transfers'] = features_df['num_transfers'].fillna(0)\n",
    "\n",
    "# Dummy risk score\n",
    "features_df['risk_score'] = [0.2, 0.3, 0.3, 0.9]  # Example for A, B, C, D\n",
    "\n",
    "print(\"📄 Features table before embeddings:\")\n",
    "print(features_df, '\\n')\n",
    "\n",
    "# Merge embeddings\n",
    "full_df = features_df.merge(embeddings, on='account', how='left')\n",
    "\n",
    "print(\"🧾 Full table with features + embeddings:\")\n",
    "print(full_df, '\\n')\n",
    "\n",
    "# ---------------------------------\n",
    "# Step 5: Add labels\n",
    "# ---------------------------------\n",
    "labels = pd.DataFrame({\n",
    "    'account': ['A', 'B', 'C', 'D'],\n",
    "    'label': [0, 0, 0, 1]  # D marked as suspicious\n",
    "})\n",
    "final_df = full_df.merge(labels, on='account', how='left')\n",
    "\n",
    "print(\"🏷️ Table with labels:\")\n",
    "print(final_df, '\\n')\n",
    "\n",
    "# ---------------------------------\n",
    "# Step 6: Prepare for ML\n",
    "# ---------------------------------\n",
    "X = final_df.drop(columns=['account', 'label'])\n",
    "y = final_df['label']\n",
    "\n",
    "model = RandomForestClassifier(random_state=42)\n",
    "model.fit(X, y)\n",
    "\n",
    "# Predict suspicion scores\n",
    "pred_probs = model.predict_proba(X)[:, 1]\n",
    "final_df['suspicion_score'] = pred_probs\n",
    "\n",
    "# ---------------------------------\n",
    "# Step 7: Output final results\n",
    "# ---------------------------------\n",
    "print(\"✅ Final results with suspicion scores:\")\n",
    "print(final_df[['account', 'suspicion_score']])"
   ]
  },
  {
   "cell_type": "code",
   "execution_count": null,
   "metadata": {},
   "outputs": [],
   "source": []
  }
 ],
 "metadata": {
  "kernelspec": {
   "display_name": ".venv",
   "language": "python",
   "name": "python3"
  },
  "language_info": {
   "codemirror_mode": {
    "name": "ipython",
    "version": 3
   },
   "file_extension": ".py",
   "mimetype": "text/x-python",
   "name": "python",
   "nbconvert_exporter": "python",
   "pygments_lexer": "ipython3",
   "version": "3.12.6"
  }
 },
 "nbformat": 4,
 "nbformat_minor": 2
}
