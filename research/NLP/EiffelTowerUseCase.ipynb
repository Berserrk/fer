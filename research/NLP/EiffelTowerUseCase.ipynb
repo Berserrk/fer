{
 "cells": [
  {
   "cell_type": "markdown",
   "metadata": {},
   "source": [
    "### RAG stacks + ollama + Store in Vector Db"
   ]
  },
  {
   "cell_type": "code",
   "execution_count": null,
   "metadata": {},
   "outputs": [
    {
     "name": "stdout",
     "output_type": "stream",
     "text": [
      "Paris.\n"
     ]
    }
   ],
   "source": [
    "from langchain.text_splitter import RecursiveCharacterTextSplitter\n",
    "from langchain.vectorstores import FAISS\n",
    "from langchain.embeddings import HuggingFaceEmbeddings\n",
    "from langchain.llms import Ollama\n",
    "\n",
    "# Example document\n",
    "document_text = \"\"\"\n",
    "The Eiffel Tower was built in 1889 in Paris. It stands 324 meters tall and is one of the most visited monuments in the world.\n",
    "It was originally constructed as a temporary exhibit for the 1889 World's Fair.\n",
    "\"\"\"\n",
    "\n",
    "# Split into chunks\n",
    "splitter = RecursiveCharacterTextSplitter(chunk_size=100, chunk_overlap=20)\n",
    "chunks = splitter.split_text(document_text)\n",
    "\n",
    "# Create embeddings\n",
    "embeddings = HuggingFaceEmbeddings(model_name=\"sentence-transformers/all-MiniLM-L6-v2\")\n",
    "\n",
    "# Store in FAISS\n",
    "vector_db = FAISS.from_texts(chunks, embedding=embeddings)\n",
    "\n",
    "# Query example\n",
    "query = \"Tell me where is the Eiffel tower?\"\n",
    "similar_docs = vector_db.similarity_search(query, k=2)\n",
    "context_text = \"\\n\".join([doc.page_content for doc in similar_docs])\n",
    "\n",
    "# Use LLaMA 3 via Ollama\n",
    "llm = Ollama(model=\"llama3.1\")\n",
    "\n",
    "final_prompt = f\"\"\"\n",
    "Answer the question using the context below. If the answer is not found, say \"I don't know.\"\n",
    "\n",
    "Context:\n",
    "{context_text}\n",
    "\n",
    "Question: {query}\n",
    "Answer:\n",
    "\"\"\"\n",
    "\n",
    "response = llm(final_prompt)\n",
    "print(response)"
   ]
  },
  {
   "cell_type": "code",
   "execution_count": null,
   "metadata": {},
   "outputs": [],
   "source": [
    "# to inspect list in the stored chunks\n",
    "\n",
    "ids = list(vector_db.docstore._dict.keys())\n",
    "\n",
    "for doc_id in ids:\n",
    "    "
   ]
  },
  {
   "cell_type": "code",
   "execution_count": null,
   "metadata": {},
   "outputs": [],
   "source": []
  }
 ],
 "metadata": {
  "kernelspec": {
   "display_name": "berserk3",
   "language": "python",
   "name": "python3"
  },
  "language_info": {
   "codemirror_mode": {
    "name": "ipython",
    "version": 3
   },
   "file_extension": ".py",
   "mimetype": "text/x-python",
   "name": "python",
   "nbconvert_exporter": "python",
   "pygments_lexer": "ipython3",
   "version": "3.12.6"
  }
 },
 "nbformat": 4,
 "nbformat_minor": 2
}
