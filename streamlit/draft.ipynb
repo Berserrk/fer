{
 "cells": [
  {
   "cell_type": "code",
   "execution_count": 174,
   "metadata": {},
   "outputs": [],
   "source": [
    "import json\n",
    "import pandas as pd\n",
    "\n",
    "with open('categories_label.json', 'r') as f:\n",
    "    categories_label = json.load(f)"
   ]
  },
  {
   "cell_type": "code",
   "execution_count": 175,
   "metadata": {},
   "outputs": [
    {
     "data": {
      "text/plain": [
       "{'Germany': {'continent': 'Europe', 'activities': ['Restaurant']},\n",
       " 'France': {'continent': 'Europe', 'activities': ['Restaurant']},\n",
       " 'Italy': {'continent': 'Europe', 'activities': ['Restaurant']},\n",
       " 'Spain': {'continent': 'Europe', 'activities': ['Restaurant']},\n",
       " 'Portugal': {'continent': 'Europe', 'activities': ['no label']},\n",
       " 'Netherlands': {'continent': 'Europe', 'activities': ['Restaurant']},\n",
       " 'Belgium': {'continent': 'Europe',\n",
       "  'activities': ['Restaurant', 'Plane', 'Gym']},\n",
       " 'Switzerland': {'continent': 'Europe', 'activities': ['Restaurant', 'sport']},\n",
       " 'Brazil': {'continent': 'South America',\n",
       "  'activities': ['Restaurant', 'Sao Paulo']},\n",
       " 'Argentina': {'continent': 'South America',\n",
       "  'activities': ['Restaurant', 'sport', 'Cinema']},\n",
       " 'Colombia': {'continent': 'South America',\n",
       "  'activities': ['Restaurant', 'sport']},\n",
       " 'Chile': {'continent': 'South America',\n",
       "  'activities': ['Restaurant', 'sport']},\n",
       " 'Peru': {'continent': 'South America', 'activities': ['Restaurant', 'sport']}}"
      ]
     },
     "execution_count": 175,
     "metadata": {},
     "output_type": "execute_result"
    }
   ],
   "source": [
    "categories_label"
   ]
  },
  {
   "cell_type": "code",
   "execution_count": 176,
   "metadata": {},
   "outputs": [
    {
     "data": {
      "text/plain": [
       "['Cinema', 'Gym', 'Plane', 'Restaurant', 'Sao Paulo', 'no label', 'sport']"
      ]
     },
     "execution_count": 176,
     "metadata": {},
     "output_type": "execute_result"
    }
   ],
   "source": [
    "all_activities = set()\n",
    "for country_info in categories_label.values():\n",
    "    all_activities.update(country_info[\"activities\"])\n",
    "all_activities = sorted(all_activities)\n",
    "\n",
    "all_activities"
   ]
  },
  {
   "cell_type": "code",
   "execution_count": 177,
   "metadata": {},
   "outputs": [
    {
     "data": {
      "text/html": [
       "<div>\n",
       "<style scoped>\n",
       "    .dataframe tbody tr th:only-of-type {\n",
       "        vertical-align: middle;\n",
       "    }\n",
       "\n",
       "    .dataframe tbody tr th {\n",
       "        vertical-align: top;\n",
       "    }\n",
       "\n",
       "    .dataframe thead th {\n",
       "        text-align: right;\n",
       "    }\n",
       "</style>\n",
       "<table border=\"1\" class=\"dataframe\">\n",
       "  <thead>\n",
       "    <tr style=\"text-align: right;\">\n",
       "      <th></th>\n",
       "      <th>Country</th>\n",
       "      <th>Cinema</th>\n",
       "      <th>Gym</th>\n",
       "      <th>Plane</th>\n",
       "      <th>Restaurant</th>\n",
       "      <th>Sao Paulo</th>\n",
       "      <th>no label</th>\n",
       "      <th>sport</th>\n",
       "    </tr>\n",
       "  </thead>\n",
       "  <tbody>\n",
       "    <tr>\n",
       "      <th>0</th>\n",
       "      <td>Germany</td>\n",
       "      <td>False</td>\n",
       "      <td>False</td>\n",
       "      <td>False</td>\n",
       "      <td>True</td>\n",
       "      <td>False</td>\n",
       "      <td>False</td>\n",
       "      <td>False</td>\n",
       "    </tr>\n",
       "    <tr>\n",
       "      <th>1</th>\n",
       "      <td>France</td>\n",
       "      <td>False</td>\n",
       "      <td>False</td>\n",
       "      <td>False</td>\n",
       "      <td>True</td>\n",
       "      <td>False</td>\n",
       "      <td>False</td>\n",
       "      <td>False</td>\n",
       "    </tr>\n",
       "    <tr>\n",
       "      <th>2</th>\n",
       "      <td>Italy</td>\n",
       "      <td>False</td>\n",
       "      <td>False</td>\n",
       "      <td>False</td>\n",
       "      <td>True</td>\n",
       "      <td>False</td>\n",
       "      <td>False</td>\n",
       "      <td>False</td>\n",
       "    </tr>\n",
       "    <tr>\n",
       "      <th>3</th>\n",
       "      <td>Spain</td>\n",
       "      <td>False</td>\n",
       "      <td>False</td>\n",
       "      <td>False</td>\n",
       "      <td>True</td>\n",
       "      <td>False</td>\n",
       "      <td>False</td>\n",
       "      <td>False</td>\n",
       "    </tr>\n",
       "    <tr>\n",
       "      <th>4</th>\n",
       "      <td>Portugal</td>\n",
       "      <td>False</td>\n",
       "      <td>False</td>\n",
       "      <td>False</td>\n",
       "      <td>False</td>\n",
       "      <td>False</td>\n",
       "      <td>True</td>\n",
       "      <td>False</td>\n",
       "    </tr>\n",
       "    <tr>\n",
       "      <th>5</th>\n",
       "      <td>Netherlands</td>\n",
       "      <td>False</td>\n",
       "      <td>False</td>\n",
       "      <td>False</td>\n",
       "      <td>True</td>\n",
       "      <td>False</td>\n",
       "      <td>False</td>\n",
       "      <td>False</td>\n",
       "    </tr>\n",
       "    <tr>\n",
       "      <th>6</th>\n",
       "      <td>Belgium</td>\n",
       "      <td>False</td>\n",
       "      <td>True</td>\n",
       "      <td>True</td>\n",
       "      <td>True</td>\n",
       "      <td>False</td>\n",
       "      <td>False</td>\n",
       "      <td>False</td>\n",
       "    </tr>\n",
       "    <tr>\n",
       "      <th>7</th>\n",
       "      <td>Switzerland</td>\n",
       "      <td>False</td>\n",
       "      <td>False</td>\n",
       "      <td>False</td>\n",
       "      <td>True</td>\n",
       "      <td>False</td>\n",
       "      <td>False</td>\n",
       "      <td>True</td>\n",
       "    </tr>\n",
       "    <tr>\n",
       "      <th>8</th>\n",
       "      <td>Brazil</td>\n",
       "      <td>False</td>\n",
       "      <td>False</td>\n",
       "      <td>False</td>\n",
       "      <td>True</td>\n",
       "      <td>True</td>\n",
       "      <td>False</td>\n",
       "      <td>False</td>\n",
       "    </tr>\n",
       "    <tr>\n",
       "      <th>9</th>\n",
       "      <td>Argentina</td>\n",
       "      <td>True</td>\n",
       "      <td>False</td>\n",
       "      <td>False</td>\n",
       "      <td>True</td>\n",
       "      <td>False</td>\n",
       "      <td>False</td>\n",
       "      <td>True</td>\n",
       "    </tr>\n",
       "    <tr>\n",
       "      <th>10</th>\n",
       "      <td>Colombia</td>\n",
       "      <td>False</td>\n",
       "      <td>False</td>\n",
       "      <td>False</td>\n",
       "      <td>True</td>\n",
       "      <td>False</td>\n",
       "      <td>False</td>\n",
       "      <td>True</td>\n",
       "    </tr>\n",
       "    <tr>\n",
       "      <th>11</th>\n",
       "      <td>Chile</td>\n",
       "      <td>False</td>\n",
       "      <td>False</td>\n",
       "      <td>False</td>\n",
       "      <td>True</td>\n",
       "      <td>False</td>\n",
       "      <td>False</td>\n",
       "      <td>True</td>\n",
       "    </tr>\n",
       "    <tr>\n",
       "      <th>12</th>\n",
       "      <td>Peru</td>\n",
       "      <td>False</td>\n",
       "      <td>False</td>\n",
       "      <td>False</td>\n",
       "      <td>True</td>\n",
       "      <td>False</td>\n",
       "      <td>False</td>\n",
       "      <td>True</td>\n",
       "    </tr>\n",
       "  </tbody>\n",
       "</table>\n",
       "</div>"
      ],
      "text/plain": [
       "        Country  Cinema    Gym  Plane  Restaurant  Sao Paulo  no label  sport\n",
       "0       Germany   False  False  False        True      False     False  False\n",
       "1        France   False  False  False        True      False     False  False\n",
       "2         Italy   False  False  False        True      False     False  False\n",
       "3         Spain   False  False  False        True      False     False  False\n",
       "4      Portugal   False  False  False       False      False      True  False\n",
       "5   Netherlands   False  False  False        True      False     False  False\n",
       "6       Belgium   False   True   True        True      False     False  False\n",
       "7   Switzerland   False  False  False        True      False     False   True\n",
       "8        Brazil   False  False  False        True       True     False  False\n",
       "9     Argentina    True  False  False        True      False     False   True\n",
       "10     Colombia   False  False  False        True      False     False   True\n",
       "11        Chile   False  False  False        True      False     False   True\n",
       "12         Peru   False  False  False        True      False     False   True"
      ]
     },
     "execution_count": 177,
     "metadata": {},
     "output_type": "execute_result"
    }
   ],
   "source": [
    "data = {\"Country\": []}\n",
    "for activity in all_activities:\n",
    "    data[activity] = []\n",
    "\n",
    "for country, info in categories_label.items():\n",
    "    row = {activity: True if activity in info[\"activities\"] else False for activity in all_activities}\n",
    "    row[\"Country\"] = country\n",
    "    data[\"Country\"].append(country)\n",
    "    for activity in all_activities:\n",
    "        data[activity].append(row[activity])\n",
    "\n",
    "df = pd.DataFrame(data)\n",
    "df"
   ]
  },
  {
   "cell_type": "code",
   "execution_count": 184,
   "metadata": {},
   "outputs": [
    {
     "name": "stdout",
     "output_type": "stream",
     "text": [
      "Executing: \n",
      "CREATE TABLE IF NOT EXISTS activities_table1(\n",
      "    Country VARCHAR,\n",
      "    \"Cinema\" BOOLEAN, \"Gym\" BOOLEAN, \"Plane\" BOOLEAN, \"Restaurant\" BOOLEAN, \"Sao Paulo\" BOOLEAN, \"no label\" BOOLEAN, \"sport\" BOOLEAN,\n",
      "    timestamp_date TIMESTAMP,\n",
      "    PRIMARY KEY (Country, timestamp_date)\n",
      ")\n",
      "\n",
      "Executing2: \n",
      "CREATE TABLE IF NOT EXISTS activities_table1(\n",
      "    Country VARCHAR,\n",
      "    \"Cinema\" BOOLEAN, \"Gym\" BOOLEAN, \"Plane\" BOOLEAN, \"Restaurant\" BOOLEAN, \"Sao Paulo\" BOOLEAN, \"no label\" BOOLEAN, \"sport\" BOOLEAN,\n",
      "    timestamp_date TIMESTAMP,\n",
      "    PRIMARY KEY (Country, timestamp_date)\n",
      ")\n",
      "\n"
     ]
    }
   ],
   "source": [
    "conn = duckdb.connect('activities.db')\n",
    "\n",
    "# Create the activities_table if it doesn't exist using BOOLEAN instead of INTEGER\n",
    "create_table_query = '''\n",
    "CREATE TABLE IF NOT EXISTS activities_table1(\n",
    "    Country VARCHAR,\n",
    "    {},\n",
    "    timestamp_date TIMESTAMP,\n",
    "    PRIMARY KEY (Country, timestamp_date)\n",
    ")\n",
    "'''.format(\", \".join([f'\"{activity}\" BOOLEAN' for activity in all_activities]))\n",
    "\n",
    "# Print the CREATE TABLE statement for debugging\n",
    "print(f\"Executing: {create_table_query}\")\n",
    "conn.execute(create_table_query)\n",
    "print(f\"Executing2: {create_table_query}\")\n"
   ]
  },
  {
   "cell_type": "code",
   "execution_count": 183,
   "metadata": {},
   "outputs": [],
   "source": [
    "import duckdb\n",
    "conn = duckdb.connect('activities.db')"
   ]
  },
  {
   "cell_type": "code",
   "execution_count": 185,
   "metadata": {},
   "outputs": [
    {
     "name": "stdout",
     "output_type": "stream",
     "text": [
      "Empty DataFrame\n",
      "Columns: [Country, Cinema, Gym, Plane, Restaurant, Sao Paulo, no label, sport, timestamp_date]\n",
      "Index: []\n"
     ]
    }
   ],
   "source": [
    "\n",
    "\n",
    "# Step 2: Execute a query to read data from the activities_table\n",
    "query = \"SELECT * FROM activities_table1\"\n",
    "\n",
    "# Step 3: Fetch the results\n",
    "# You can fetch results directly into a pandas DataFrame or a list of tuples\n",
    "df = conn.execute(query).fetchdf()  # This will return a DataFrame\n",
    "\n",
    "# Step 4: Print the DataFrame\n",
    "print(df)"
   ]
  },
  {
   "cell_type": "code",
   "execution_count": 189,
   "metadata": {},
   "outputs": [
    {
     "name": "stdout",
     "output_type": "stream",
     "text": [
      "Empty DataFrame\n",
      "Columns: [Country, Cinema, Gym, Plane, Restaurant, Sao Paulo, no label, sport, timestamp_date]\n",
      "Index: []\n"
     ]
    }
   ],
   "source": [
    "print(df)"
   ]
  },
  {
   "cell_type": "code",
   "execution_count": 188,
   "metadata": {},
   "outputs": [],
   "source": [
    "insert_data = []\n",
    "for _, row in df.iterrows():\n",
    "    country = row[\"Country\"].replace(\"'\", \"''\")  # Escape single quotes\n",
    "    print(country)\n",
    "    activities = tuple(bool(row[activity]) for activity in all_activities)  # Convert activities to booleans\n",
    "    current_timestamp = pd.Timestamp.now()  # Get current timestamp\n",
    "    print(current_timestamp)\n",
    "    # Prepare the data to insert: include country, activities, and timestamp\n",
    "    data_row = (country,) + activities + (current_timestamp,)\n",
    "    print(\"here\", data_row)\n",
    "    "
   ]
  },
  {
   "cell_type": "code",
   "execution_count": 187,
   "metadata": {},
   "outputs": [
    {
     "data": {
      "text/plain": [
       "[]"
      ]
     },
     "execution_count": 187,
     "metadata": {},
     "output_type": "execute_result"
    }
   ],
   "source": [
    "insert_data"
   ]
  },
  {
   "cell_type": "code",
   "execution_count": 172,
   "metadata": {},
   "outputs": [
    {
     "name": "stdout",
     "output_type": "stream",
     "text": [
      "Germany\n",
      "2024-10-01 15:59:26.786870\n",
      "here ('Germany', False, False, False, True, False, False, False, Timestamp('2024-10-01 15:59:26.786870'))\n"
     ]
    },
    {
     "ename": "BinderException",
     "evalue": "Binder Error: Referenced column \"timestamp\" not found in FROM clause!\nCandidate bindings: \"activities_table.Country\"\nLINE 1: ...ities_table WHERE Country = ? ORDER BY timestamp DESC LIMIT 1\n                                                  ^",
     "output_type": "error",
     "traceback": [
      "\u001b[0;31m---------------------------------------------------------------------------\u001b[0m",
      "\u001b[0;31mBinderException\u001b[0m                           Traceback (most recent call last)",
      "Cell \u001b[0;32mIn[172], line 14\u001b[0m\n\u001b[1;32m     12\u001b[0m \u001b[38;5;66;03m# Check if the last entry for this country is different\u001b[39;00m\n\u001b[1;32m     13\u001b[0m query \u001b[38;5;241m=\u001b[39m \u001b[38;5;124mf\u001b[39m\u001b[38;5;124m'\u001b[39m\u001b[38;5;124mSELECT * FROM activities_table WHERE Country = ? ORDER BY timestamp DESC LIMIT 1\u001b[39m\u001b[38;5;124m'\u001b[39m\n\u001b[0;32m---> 14\u001b[0m last_entry \u001b[38;5;241m=\u001b[39m \u001b[43mconn\u001b[49m\u001b[38;5;241;43m.\u001b[39;49m\u001b[43mexecute\u001b[49m\u001b[43m(\u001b[49m\u001b[43mquery\u001b[49m\u001b[43m,\u001b[49m\u001b[43m \u001b[49m\u001b[43m(\u001b[49m\u001b[43mcountry\u001b[49m\u001b[43m,\u001b[49m\u001b[43m)\u001b[49m\u001b[43m)\u001b[49m\u001b[38;5;241m.\u001b[39mfetchone()\n\u001b[1;32m     15\u001b[0m \u001b[38;5;28mprint\u001b[39m(\u001b[38;5;124m\"\u001b[39m\u001b[38;5;124mlast_entry\u001b[39m\u001b[38;5;124m\"\u001b[39m)\n\u001b[1;32m     17\u001b[0m \u001b[38;5;66;03m# Check if the last entry exists and if there is a change\u001b[39;00m\n",
      "\u001b[0;31mBinderException\u001b[0m: Binder Error: Referenced column \"timestamp\" not found in FROM clause!\nCandidate bindings: \"activities_table.Country\"\nLINE 1: ...ities_table WHERE Country = ? ORDER BY timestamp DESC LIMIT 1\n                                                  ^"
     ]
    }
   ],
   "source": [
    "insert_data = []\n",
    "for _, row in df.iterrows():\n",
    "    country = row[\"Country\"].replace(\"'\", \"''\")  # Escape single quotes\n",
    "    print(country)\n",
    "    activities = tuple(bool(row[activity]) for activity in all_activities)  # Convert activities to booleans\n",
    "    current_timestamp = pd.Timestamp.now()  # Get current timestamp\n",
    "    print(current_timestamp)\n",
    "    # Prepare the data to insert: include country, activities, and timestamp\n",
    "    data_row = (country,) + activities + (current_timestamp,)\n",
    "    print(\"here\", data_row)\n",
    "    \n",
    "    # Check if the last entry for this country is different\n",
    "    query = f'SELECT * FROM activities_table WHERE Country = ? ORDER BY timestamp DESC LIMIT 1'\n",
    "    last_entry = conn.execute(query, (country,)).fetchone()\n",
    "    print(\"last_entry\")\n",
    "\n",
    "    # Check if the last entry exists and if there is a change\n",
    "    if last_entry:\n",
    "        # Compare activities to see if there's a change\n",
    "        if last_entry[1:-1] != activities:  # Exclude Country and timestamp for comparison\n",
    "            insert_data.append(data_row)\n",
    "    else:\n",
    "        # If no previous entry, add the current data\n",
    "        insert_data.append(data_row)\n"
   ]
  },
  {
   "cell_type": "code",
   "execution_count": 156,
   "metadata": {},
   "outputs": [
    {
     "data": {
      "text/plain": [
       "[]"
      ]
     },
     "execution_count": 156,
     "metadata": {},
     "output_type": "execute_result"
    }
   ],
   "source": [
    "insert_data"
   ]
  },
  {
   "cell_type": "code",
   "execution_count": 157,
   "metadata": {},
   "outputs": [
    {
     "data": {
      "text/plain": [
       "(False, False, False, True, False, False, True)"
      ]
     },
     "execution_count": 157,
     "metadata": {},
     "output_type": "execute_result"
    }
   ],
   "source": [
    "activities"
   ]
  },
  {
   "cell_type": "code",
   "execution_count": 121,
   "metadata": {},
   "outputs": [
    {
     "ename": "NameError",
     "evalue": "name 'data_row' is not defined",
     "output_type": "error",
     "traceback": [
      "\u001b[0;31m---------------------------------------------------------------------------\u001b[0m",
      "\u001b[0;31mNameError\u001b[0m                                 Traceback (most recent call last)",
      "Cell \u001b[0;32mIn[121], line 1\u001b[0m\n\u001b[0;32m----> 1\u001b[0m \u001b[43mdata_row\u001b[49m\n",
      "\u001b[0;31mNameError\u001b[0m: name 'data_row' is not defined"
     ]
    }
   ],
   "source": [
    "data_row"
   ]
  },
  {
   "cell_type": "code",
   "execution_count": 195,
   "metadata": {},
   "outputs": [
    {
     "name": "stdout",
     "output_type": "stream",
     "text": [
      "Empty DataFrame\n",
      "Columns: [Country]\n",
      "Index: []\n"
     ]
    }
   ],
   "source": [
    "\n",
    "\n",
    "# Step 2: Execute a query to read data from the activities_table\n",
    "query = \"SELECT * FROM activities_table\"\n",
    "\n",
    "# Step 3: Fetch the results\n",
    "# You can fetch results directly into a pandas DataFrame or a list of tuples\n",
    "df = conn.execute(query).fetchdf()  # This will return a DataFrame\n",
    "\n",
    "# Step 4: Print the DataFrame\n",
    "print(df)"
   ]
  },
  {
   "cell_type": "code",
   "execution_count": 197,
   "metadata": {},
   "outputs": [
    {
     "name": "stdout",
     "output_type": "stream",
     "text": [
      "Empty DataFrame\n",
      "Columns: [Country]\n",
      "Index: []\n"
     ]
    }
   ],
   "source": [
    "import duckdb\n",
    "\n",
    "# Path to your .db file\n",
    "db_file = 'activities.db'\n",
    "\n",
    "# Connect to the DuckDB database\n",
    "connection = duckdb.connect(database=db_file)\n",
    "\n",
    "# Example: Query to fetch all records from a table (replace 'your_table_name' with your actual table name)\n",
    "query = 'SELECT * FROM activities_table'\n",
    "\n",
    "# Execute the query and fetch the results into a DataFrame\n",
    "df = connection.execute(query).fetchdf()\n",
    "\n",
    "# Print the DataFrame\n",
    "print(df)\n",
    "\n",
    "# Close the connection\n",
    "connection.close()"
   ]
  },
  {
   "cell_type": "code",
   "execution_count": 200,
   "metadata": {},
   "outputs": [
    {
     "name": "stdout",
     "output_type": "stream",
     "text": [
      "('Germany', 0, 0, 0, 0, 0, 0, 0, '2024-10-01T16:13:44.942545')\n",
      "('France', 0, 0, 0, 0, 0, 0, 0, '2024-10-01T16:13:44.942845')\n",
      "('Italy', 0, 0, 0, 1, 0, 0, 0, '2024-10-01T16:13:44.943064')\n",
      "('Spain', 0, 0, 0, 1, 0, 0, 0, '2024-10-01T16:13:44.943328')\n",
      "('Portugal', 0, 0, 0, 0, 0, 1, 0, '2024-10-01T16:13:44.943534')\n",
      "('Netherlands', 0, 0, 0, 1, 0, 0, 0, '2024-10-01T16:13:44.943736')\n",
      "('Belgium', 0, 1, 1, 1, 0, 0, 0, '2024-10-01T16:13:44.943928')\n",
      "('Switzerland', 0, 0, 0, 1, 0, 0, 1, '2024-10-01T16:13:44.944118')\n",
      "('Brazil', 0, 0, 0, 1, 1, 0, 0, '2024-10-01T16:13:44.944331')\n",
      "('Argentina', 1, 0, 0, 1, 0, 0, 1, '2024-10-01T16:13:44.944521')\n",
      "('Colombia', 0, 0, 0, 1, 0, 0, 1, '2024-10-01T16:13:44.944707')\n",
      "('Chile', 0, 0, 0, 1, 0, 0, 1, '2024-10-01T16:13:44.944894')\n",
      "('Peru', 0, 0, 0, 1, 0, 0, 1, '2024-10-01T16:13:44.945079')\n",
      "('Germany', 1, 1, 1, 1, 1, 0, 0, '2024-10-01T16:14:10.004654')\n"
     ]
    }
   ],
   "source": [
    "import sqlite3\n",
    "\n",
    "# Path to your .db file\n",
    "db_file = 'activitiessql.db'\n",
    "\n",
    "# Connect to the SQLite database\n",
    "connection = sqlite3.connect(db_file)\n",
    "\n",
    "# Create a cursor object to interact with the database\n",
    "cursor = connection.cursor()\n",
    "\n",
    "# Example: Query to fetch all records from a table (replace 'your_table_name' with your actual table name)\n",
    "query = 'SELECT * FROM activities_table'\n",
    "\n",
    "# Execute the query\n",
    "cursor.execute(query)\n",
    "\n",
    "# Fetch all results\n",
    "results = cursor.fetchall()\n",
    "\n",
    "# Iterate through the results and print them\n",
    "for row in results:\n",
    "    print(row)\n",
    "\n",
    "# Close the cursor and connection\n",
    "cursor.close()\n",
    "connection.close()\n"
   ]
  },
  {
   "cell_type": "code",
   "execution_count": null,
   "metadata": {},
   "outputs": [],
   "source": [
    "asset_folder = Path(os.environ[\"domino_dataset_dir\"] + \"/local\" + os.environ[\"folder_deus\"]  + \"folder_march\")"
   ]
  }
 ],
 "metadata": {
  "kernelspec": {
   "display_name": "berserk_3_12",
   "language": "python",
   "name": "python3"
  },
  "language_info": {
   "codemirror_mode": {
    "name": "ipython",
    "version": 3
   },
   "file_extension": ".py",
   "mimetype": "text/x-python",
   "name": "python",
   "nbconvert_exporter": "python",
   "pygments_lexer": "ipython3",
   "version": "3.12.4"
  }
 },
 "nbformat": 4,
 "nbformat_minor": 2
}
