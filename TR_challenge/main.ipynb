{
 "cells": [
  {
   "cell_type": "code",
   "execution_count": 1,
   "metadata": {},
   "outputs": [
    {
     "name": "stdout",
     "output_type": "stream",
     "text": [
      "Number of documents: 18000\n",
      "Number of unique postures: 224\n",
      "Total number of paragraphs: 542169\n"
     ]
    }
   ],
   "source": [
    "import json\n",
    "\n",
    "# Path to your txt file\n",
    "file_path = \"TRDataChallenge2023.txt\"\n",
    "\n",
    "documents = []\n",
    "\n",
    "with open(file_path, 'r') as f:\n",
    "    for line in f:\n",
    "        documents.append(json.loads(line))\n",
    "\n",
    "# Number of documents\n",
    "num_documents = len(documents)\n",
    "\n",
    "# Collect unique postures\n",
    "all_postures = set()\n",
    "for doc in documents:\n",
    "    all_postures.update(doc[\"postures\"])\n",
    "num_postures = len(all_postures)\n",
    "\n",
    "# Count total paragraphs\n",
    "total_paragraphs = sum(\n",
    "    len(section[\"paragraphs\"]) for doc in documents for section in doc[\"sections\"]\n",
    ")\n",
    "\n",
    "# Print stats\n",
    "print(f\"Number of documents: {num_documents}\")\n",
    "print(f\"Number of unique postures: {num_postures}\")\n",
    "print(f\"Total number of paragraphs: {total_paragraphs}\")"
   ]
  },
  {
   "cell_type": "code",
   "execution_count": null,
   "metadata": {},
   "outputs": [],
   "source": []
  }
 ],
 "metadata": {
  "kernelspec": {
   "display_name": "berserk3",
   "language": "python",
   "name": "python3"
  },
  "language_info": {
   "codemirror_mode": {
    "name": "ipython",
    "version": 3
   },
   "file_extension": ".py",
   "mimetype": "text/x-python",
   "name": "python",
   "nbconvert_exporter": "python",
   "pygments_lexer": "ipython3",
   "version": "3.12.6"
  }
 },
 "nbformat": 4,
 "nbformat_minor": 2
}
