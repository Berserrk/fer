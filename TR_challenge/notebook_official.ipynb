{
 "cells": [
  {
   "cell_type": "code",
   "execution_count": 1,
   "metadata": {},
   "outputs": [],
   "source": [
    "import json\n",
    "import pandas as pd\n",
    "import numpy as np\n",
    "from collections import Counter\n",
    "import matplotlib.pyplot as plt\n",
    "import seaborn as sns\n"
   ]
  },
  {
   "cell_type": "code",
   "execution_count": 2,
   "metadata": {},
   "outputs": [
    {
     "name": "stdout",
     "output_type": "stream",
     "text": [
      "File size: 331936506 characters\n"
     ]
    }
   ],
   "source": [
    "# Read the txt file\n",
    "with open('data/TRDataChallenge2023.txt', 'r', encoding='utf-8') as file:\n",
    "    content = file.read()\n",
    "\n",
    "print(f\"File size: {len(content)} characters\")"
   ]
  },
  {
   "cell_type": "code",
   "execution_count": 3,
   "metadata": {},
   "outputs": [
    {
     "name": "stdout",
     "output_type": "stream",
     "text": [
      "\n",
      "Successfully parsed 18000 JSON objects\n"
     ]
    }
   ],
   "source": [
    "# Parse JSON dictionaries from the file\n",
    "data = []\n",
    "lines = content.strip().split('\\n')\n",
    "\n",
    "for i, line in enumerate(lines):\n",
    "    if line.strip():\n",
    "        try:\n",
    "            json_obj = json.loads(line)\n",
    "            data.append(json_obj)\n",
    "        except json.JSONDecodeError as e:\n",
    "            print(f\"Error parsing line {i+1}: {e}\")\n",
    "            print(f\"Line content: {line[:100]}...\")\n",
    "\n",
    "print(f\"\\nSuccessfully parsed {len(data)} JSON objects\")"
   ]
  },
  {
   "cell_type": "code",
   "execution_count": 4,
   "metadata": {},
   "outputs": [
    {
     "name": "stdout",
     "output_type": "stream",
     "text": [
      "\n",
      "2. DATA STRUCTURE ANALYSIS\n",
      "------------------------------\n",
      "\n",
      "Keys in the JSON objects:\n",
      "- documentId\n",
      "- postures\n",
      "- sections\n"
     ]
    }
   ],
   "source": [
    "# 2. Structure analysis\n",
    "print(\"\\n2. DATA STRUCTURE ANALYSIS\")\n",
    "print(\"-\" * 30)\n",
    "\n",
    "if data:\n",
    "    # print(\"Sample JSON object:\")\n",
    "    # print(json.dumps(data[0], indent=2))\n",
    "    \n",
    "    print(\"\\nKeys in the JSON objects:\")\n",
    "    all_keys = set()\n",
    "    for obj in data:\n",
    "        if isinstance(obj, dict):\n",
    "            all_keys.update(obj.keys())\n",
    "    \n",
    "    for key in sorted(all_keys):\n",
    "        print(f\"- {key}\")"
   ]
  },
  {
   "cell_type": "code",
   "execution_count": 5,
   "metadata": {},
   "outputs": [
    {
     "name": "stdout",
     "output_type": "stream",
     "text": [
      "\n",
      "3. DATAFRAME CONVERSION\n",
      "------------------------------\n",
      "DataFrame shape: (18000, 3)\n",
      "\n",
      "DataFrame info:\n",
      "<class 'pandas.core.frame.DataFrame'>\n",
      "RangeIndex: 18000 entries, 0 to 17999\n",
      "Data columns (total 3 columns):\n",
      " #   Column      Non-Null Count  Dtype \n",
      "---  ------      --------------  ----- \n",
      " 0   documentId  18000 non-null  object\n",
      " 1   postures    18000 non-null  object\n",
      " 2   sections    18000 non-null  object\n",
      "dtypes: object(3)\n",
      "memory usage: 422.0+ KB\n",
      "\n",
      "First few rows:\n",
      "                          documentId  \\\n",
      "0  Ib4e590e0a55f11e8a5d58a2c8dcb28b5   \n",
      "1  Ib06ab4d056a011e98c7a8e995225dbf9   \n",
      "2  Iaa3e3390b93111e9ba33b03ae9101fb2   \n",
      "3  I0d4dffc381b711e280719c3f0e80bdd0   \n",
      "4  I82c7ef10d6d111e8aec5b23c3317c9c0   \n",
      "\n",
      "                                            postures  \\\n",
      "0                                        [On Appeal]   \n",
      "1  [Appellate Review, Sentencing or Penalty Phase...   \n",
      "2          [Motion to Compel Arbitration, On Appeal]   \n",
      "3     [On Appeal, Review of Administrative Decision]   \n",
      "4                                        [On Appeal]   \n",
      "\n",
      "                                            sections  \n",
      "0  [{'headtext': '', 'paragraphs': ['Plaintiff Dw...  \n",
      "1  [{'headtext': '', 'paragraphs': ['After pleadi...  \n",
      "2  [{'headtext': '', 'paragraphs': ['Frederick Gr...  \n",
      "3  [{'headtext': '', 'paragraphs': ['Appeal from ...  \n",
      "4  [{'headtext': '', 'paragraphs': ['Order, Supre...  \n"
     ]
    }
   ],
   "source": [
    "# 3. Convert to DataFrame for easier analysis\n",
    "print(\"\\n3. DATAFRAME CONVERSION\")\n",
    "print(\"-\" * 30)\n",
    "\n",
    "if data and isinstance(data[0], dict):\n",
    "    df = pd.DataFrame(data)\n",
    "    print(f\"DataFrame shape: {df.shape}\")\n",
    "    print(\"\\nDataFrame info:\")\n",
    "    df.info()\n",
    "    print(\"\\nFirst few rows:\")\n",
    "    print(df.head())\n",
    "else:\n",
    "    print(\"Data is not in expected dictionary format\")"
   ]
  },
  {
   "cell_type": "code",
   "execution_count": 6,
   "metadata": {},
   "outputs": [
    {
     "data": {
      "text/html": [
       "<div>\n",
       "<style scoped>\n",
       "    .dataframe tbody tr th:only-of-type {\n",
       "        vertical-align: middle;\n",
       "    }\n",
       "\n",
       "    .dataframe tbody tr th {\n",
       "        vertical-align: top;\n",
       "    }\n",
       "\n",
       "    .dataframe thead th {\n",
       "        text-align: right;\n",
       "    }\n",
       "</style>\n",
       "<table border=\"1\" class=\"dataframe\">\n",
       "  <thead>\n",
       "    <tr style=\"text-align: right;\">\n",
       "      <th></th>\n",
       "      <th>documentId</th>\n",
       "      <th>postures</th>\n",
       "      <th>sections</th>\n",
       "    </tr>\n",
       "  </thead>\n",
       "  <tbody>\n",
       "    <tr>\n",
       "      <th>0</th>\n",
       "      <td>Ib4e590e0a55f11e8a5d58a2c8dcb28b5</td>\n",
       "      <td>[On Appeal]</td>\n",
       "      <td>[{'headtext': '', 'paragraphs': ['Plaintiff Dw...</td>\n",
       "    </tr>\n",
       "    <tr>\n",
       "      <th>1</th>\n",
       "      <td>Ib06ab4d056a011e98c7a8e995225dbf9</td>\n",
       "      <td>[Appellate Review, Sentencing or Penalty Phase...</td>\n",
       "      <td>[{'headtext': '', 'paragraphs': ['After pleadi...</td>\n",
       "    </tr>\n",
       "    <tr>\n",
       "      <th>2</th>\n",
       "      <td>Iaa3e3390b93111e9ba33b03ae9101fb2</td>\n",
       "      <td>[Motion to Compel Arbitration, On Appeal]</td>\n",
       "      <td>[{'headtext': '', 'paragraphs': ['Frederick Gr...</td>\n",
       "    </tr>\n",
       "    <tr>\n",
       "      <th>3</th>\n",
       "      <td>I0d4dffc381b711e280719c3f0e80bdd0</td>\n",
       "      <td>[On Appeal, Review of Administrative Decision]</td>\n",
       "      <td>[{'headtext': '', 'paragraphs': ['Appeal from ...</td>\n",
       "    </tr>\n",
       "    <tr>\n",
       "      <th>4</th>\n",
       "      <td>I82c7ef10d6d111e8aec5b23c3317c9c0</td>\n",
       "      <td>[On Appeal]</td>\n",
       "      <td>[{'headtext': '', 'paragraphs': ['Order, Supre...</td>\n",
       "    </tr>\n",
       "    <tr>\n",
       "      <th>...</th>\n",
       "      <td>...</td>\n",
       "      <td>...</td>\n",
       "      <td>...</td>\n",
       "    </tr>\n",
       "    <tr>\n",
       "      <th>17995</th>\n",
       "      <td>Ia5743cf0e4b611e99e94fcbef715f24d</td>\n",
       "      <td>[Appellate Review]</td>\n",
       "      <td>[{'headtext': '', 'paragraphs': ['¶1 On Februa...</td>\n",
       "    </tr>\n",
       "    <tr>\n",
       "      <th>17996</th>\n",
       "      <td>I974c18f08f1611e998e8870e22e55653</td>\n",
       "      <td>[Objection to Proof of Claim]</td>\n",
       "      <td>[{'headtext': 'ORDER OVERRULING DEBTOR'S OBJEC...</td>\n",
       "    </tr>\n",
       "    <tr>\n",
       "      <th>17997</th>\n",
       "      <td>Idaaa92f0886f11e998e8870e22e55653</td>\n",
       "      <td>[Appellate Review, Trial or Guilt Phase Motion...</td>\n",
       "      <td>[{'headtext': '', 'paragraphs': ['A jury convi...</td>\n",
       "    </tr>\n",
       "    <tr>\n",
       "      <th>17998</th>\n",
       "      <td>I247a8420677e11e9a072efd81f5238d6</td>\n",
       "      <td>[Appellate Review, Jury Selection Challenge or...</td>\n",
       "      <td>[{'headtext': '', 'paragraphs': ['Defendant Ch...</td>\n",
       "    </tr>\n",
       "    <tr>\n",
       "      <th>17999</th>\n",
       "      <td>Id5f8b500e68311e78c5db03c58f2bc1d</td>\n",
       "      <td>[On Appeal]</td>\n",
       "      <td>[{'headtext': '', 'paragraphs': ['A parent has...</td>\n",
       "    </tr>\n",
       "  </tbody>\n",
       "</table>\n",
       "<p>18000 rows × 3 columns</p>\n",
       "</div>"
      ],
      "text/plain": [
       "                              documentId  \\\n",
       "0      Ib4e590e0a55f11e8a5d58a2c8dcb28b5   \n",
       "1      Ib06ab4d056a011e98c7a8e995225dbf9   \n",
       "2      Iaa3e3390b93111e9ba33b03ae9101fb2   \n",
       "3      I0d4dffc381b711e280719c3f0e80bdd0   \n",
       "4      I82c7ef10d6d111e8aec5b23c3317c9c0   \n",
       "...                                  ...   \n",
       "17995  Ia5743cf0e4b611e99e94fcbef715f24d   \n",
       "17996  I974c18f08f1611e998e8870e22e55653   \n",
       "17997  Idaaa92f0886f11e998e8870e22e55653   \n",
       "17998  I247a8420677e11e9a072efd81f5238d6   \n",
       "17999  Id5f8b500e68311e78c5db03c58f2bc1d   \n",
       "\n",
       "                                                postures  \\\n",
       "0                                            [On Appeal]   \n",
       "1      [Appellate Review, Sentencing or Penalty Phase...   \n",
       "2              [Motion to Compel Arbitration, On Appeal]   \n",
       "3         [On Appeal, Review of Administrative Decision]   \n",
       "4                                            [On Appeal]   \n",
       "...                                                  ...   \n",
       "17995                                 [Appellate Review]   \n",
       "17996                      [Objection to Proof of Claim]   \n",
       "17997  [Appellate Review, Trial or Guilt Phase Motion...   \n",
       "17998  [Appellate Review, Jury Selection Challenge or...   \n",
       "17999                                        [On Appeal]   \n",
       "\n",
       "                                                sections  \n",
       "0      [{'headtext': '', 'paragraphs': ['Plaintiff Dw...  \n",
       "1      [{'headtext': '', 'paragraphs': ['After pleadi...  \n",
       "2      [{'headtext': '', 'paragraphs': ['Frederick Gr...  \n",
       "3      [{'headtext': '', 'paragraphs': ['Appeal from ...  \n",
       "4      [{'headtext': '', 'paragraphs': ['Order, Supre...  \n",
       "...                                                  ...  \n",
       "17995  [{'headtext': '', 'paragraphs': ['¶1 On Februa...  \n",
       "17996  [{'headtext': 'ORDER OVERRULING DEBTOR'S OBJEC...  \n",
       "17997  [{'headtext': '', 'paragraphs': ['A jury convi...  \n",
       "17998  [{'headtext': '', 'paragraphs': ['Defendant Ch...  \n",
       "17999  [{'headtext': '', 'paragraphs': ['A parent has...  \n",
       "\n",
       "[18000 rows x 3 columns]"
      ]
     },
     "execution_count": 6,
     "metadata": {},
     "output_type": "execute_result"
    }
   ],
   "source": [
    "df"
   ]
  },
  {
   "cell_type": "code",
   "execution_count": 7,
   "metadata": {},
   "outputs": [
    {
     "name": "stdout",
     "output_type": "stream",
     "text": [
      "postures\n",
      "<class 'list'>    18000\n",
      "Name: count, dtype: int64\n"
     ]
    }
   ],
   "source": [
    "print(df['postures'].apply(type).value_counts())"
   ]
  },
  {
   "cell_type": "code",
   "execution_count": 8,
   "metadata": {},
   "outputs": [
    {
     "name": "stdout",
     "output_type": "stream",
     "text": [
      "923\n"
     ]
    }
   ],
   "source": [
    "def is_effectively_missing(val):\n",
    "    if val is None:\n",
    "        return True\n",
    "    if isinstance(val, list) and len(val) == 0:\n",
    "        return True\n",
    "    return False\n",
    "\n",
    "df['postures_missing'] = df['postures'].apply(is_effectively_missing)\n",
    "print(df['postures_missing'].sum())"
   ]
  },
  {
   "cell_type": "code",
   "execution_count": 17,
   "metadata": {},
   "outputs": [
    {
     "name": "stdout",
     "output_type": "stream",
     "text": [
      "Documents with at least one section missing or empty paragraphs: 638\n"
     ]
    }
   ],
   "source": [
    "docs_with_empty_paragraphs = df['sections'].apply(\n",
    "    lambda section_list: (\n",
    "        isinstance(section_list, list) and\n",
    "        any(\n",
    "            isinstance(s, dict) and (\n",
    "                'paragraphs' not in s or \n",
    "                not isinstance(s['paragraphs'], list) or \n",
    "                len(s['paragraphs']) == 0\n",
    "            )\n",
    "            for s in section_list\n",
    "        )\n",
    "    )\n",
    ").sum()\n",
    "\n",
    "print(f\"Documents with at least one section missing or empty paragraphs: {docs_with_empty_paragraphs}\")"
   ]
  },
  {
   "cell_type": "code",
   "execution_count": 19,
   "metadata": {},
   "outputs": [
    {
     "name": "stdout",
     "output_type": "stream",
     "text": [
      "Number of documents with at least one missing or empty headtext: 11257\n"
     ]
    }
   ],
   "source": [
    "num_docs_with_empty_headtext = df['sections'].apply(\n",
    "    lambda section_list: (\n",
    "        isinstance(section_list, list) and\n",
    "        any(\n",
    "            isinstance(s, dict) and \n",
    "            ('headtext' not in s or s['headtext'] is None or s['headtext'].strip() == \"\")\n",
    "            for s in section_list\n",
    "        )\n",
    "    )\n",
    ").sum()\n",
    "\n",
    "print(f\"Number of documents with at least one missing or empty headtext: {num_docs_with_empty_headtext}\")"
   ]
  },
  {
   "cell_type": "code",
   "execution_count": 20,
   "metadata": {},
   "outputs": [
    {
     "name": "stdout",
     "output_type": "stream",
     "text": [
      "File size: 331936506 characters\n",
      "\n",
      "Successfully parsed 18000 JSON objects\n",
      "\n",
      "Example processed text:\n",
      "[PARA] Plaintiff Dwight Watson (“Husband”) appeals from the trial court’s equitable distribution order entered 28 February 2017. On appeal, plaintiff contends that the trial court erred in its classification, valuation, and distribution of the parties’ property and in granting defendant Gertha  Watson (“Wife”) an unequal distribution of martial property. Because the trial court’s findings of fact do not support its conclusions of law and because the distributional factors found by the trial court are based upon some of those erroneous findings and conclusions, we reverse the equitable distribution order and remand for entry of a new equitable distribution order. [SEP] [HEAD] Background [SEP] [PARA] Husband and Wife were married in November 1989. Although the trial court’s equitable distribution order found the date of separation as October 2007, the parties stipulated in the final pretrial order to a date of separation of October 2009. Husband filed a claim for divorce and equitable di\n"
     ]
    }
   ],
   "source": [
    "import json\n",
    "\n",
    "with open('data/TRDataChallenge2023.txt', 'r', encoding='utf-8') as file:\n",
    "    content = file.read()\n",
    "\n",
    "print(f\"File size: {len(content)} characters\")\n",
    "\n",
    "data = []\n",
    "lines = content.strip().split('\\n')\n",
    "\n",
    "for i, line in enumerate(lines):\n",
    "    if line.strip():\n",
    "        try:\n",
    "            json_obj = json.loads(line)\n",
    "\n",
    "            # ➡️ Here: Process and combine text from sections\n",
    "            sections = json_obj.get(\"sections\", [])\n",
    "            text_parts = []\n",
    "\n",
    "            for sec in sections:\n",
    "                headtext = sec.get(\"headtext\", \"\")\n",
    "                if headtext:\n",
    "                    text_parts.append(\"[HEAD] \" + headtext)\n",
    "                paragraphs = sec.get(\"paragraphs\", [])\n",
    "                for para in paragraphs:\n",
    "                    text_parts.append(\"[PARA] \" + para)\n",
    "\n",
    "            # Join sections with [SEP]\n",
    "            full_text = \" [SEP] \".join(text_parts)\n",
    "\n",
    "            # Save new keys to the object\n",
    "            json_obj[\"combined_text\"] = full_text\n",
    "\n",
    "            # Append to data list\n",
    "            data.append(json_obj)\n",
    "\n",
    "        except json.JSONDecodeError as e:\n",
    "            print(f\"Error parsing line {i+1}: {e}\")\n",
    "            print(f\"Line content: {line[:100]}...\")\n",
    "\n",
    "print(f\"\\nSuccessfully parsed {len(data)} JSON objects\")\n",
    "\n",
    "# Example: print first processed document\n",
    "print(\"\\nExample processed text:\")\n",
    "print(data[0][\"combined_text\"][:1000])  # Print first 1000 characters to check"
   ]
  },
  {
   "cell_type": "code",
   "execution_count": 22,
   "metadata": {},
   "outputs": [
    {
     "data": {
      "text/plain": [
       "{'documentId': 'Ib4e590e0a55f11e8a5d58a2c8dcb28b5',\n",
       " 'postures': ['On Appeal'],\n",
       " 'sections': [{'headtext': '',\n",
       "   'paragraphs': ['Plaintiff Dwight Watson (“Husband”) appeals from the trial court’s equitable distribution order entered 28 February 2017. On appeal, plaintiff contends that the trial court erred in its classification, valuation, and distribution of the parties’ property and in granting defendant Gertha\\u2009 Watson (“Wife”) an unequal distribution of martial property. Because the trial court’s findings of fact do not support its conclusions of law and because the distributional factors found by the trial court are based upon some of those erroneous findings and conclusions, we reverse the equitable distribution order and remand for entry of a new equitable distribution order.']},\n",
       "  {'headtext': 'Background',\n",
       "   'paragraphs': ['Husband and Wife were married in November 1989. Although the trial court’s equitable distribution order found the date of separation as October 2007, the parties stipulated in the final pretrial order to a date of separation of October 2009. Husband filed a claim for divorce and equitable distribution on 2 April 2015. On 1 June 2015, Wife filed her answer and counterclaims for post separation support, alimony, unequal distribution of marital property, and attorney’s fees.',\n",
       "    'A hearing was held on 25 October 2016. Following the hearing, the trial court entered an equitable distribution order on 28 February 2017, which granted an unequal distribution in Wife’s favor. Husband timely appealed to this Court.']},\n",
       "  {'headtext': 'Analysis',\n",
       "   'paragraphs': ['Husband argues that the trial court erred in valuing and distributing a portion of the parties’ marital property and in granting Wife an unequal distribution of the marital property. The parties had only a few assets and one debt in contention. They had a home acquired a year before the marriage as joint tenants; the trial court found the marital home is “separate property held by a joint tenancy between the parties” but distributed the house to Wife and ordered Husband to execute any documents necessary to remove his name from the title and to pay the Home Equity Line of Credit (“HELOC”), which was secured by the marital home during the marriage, in a timely manner. The trial court also found that “[t]here is considerable equity in the marital residence which is marital property.” The trial court found the HELOC debt is Husband’s separate debt but found that it was “without any sufficient/or and competent evidence” of the remaining balance as of the date of separation to determine the payoff, although it made findings of the balance owed as of May 2015 of $42,689.58. Husband also had a 401K plan with his employer which the trial court classified as marital property but again, the trial court found “[t]here is no sufficient and competent evidence to value [Husband’s] 401K” as of the date of separation. The other item in contention is a Cadillac El Dorado, which is marital property.',\n",
       "    'Husband challenges some findings of fact as unsupported by the evidence and some conclusions of law as unsupported by the facts. He also argues that the trial court abused its discretion in ordering an unequal distribution based upon its erroneous findings of fact.',\n",
       "    'Our review of an equitable distribution order is limited to determining whether the trial court abused its discretion in distributing the parties’ marital property. Accordingly, the findings of fact are conclusive if they are supported by any competent evidence from the record.',\n",
       "    'However, even applying this generous standard of review, there are still requirements with which trial courts must comply. Under N.C.G.S. §\\u200250–20(c), equitable distribution is a three-step process; the trial court must (1) determine what is marital and divisible property; (2) find the net value of the property; and (3) make an equitable distribution of that property.',\n",
       "    '․',\n",
       "    'In fact, to enter a proper equitable distribution judgment, the trial court must specifically and particularly classify and value all assets and debts maintained by the parties at the date of separation. In determining the value of the property, the trial court must consider the property’s market value, if any, less the amount of any encumbrance serving to offset or reduce the market value. Furthermore, in doing all these things the court must be specific and detailed enough to enable a reviewing court to determine what was done and its correctness.',\n",
       "    'Robinson v. Robinson, 210 N.C. App. 319, 322-23, 707 S.E.2d 785, 789 (2011) (citations, quotation marks, and brackets omitted).',\n",
       "    'As to the actual distribution ordered by the trial court, when reviewing an equitable distribution order the standard of review is limited to a determination of whether there was a clear abuse of discretion. A trial court may be reversed for abuse of discretion only upon a showing that its actions are manifestly unsupported by reason.',\n",
       "    'Stovall v. Stovall, 205 N.C. App. 405, 407-08, 698 S.E.2d 680, 683 (2010) (citations, quotation marks, and brackets omitted).']},\n",
       "  {'headtext': 'I.\\u2003Classification issues',\n",
       "   'paragraphs': ['Although Husband does not clearly identify an issue of classification of property, his arguments are largely based upon the trial court’s findings and conclusions regarding classification. Neither the order nor Husband’s brief separates the issues of classification, valuation, and distribution, but to review the issues, we must separate them. “[E]quitable distribution is a three-step process; the trial court must (1) determine what is marital and divisible property; (2) find the net value of the property; and (3) make an equitable distribution of that property.” Robinson, 210 N.C. App. at 323, 707 S.E.2d at 789 (citation, quotation marks, and brackets omitted).',\n",
       "    'Husband argues the trial court erred by distributing the home to Wife and ordering him to remove his name from the deed and pay the HELOC, and his argument is primarily based upon the unequal distribution factors found by the trial court. But first, we must consider the classification of the home.',\n",
       "    'The order is internally contradictory on the classification of the home. The trial court found that the home is “separate property held by a joint tenancy between the parties.” Separate property cannot be distributed in equitable distribution. See Langston v. Richardson, 206 N.C. App. 216, 220, 696 S.E.2d 867, 871 (2010) (“Under N.C. Gen. Stat. Sec. 50–20(c), only marital property is subject to distribution. The trial court must classify and identify property as marital or separate depending upon the proof presented to the trial court of the nature of the assets.” (Citations and quotation marks omitted)\\u2009). But then the trial court also found that “there is considerable equity in the marital residence which is marital property.” But if there is marital equity in the home, the trial court must value the marital interest before distributing it. See Turner v. Turner, 64 N.C. App. 342, 345, 307 S.E.2d 407, 408-09 (1983) (“Under G.S. 50-20(c), equitable distribution applies only to the net value of marital property. This requires the trial court to first ascertain what is marital property, then to find the net value of that property, and finally to make a distribution based upon the equitable goals of the statute and the various factors specified therein.”). And if the home itself is separate property, as the trial court found, it is not subject to distribution, yet the trial court distributed it to Wife, making essentially the same error as the court in Turner:',\n",
       "    'If the house was purchased by plaintiff before the marriage, as the finding states, then it was error to subject the house, as such, to equitable distribution, since under G.S. 50-20(a)(2), property acquired by a spouse before marriage is “separate,” rather than “marital,” property. If, however, an equity in this property developed during the marriage because of improvements or payments contributed to by defendant, that equity (as distinguished from a mere increase in value of separate property, excluded by the statute) could be marital property, in our opinion, upon appropriate, supportable findings being made. And if not marital property, such equity, if it developed, would be a factor requiring consideration by the court, along with the other factors specified in the statute, before determining how much of the marital property each party is entitled to receive. ․ But the findings made do not support the division ordered.',\n",
       "    'Turner, 64 N.C. App. at 346, 307 S.E.2d at 409.',\n",
       "    'The trial court therefore erred by distributing the home, and on remand, the trial court should follow the process set forth in Turner to classify and value the home and any marital or separate interests in the home and to distribute any marital interest.']},\n",
       "  {'headtext': 'A.\\u2003Cadillac El Dorado',\n",
       "   'paragraphs': ['Husband contends that the trial court’s finding of fact valuing the 1995 Cadillac El Dorado at $10,000.00 is not supported by the evidence. We agree there is no evidence to support a finding of the value of the car as $10,000.00 as of the date of separation. The final pretrial order included schedules “setting out the parties’ contentions as to the nature and values of the marital property.” Wife valued the 1995 Cadillac at $1,880.00; Husband also valued the Cadillac at $1,880.00. Husband argues the parties “stiplulated” to the value so the court was bound by the stipulation. Wife counters that the parties did not sign the pretrial order and did not stipulate to values, although they both listed the same value. We agree that the pretrial order does not include a formal “stipulation” of value, but both parties alleged the same value. And the Pretrial Order did not purport to be a consent order which should be signed by the parties; it was entered based upon the pretrial conference held on 24 November 2015, and Wife claims no impropriety in the trial court’s entry of the pretrial order.',\n",
       "    'The only evidence of the sum of $10,000.00 was Husband’s testimony he had paid off a $10,000.00 balance of the loan on the vehicle with a portion of the proceeds from the HELOC, which he received in 2005, four years prior to the date of separation. But a loan payoff on a vehicle years prior to separation is not evidence of the fair market value of the vehicle on the date of separation. See generally Walter v. Walter, 149 N.C. App. 723, 733, 561 S.E.2d 571, 577 (2002) (“In an equitable distribution proceeding, the trial court is to determine the net fair market value of the property based on the evidence offered by the parties.”). On remand, the court should value the car based upon the evidence of fair market value as of the date of separation, and it appears that $1,880.00 is the only evidence of value as of the date of separation. See generally Warren v. Warren, 175 N.C. App. 509, 515, 623 S.E.2d 800, 804 (2006) (“In equitable distribution proceedings, marital property must be valued as of the date of the separation of the parties.” (Citation and quotation marks omitted)\\u2009).']},\n",
       "  {'headtext': 'B.\\u2003Valuation of home equity, HELOC, and 401K plan',\n",
       "   'paragraphs': ['Husband addresses this issue as part of his argument regarding unequal distribution factors, but as noted above, the issue originates in the classification and valuation, or lack thereof, of these items and the order’s distribution of these assets. Equitable distribution is a three-step process: classification, valuation, and distribution. See generally Robinson, 210 N.C. App. at 323, 707 S.E.2d at 789. These three steps must be taken in order, so if the evidence is not sufficient to classify or value an item of property or debt, it cannot distributed. See, e.g., Estate of Nelson ex rel. Brewer v. Nelson, 179 N.C. App. 166, 168-69, 633 S.E.2d 124, 127 (2006) (“Failure to follow these steps carefully and in sequence may render the findings and conclusions inadequate, erroneous, or both.”), aff’d per curiam, 361 N.C. 346, 643 S.E.2d 587 (2007).',\n",
       "    'Husband took out a HELOC secured by the marital home during the marriage, but the trial court found that the HELOC is Husband’s separate debt based upon its findings regarding Husband’s sole control over the HELOC and his use of the funds. The trial court was unable to value the outstanding debt as of the date of separation because there was not sufficient evidence of this value. But since the HELOC was classified as a separate debt, it need not be valued and cannot be distributed. See, e.g., Smith v. Smith, 111 N.C. App. 460, 509-10, 433 S.E.2d 196, 226 (1993) (citations omitted) (“In determining an equitable distribution, the trial court must consider the debts of the parties. If the debt is a separate debt of one of the parties, then the court must consider it pursuant to N.C. Gen. Stat. §\\u200250-20(c)(1). If the debt is a marital debt, that is, a debt incurred during the marriage for the joint benefit of the parties, then it must be valued and distributed.” (Citations and quotation marks omitted)\\u2009), rev’d in part on other grounds, 336 N.C. 575, 444 S.E.2d 420 (1994). Classification of property and debt comes first, and only marital property or debt is subject to the next two steps of valuation and distribution. See, e.g., Wall v. Wall, 140 N.C. App. 303, 307-08, 536 S.E.2d 647, 650 (2000) (“We continue to stress the importance of following the steps of first classifying, then valuing and distributing marital property. Each step is a prerequisite to the performance of the next, and failure to follow the prescribed order will result in a fatally flawed trial court disposition. Only those assets and debts that are classified as marital property and valued are subject to distribution under the Equitable Distribution Act[.]” (Citation and quotation marks omitted)\\u2009).',\n",
       "    'In this case, the trial court found there was not “sufficient and competent evidence to value [Husband’s] 401K” as of the date of separation. Husband agrees with this finding, since it would be to his benefit, except that the trial court also used the 401K as a factor justifying the unequal distribution. Wife agrees the trial court did not have sufficient evidence to value the 401K, but she argues that it need not be valued to be a distributional factor. She is correct that the trial court need not value items used as distributional factors. See Gum v. Gum, 107 N.C. App. 734, 739, 421 S.E.2d 788, 791 (1992) (“The trial court is required to consider evidence of such contributions as a distributional factor according to N.C.G.S. §\\u200250–20(c)(8). There is no language within § [50-20(c)\\u2009] which would indicate that the trial court is required to place a monetary value on any distributional factor and we decline to impose such an unnecessary burden upon the trial court.”). But marital property must be valued, see, e.g., Robinson, 210 N.C. App. at 324, 707 S.E.2d at 790 (“It is not enough that evidence can be found within the record which could support such classification; the court must actually classify all of the property and make a finding as to the value of all marital property.”), and the trial court found that 401K plan was marital property but did not value it. If the 401K is not marital property, the trial court could have used it as a distributional factor without valuing it; but if it is marital property, it must first be valued as part of the marital estate. See generally Gum, 107 N.C. App. at 739, 421 S.E.2d at 791; Robinson, 210 N.C. App. at 324, 707 S.E.2d at 790. There is no way to know if the distribution of the marital estate is equal or unequal if there is no finding on the net value of the entire marital estate.',\n",
       "    'The trial court determines the credibility and weight of the evidence, see, e.g., Brackney v. Brackney, 199 N.C. App. 375, 390, 682 S.E.2d 401, 410 (2009) (“[I]t is well-established ․ that when the trial court is the trier of fact, the court is empowered to assign weight to the evidence presented at the trial as it deems appropriate.” (Citation, quotation marks, and brackets omitted)\\u2009), and it is possible the trial court did not believe Husband’s evidence regarding the value of the 401K. But we are concerned that the trial court’s finding might be based upon the erroneous date of separation in the order. There was evidence, in the form of a letter from the 401K plan administrator, MassMutual Retirement Services Division, of the vested balance of the 401K as of 31 October 2009, the month of the parties’ separation. Yet the trial court found the parties separated in October 2007. The trial court would be correct there was no evidence of the value of the 401K in 2007—but that is not the relevant year because the parties did not separate until 2009. Wife contends the finding of the year 2007 is merely a non-prejudicial clerical error. But considering the trial court’s finding of a lack of evidence of the value of the 401K as of the date of separation, along with the evidence of a letter from the 401K plan administrator valuing the plan as of the date of separation, we cannot say for sure the date error is nonprejudicial. Again, it is possible the trial court did not rely upon the 401K plan administrator’s letter for some other reason, and that would be within the trial court’s discretion, but since we are vacating this order for other reasons, on remand, the trial court should clarify its findings regarding the valuation of the 401K as of the date of separation or its inability to value the plan.']},\n",
       "  {'headtext': 'III.\\u2003Unequal Distribution of the Marital Property',\n",
       "   'paragraphs': ['Husband contends that the trial court abused its discretion in granting Wife an unequal distribution because the primary findings of factors supporting the unequal distribution are legally and factually incorrect. Based upon the errors in classification and valuation discussed above, including the absence of a finding of the total value of the net marital estate, we must vacate the order and remand for entry of a new order, but we will address Husband’s argument to avoid potential errors regarding the distributional factors on remand.',\n",
       "    'North Carolina General Statutes Section 50-20(c) sets out the factors the trial court should consider when determining whether an equal division is equitable. See N.C. Gen. Stat. §\\u200250-20(c) (2017). “Where the trial court decides that an unequal distribution is equitable, the court must exercise its discretion to decide how much weight to give each factor supporting an unequal distribution. A single distributional factor may support an unequal division.” Mugno v. Mugno, 205 N.C. App. 273, 278, 695 S.E.2d 495, 499 (2010) (citations omitted).',\n",
       "    'Here, the trial court determined that an unequal distribution of the marital and divisible property was equitable, and the court found these factors as justification for an unequal division:',\n",
       "    '35. N.C.G.S. §\\u200250-20(c)—Distributional Factors: That in considering whether an equal distribution would be equitable, the Court has considered all of the evidence presented by the parties relating to the statutory factors set out in Chapter 50-20(c) of the North Carolina General Statutes (as more particularly set out in the findings of fact contained in this judgment), and specifically including the following:',\n",
       "    'a. N.C.G.S. §\\u200250-20(c)(1): At the time that the property division is to become effective, [Husband] is employed and will have received the majority of his 401K from Electro Switch, as well as having received the majority of, if not all of the benefit for the funds borrowed against the marital residence via the HELOC. [Wife] is receiving the marital residence.',\n",
       "    'b. N.C.G.S. §\\u200250-20(c)(2): There is no obligation for support arising out of a prior marriage.',\n",
       "    'c. N.C.G.S. §\\u200250-20(c)(3): The parties were married eighteen (18) years. Both parties are in good mental health. Both parties are limited in what they may do for employment although [Husband] continues to work.',\n",
       "    '․',\n",
       "    'e. N.C.G.S. §\\u200250-20(c)(5): [Husband] has obtained loans on his 401K, has received a substantial portion of it to date to the exclusion of [Wife], and will receive all that remains of it.',\n",
       "    'f. N.C.G.S. §\\u200250-20(c)(6): Both parties contributed to the purchase of the Marital residence and its eventual pay off.',\n",
       "    '․',\n",
       "    'i. N.C.G.S. §\\u200250-20(c)(9): The 401K and the equity that remains in the residence are the largest Liquid assets the parties have. There is no sufficient and competent evidence to value [Husband’s] 401K, the exact amount of principle (sic) remaining on the HELOC and as a result the exact amount of equity in the Marital Residence.',\n",
       "    '․',\n",
       "    '36. An equal distribution of marital and divisible property is not equitable in this matter.',\n",
       "    'The court found that “[n]o evidence was presented” regarding any of the other factors in N.C. Gen. Stat. §\\u200250-20(c).',\n",
       "    'The primary factor the trial court used to justify an unequal distribution was (i), but the trial court’s finding “[t]he 401K and the equity that remains in the residence are the largest Liquid assets the parties have” presents several problems. First, neither of these marital assets was valued, as discussed above. The second problem is either a serious clerical error or a misunderstanding of the meaning of the term “liquid.” Black’s Law Dictionary defines a liquid asset as “[a]n asset that is readily convertible to cash, such as a marketable security, a note, or an account receivable.” Black’s Law Dictionary (10th ed. 2014). In comparison, an illiquid asset is defined as “[a]n asset that is not readily convertible into cash, usu. because of (1) the lack of demand, (2) the absence of an established market, or (3) the substantial cost or time required for liquidation (such as real property, even when it is desirable).” Illiquid asset, Black’s Law Dictionary (10th Ed. 2014) (emphasis added). A 401K plan is not liquid since it is not readily accessible and any withdrawals prior to retirement incur substantial taxes and penalties. Equity in a home is not liquid because the home must be sold to get access to the equity. See e.g., Robertson v. Robertson, 167 N.C. App. 567, 571, 605 S.E.2d 667, 669-70 (2004) (“Although the trial court found defendant could liquidate the above assets to pay the $52,100.07 distributive award, the only liquid assets readily available to pay the award were two bank accounts totaling $5,929.38. Wife’s other assets included stock in PSI valued at $37,336.00, the unencumbered one-half acre lot valued at $8,920.00, and the personal property valued at $13,829.68. With the exception of the pension plan, which the trial court found would be difficult to liquidate and might cause unfavorable tax consequences, the trial court failed to make findings concerning the difficulty and possible financial and tax consequences of borrowing money against or liquidating the PSI stock, the one-half acre lot, and the personal property in order to pay the amount of the judgment lien within ninety days. Accordingly, although Wife may in fact be able to pay the distributive award, her evidence is sufficient to raise the question of whether adjusting the award from her to Husband is necessary to offset any adverse financial consequences of using the non-liquid assets.” (Citations, quotation marks, brackets, and ellipses omitted)\\u2009).',\n",
       "    'As discussed above on valuation, the remainder of the finding on factor (i) is also erroneous because the marital property was not valued. The trial court found it could not value the marital equity in the home or the 401K plan. It found there was “no sufficient and competent evidence to value [Husband]’s 401K” and that the exact amount of principal remaining on the HELOC and the equity in the marital residence were also unknown. Without valuation of the marital assets, it is impossible to say if a distribution is equal or unequal. See generally Crowder v. Crowder, 147 N.C. App. 677, 681, 556 S.E.2d 639, 642 (2001) (“The distribution of marital assets entails the court’s determination of an ‘equitable’ division of marital property. The marital property is to be distributed equally, unless the court determines equal is not equitable.” (Citation and quotation marks omitted)\\u2009). Yet the court nevertheless used these unvalued marital assets in its determination that an unequal distribution was equitable, as evidenced in findings (a), (e), (f), and (i).',\n",
       "    'Once those findings discussed above are removed, we are left only with its findings: (b) that “[t]here is no obligation for support arising out of a prior marriage” and (c) that “[t]he parties were married eighteen (18) years. Both parties are in good mental health. Both parties are limited in what they may do for employment although [Husband] continues to work.” These factors are essentially descriptions of the parties’ circumstances and while they are relevant, they cannot, standing alone, support the trial court’s conclusion that an unequal distribution is equitable. Since the court based an “unequal” distribution on marital assets that were not valued and on a misunderstanding of “liquid” assets, we hold that the trial court abused its discretion in ordering an unequal distribution.']},\n",
       "  {'headtext': 'IV.\\u2003Conclusion',\n",
       "   'paragraphs': ['The trial court’s order on equitable distribution is reversed and we remand to the trial court for further proceedings consistent with this opinion. On remand, within 30 days after mandate issues on this opinion, either party may file a written request with the trial court for a hearing to present additional evidence or argument, and if a party files a timely request, the trial court shall hold a hearing to “to hear arguments and receive evidence from both parties on remand, in order to address the errors discussed above and to properly identify, classify, and value the parties’ property as required by statutory law and case law.” Dalgewicz v. Dalgewicz, 167 N.C. App. 412, 424, 606 S.E.2d 164, 172 (2004). If neither party files a timely written request for hearing on remand, the trial court may, in its sole discretion, determine whether to hold an additional hearing or to enter a new order based upon the evidence presented at the prior hearing.',\n",
       "    'VACATED AND REMANDED.']}],\n",
       " 'combined_text': '[PARA] Plaintiff Dwight Watson (“Husband”) appeals from the trial court’s equitable distribution order entered 28 February 2017. On appeal, plaintiff contends that the trial court erred in its classification, valuation, and distribution of the parties’ property and in granting defendant Gertha\\u2009 Watson (“Wife”) an unequal distribution of martial property. Because the trial court’s findings of fact do not support its conclusions of law and because the distributional factors found by the trial court are based upon some of those erroneous findings and conclusions, we reverse the equitable distribution order and remand for entry of a new equitable distribution order. [SEP] [HEAD] Background [SEP] [PARA] Husband and Wife were married in November 1989. Although the trial court’s equitable distribution order found the date of separation as October 2007, the parties stipulated in the final pretrial order to a date of separation of October 2009. Husband filed a claim for divorce and equitable distribution on 2 April 2015. On 1 June 2015, Wife filed her answer and counterclaims for post separation support, alimony, unequal distribution of marital property, and attorney’s fees. [SEP] [PARA] A hearing was held on 25 October 2016. Following the hearing, the trial court entered an equitable distribution order on 28 February 2017, which granted an unequal distribution in Wife’s favor. Husband timely appealed to this Court. [SEP] [HEAD] Analysis [SEP] [PARA] Husband argues that the trial court erred in valuing and distributing a portion of the parties’ marital property and in granting Wife an unequal distribution of the marital property. The parties had only a few assets and one debt in contention. They had a home acquired a year before the marriage as joint tenants; the trial court found the marital home is “separate property held by a joint tenancy between the parties” but distributed the house to Wife and ordered Husband to execute any documents necessary to remove his name from the title and to pay the Home Equity Line of Credit (“HELOC”), which was secured by the marital home during the marriage, in a timely manner. The trial court also found that “[t]here is considerable equity in the marital residence which is marital property.” The trial court found the HELOC debt is Husband’s separate debt but found that it was “without any sufficient/or and competent evidence” of the remaining balance as of the date of separation to determine the payoff, although it made findings of the balance owed as of May 2015 of $42,689.58. Husband also had a 401K plan with his employer which the trial court classified as marital property but again, the trial court found “[t]here is no sufficient and competent evidence to value [Husband’s] 401K” as of the date of separation. The other item in contention is a Cadillac El Dorado, which is marital property. [SEP] [PARA] Husband challenges some findings of fact as unsupported by the evidence and some conclusions of law as unsupported by the facts. He also argues that the trial court abused its discretion in ordering an unequal distribution based upon its erroneous findings of fact. [SEP] [PARA] Our review of an equitable distribution order is limited to determining whether the trial court abused its discretion in distributing the parties’ marital property. Accordingly, the findings of fact are conclusive if they are supported by any competent evidence from the record. [SEP] [PARA] However, even applying this generous standard of review, there are still requirements with which trial courts must comply. Under N.C.G.S. §\\u200250–20(c), equitable distribution is a three-step process; the trial court must (1) determine what is marital and divisible property; (2) find the net value of the property; and (3) make an equitable distribution of that property. [SEP] [PARA] ․ [SEP] [PARA] In fact, to enter a proper equitable distribution judgment, the trial court must specifically and particularly classify and value all assets and debts maintained by the parties at the date of separation. In determining the value of the property, the trial court must consider the property’s market value, if any, less the amount of any encumbrance serving to offset or reduce the market value. Furthermore, in doing all these things the court must be specific and detailed enough to enable a reviewing court to determine what was done and its correctness. [SEP] [PARA] Robinson v. Robinson, 210 N.C. App. 319, 322-23, 707 S.E.2d 785, 789 (2011) (citations, quotation marks, and brackets omitted). [SEP] [PARA] As to the actual distribution ordered by the trial court, when reviewing an equitable distribution order the standard of review is limited to a determination of whether there was a clear abuse of discretion. A trial court may be reversed for abuse of discretion only upon a showing that its actions are manifestly unsupported by reason. [SEP] [PARA] Stovall v. Stovall, 205 N.C. App. 405, 407-08, 698 S.E.2d 680, 683 (2010) (citations, quotation marks, and brackets omitted). [SEP] [HEAD] I.\\u2003Classification issues [SEP] [PARA] Although Husband does not clearly identify an issue of classification of property, his arguments are largely based upon the trial court’s findings and conclusions regarding classification. Neither the order nor Husband’s brief separates the issues of classification, valuation, and distribution, but to review the issues, we must separate them. “[E]quitable distribution is a three-step process; the trial court must (1) determine what is marital and divisible property; (2) find the net value of the property; and (3) make an equitable distribution of that property.” Robinson, 210 N.C. App. at 323, 707 S.E.2d at 789 (citation, quotation marks, and brackets omitted). [SEP] [PARA] Husband argues the trial court erred by distributing the home to Wife and ordering him to remove his name from the deed and pay the HELOC, and his argument is primarily based upon the unequal distribution factors found by the trial court. But first, we must consider the classification of the home. [SEP] [PARA] The order is internally contradictory on the classification of the home. The trial court found that the home is “separate property held by a joint tenancy between the parties.” Separate property cannot be distributed in equitable distribution. See Langston v. Richardson, 206 N.C. App. 216, 220, 696 S.E.2d 867, 871 (2010) (“Under N.C. Gen. Stat. Sec. 50–20(c), only marital property is subject to distribution. The trial court must classify and identify property as marital or separate depending upon the proof presented to the trial court of the nature of the assets.” (Citations and quotation marks omitted)\\u2009). But then the trial court also found that “there is considerable equity in the marital residence which is marital property.” But if there is marital equity in the home, the trial court must value the marital interest before distributing it. See Turner v. Turner, 64 N.C. App. 342, 345, 307 S.E.2d 407, 408-09 (1983) (“Under G.S. 50-20(c), equitable distribution applies only to the net value of marital property. This requires the trial court to first ascertain what is marital property, then to find the net value of that property, and finally to make a distribution based upon the equitable goals of the statute and the various factors specified therein.”). And if the home itself is separate property, as the trial court found, it is not subject to distribution, yet the trial court distributed it to Wife, making essentially the same error as the court in Turner: [SEP] [PARA] If the house was purchased by plaintiff before the marriage, as the finding states, then it was error to subject the house, as such, to equitable distribution, since under G.S. 50-20(a)(2), property acquired by a spouse before marriage is “separate,” rather than “marital,” property. If, however, an equity in this property developed during the marriage because of improvements or payments contributed to by defendant, that equity (as distinguished from a mere increase in value of separate property, excluded by the statute) could be marital property, in our opinion, upon appropriate, supportable findings being made. And if not marital property, such equity, if it developed, would be a factor requiring consideration by the court, along with the other factors specified in the statute, before determining how much of the marital property each party is entitled to receive. ․ But the findings made do not support the division ordered. [SEP] [PARA] Turner, 64 N.C. App. at 346, 307 S.E.2d at 409. [SEP] [PARA] The trial court therefore erred by distributing the home, and on remand, the trial court should follow the process set forth in Turner to classify and value the home and any marital or separate interests in the home and to distribute any marital interest. [SEP] [HEAD] A.\\u2003Cadillac El Dorado [SEP] [PARA] Husband contends that the trial court’s finding of fact valuing the 1995 Cadillac El Dorado at $10,000.00 is not supported by the evidence. We agree there is no evidence to support a finding of the value of the car as $10,000.00 as of the date of separation. The final pretrial order included schedules “setting out the parties’ contentions as to the nature and values of the marital property.” Wife valued the 1995 Cadillac at $1,880.00; Husband also valued the Cadillac at $1,880.00. Husband argues the parties “stiplulated” to the value so the court was bound by the stipulation. Wife counters that the parties did not sign the pretrial order and did not stipulate to values, although they both listed the same value. We agree that the pretrial order does not include a formal “stipulation” of value, but both parties alleged the same value. And the Pretrial Order did not purport to be a consent order which should be signed by the parties; it was entered based upon the pretrial conference held on 24 November 2015, and Wife claims no impropriety in the trial court’s entry of the pretrial order. [SEP] [PARA] The only evidence of the sum of $10,000.00 was Husband’s testimony he had paid off a $10,000.00 balance of the loan on the vehicle with a portion of the proceeds from the HELOC, which he received in 2005, four years prior to the date of separation. But a loan payoff on a vehicle years prior to separation is not evidence of the fair market value of the vehicle on the date of separation. See generally Walter v. Walter, 149 N.C. App. 723, 733, 561 S.E.2d 571, 577 (2002) (“In an equitable distribution proceeding, the trial court is to determine the net fair market value of the property based on the evidence offered by the parties.”). On remand, the court should value the car based upon the evidence of fair market value as of the date of separation, and it appears that $1,880.00 is the only evidence of value as of the date of separation. See generally Warren v. Warren, 175 N.C. App. 509, 515, 623 S.E.2d 800, 804 (2006) (“In equitable distribution proceedings, marital property must be valued as of the date of the separation of the parties.” (Citation and quotation marks omitted)\\u2009). [SEP] [HEAD] B.\\u2003Valuation of home equity, HELOC, and 401K plan [SEP] [PARA] Husband addresses this issue as part of his argument regarding unequal distribution factors, but as noted above, the issue originates in the classification and valuation, or lack thereof, of these items and the order’s distribution of these assets. Equitable distribution is a three-step process: classification, valuation, and distribution. See generally Robinson, 210 N.C. App. at 323, 707 S.E.2d at 789. These three steps must be taken in order, so if the evidence is not sufficient to classify or value an item of property or debt, it cannot distributed. See, e.g., Estate of Nelson ex rel. Brewer v. Nelson, 179 N.C. App. 166, 168-69, 633 S.E.2d 124, 127 (2006) (“Failure to follow these steps carefully and in sequence may render the findings and conclusions inadequate, erroneous, or both.”), aff’d per curiam, 361 N.C. 346, 643 S.E.2d 587 (2007). [SEP] [PARA] Husband took out a HELOC secured by the marital home during the marriage, but the trial court found that the HELOC is Husband’s separate debt based upon its findings regarding Husband’s sole control over the HELOC and his use of the funds. The trial court was unable to value the outstanding debt as of the date of separation because there was not sufficient evidence of this value. But since the HELOC was classified as a separate debt, it need not be valued and cannot be distributed. See, e.g., Smith v. Smith, 111 N.C. App. 460, 509-10, 433 S.E.2d 196, 226 (1993) (citations omitted) (“In determining an equitable distribution, the trial court must consider the debts of the parties. If the debt is a separate debt of one of the parties, then the court must consider it pursuant to N.C. Gen. Stat. §\\u200250-20(c)(1). If the debt is a marital debt, that is, a debt incurred during the marriage for the joint benefit of the parties, then it must be valued and distributed.” (Citations and quotation marks omitted)\\u2009), rev’d in part on other grounds, 336 N.C. 575, 444 S.E.2d 420 (1994). Classification of property and debt comes first, and only marital property or debt is subject to the next two steps of valuation and distribution. See, e.g., Wall v. Wall, 140 N.C. App. 303, 307-08, 536 S.E.2d 647, 650 (2000) (“We continue to stress the importance of following the steps of first classifying, then valuing and distributing marital property. Each step is a prerequisite to the performance of the next, and failure to follow the prescribed order will result in a fatally flawed trial court disposition. Only those assets and debts that are classified as marital property and valued are subject to distribution under the Equitable Distribution Act[.]” (Citation and quotation marks omitted)\\u2009). [SEP] [PARA] In this case, the trial court found there was not “sufficient and competent evidence to value [Husband’s] 401K” as of the date of separation. Husband agrees with this finding, since it would be to his benefit, except that the trial court also used the 401K as a factor justifying the unequal distribution. Wife agrees the trial court did not have sufficient evidence to value the 401K, but she argues that it need not be valued to be a distributional factor. She is correct that the trial court need not value items used as distributional factors. See Gum v. Gum, 107 N.C. App. 734, 739, 421 S.E.2d 788, 791 (1992) (“The trial court is required to consider evidence of such contributions as a distributional factor according to N.C.G.S. §\\u200250–20(c)(8). There is no language within § [50-20(c)\\u2009] which would indicate that the trial court is required to place a monetary value on any distributional factor and we decline to impose such an unnecessary burden upon the trial court.”). But marital property must be valued, see, e.g., Robinson, 210 N.C. App. at 324, 707 S.E.2d at 790 (“It is not enough that evidence can be found within the record which could support such classification; the court must actually classify all of the property and make a finding as to the value of all marital property.”), and the trial court found that 401K plan was marital property but did not value it. If the 401K is not marital property, the trial court could have used it as a distributional factor without valuing it; but if it is marital property, it must first be valued as part of the marital estate. See generally Gum, 107 N.C. App. at 739, 421 S.E.2d at 791; Robinson, 210 N.C. App. at 324, 707 S.E.2d at 790. There is no way to know if the distribution of the marital estate is equal or unequal if there is no finding on the net value of the entire marital estate. [SEP] [PARA] The trial court determines the credibility and weight of the evidence, see, e.g., Brackney v. Brackney, 199 N.C. App. 375, 390, 682 S.E.2d 401, 410 (2009) (“[I]t is well-established ․ that when the trial court is the trier of fact, the court is empowered to assign weight to the evidence presented at the trial as it deems appropriate.” (Citation, quotation marks, and brackets omitted)\\u2009), and it is possible the trial court did not believe Husband’s evidence regarding the value of the 401K. But we are concerned that the trial court’s finding might be based upon the erroneous date of separation in the order. There was evidence, in the form of a letter from the 401K plan administrator, MassMutual Retirement Services Division, of the vested balance of the 401K as of 31 October 2009, the month of the parties’ separation. Yet the trial court found the parties separated in October 2007. The trial court would be correct there was no evidence of the value of the 401K in 2007—but that is not the relevant year because the parties did not separate until 2009. Wife contends the finding of the year 2007 is merely a non-prejudicial clerical error. But considering the trial court’s finding of a lack of evidence of the value of the 401K as of the date of separation, along with the evidence of a letter from the 401K plan administrator valuing the plan as of the date of separation, we cannot say for sure the date error is nonprejudicial. Again, it is possible the trial court did not rely upon the 401K plan administrator’s letter for some other reason, and that would be within the trial court’s discretion, but since we are vacating this order for other reasons, on remand, the trial court should clarify its findings regarding the valuation of the 401K as of the date of separation or its inability to value the plan. [SEP] [HEAD] III.\\u2003Unequal Distribution of the Marital Property [SEP] [PARA] Husband contends that the trial court abused its discretion in granting Wife an unequal distribution because the primary findings of factors supporting the unequal distribution are legally and factually incorrect. Based upon the errors in classification and valuation discussed above, including the absence of a finding of the total value of the net marital estate, we must vacate the order and remand for entry of a new order, but we will address Husband’s argument to avoid potential errors regarding the distributional factors on remand. [SEP] [PARA] North Carolina General Statutes Section 50-20(c) sets out the factors the trial court should consider when determining whether an equal division is equitable. See N.C. Gen. Stat. §\\u200250-20(c) (2017). “Where the trial court decides that an unequal distribution is equitable, the court must exercise its discretion to decide how much weight to give each factor supporting an unequal distribution. A single distributional factor may support an unequal division.” Mugno v. Mugno, 205 N.C. App. 273, 278, 695 S.E.2d 495, 499 (2010) (citations omitted). [SEP] [PARA] Here, the trial court determined that an unequal distribution of the marital and divisible property was equitable, and the court found these factors as justification for an unequal division: [SEP] [PARA] 35. N.C.G.S. §\\u200250-20(c)—Distributional Factors: That in considering whether an equal distribution would be equitable, the Court has considered all of the evidence presented by the parties relating to the statutory factors set out in Chapter 50-20(c) of the North Carolina General Statutes (as more particularly set out in the findings of fact contained in this judgment), and specifically including the following: [SEP] [PARA] a. N.C.G.S. §\\u200250-20(c)(1): At the time that the property division is to become effective, [Husband] is employed and will have received the majority of his 401K from Electro Switch, as well as having received the majority of, if not all of the benefit for the funds borrowed against the marital residence via the HELOC. [Wife] is receiving the marital residence. [SEP] [PARA] b. N.C.G.S. §\\u200250-20(c)(2): There is no obligation for support arising out of a prior marriage. [SEP] [PARA] c. N.C.G.S. §\\u200250-20(c)(3): The parties were married eighteen (18) years. Both parties are in good mental health. Both parties are limited in what they may do for employment although [Husband] continues to work. [SEP] [PARA] ․ [SEP] [PARA] e. N.C.G.S. §\\u200250-20(c)(5): [Husband] has obtained loans on his 401K, has received a substantial portion of it to date to the exclusion of [Wife], and will receive all that remains of it. [SEP] [PARA] f. N.C.G.S. §\\u200250-20(c)(6): Both parties contributed to the purchase of the Marital residence and its eventual pay off. [SEP] [PARA] ․ [SEP] [PARA] i. N.C.G.S. §\\u200250-20(c)(9): The 401K and the equity that remains in the residence are the largest Liquid assets the parties have. There is no sufficient and competent evidence to value [Husband’s] 401K, the exact amount of principle (sic) remaining on the HELOC and as a result the exact amount of equity in the Marital Residence. [SEP] [PARA] ․ [SEP] [PARA] 36. An equal distribution of marital and divisible property is not equitable in this matter. [SEP] [PARA] The court found that “[n]o evidence was presented” regarding any of the other factors in N.C. Gen. Stat. §\\u200250-20(c). [SEP] [PARA] The primary factor the trial court used to justify an unequal distribution was (i), but the trial court’s finding “[t]he 401K and the equity that remains in the residence are the largest Liquid assets the parties have” presents several problems. First, neither of these marital assets was valued, as discussed above. The second problem is either a serious clerical error or a misunderstanding of the meaning of the term “liquid.” Black’s Law Dictionary defines a liquid asset as “[a]n asset that is readily convertible to cash, such as a marketable security, a note, or an account receivable.” Black’s Law Dictionary (10th ed. 2014). In comparison, an illiquid asset is defined as “[a]n asset that is not readily convertible into cash, usu. because of (1) the lack of demand, (2) the absence of an established market, or (3) the substantial cost or time required for liquidation (such as real property, even when it is desirable).” Illiquid asset, Black’s Law Dictionary (10th Ed. 2014) (emphasis added). A 401K plan is not liquid since it is not readily accessible and any withdrawals prior to retirement incur substantial taxes and penalties. Equity in a home is not liquid because the home must be sold to get access to the equity. See e.g., Robertson v. Robertson, 167 N.C. App. 567, 571, 605 S.E.2d 667, 669-70 (2004) (“Although the trial court found defendant could liquidate the above assets to pay the $52,100.07 distributive award, the only liquid assets readily available to pay the award were two bank accounts totaling $5,929.38. Wife’s other assets included stock in PSI valued at $37,336.00, the unencumbered one-half acre lot valued at $8,920.00, and the personal property valued at $13,829.68. With the exception of the pension plan, which the trial court found would be difficult to liquidate and might cause unfavorable tax consequences, the trial court failed to make findings concerning the difficulty and possible financial and tax consequences of borrowing money against or liquidating the PSI stock, the one-half acre lot, and the personal property in order to pay the amount of the judgment lien within ninety days. Accordingly, although Wife may in fact be able to pay the distributive award, her evidence is sufficient to raise the question of whether adjusting the award from her to Husband is necessary to offset any adverse financial consequences of using the non-liquid assets.” (Citations, quotation marks, brackets, and ellipses omitted)\\u2009). [SEP] [PARA] As discussed above on valuation, the remainder of the finding on factor (i) is also erroneous because the marital property was not valued. The trial court found it could not value the marital equity in the home or the 401K plan. It found there was “no sufficient and competent evidence to value [Husband]’s 401K” and that the exact amount of principal remaining on the HELOC and the equity in the marital residence were also unknown. Without valuation of the marital assets, it is impossible to say if a distribution is equal or unequal. See generally Crowder v. Crowder, 147 N.C. App. 677, 681, 556 S.E.2d 639, 642 (2001) (“The distribution of marital assets entails the court’s determination of an ‘equitable’ division of marital property. The marital property is to be distributed equally, unless the court determines equal is not equitable.” (Citation and quotation marks omitted)\\u2009). Yet the court nevertheless used these unvalued marital assets in its determination that an unequal distribution was equitable, as evidenced in findings (a), (e), (f), and (i). [SEP] [PARA] Once those findings discussed above are removed, we are left only with its findings: (b) that “[t]here is no obligation for support arising out of a prior marriage” and (c) that “[t]he parties were married eighteen (18) years. Both parties are in good mental health. Both parties are limited in what they may do for employment although [Husband] continues to work.” These factors are essentially descriptions of the parties’ circumstances and while they are relevant, they cannot, standing alone, support the trial court’s conclusion that an unequal distribution is equitable. Since the court based an “unequal” distribution on marital assets that were not valued and on a misunderstanding of “liquid” assets, we hold that the trial court abused its discretion in ordering an unequal distribution. [SEP] [HEAD] IV.\\u2003Conclusion [SEP] [PARA] The trial court’s order on equitable distribution is reversed and we remand to the trial court for further proceedings consistent with this opinion. On remand, within 30 days after mandate issues on this opinion, either party may file a written request with the trial court for a hearing to present additional evidence or argument, and if a party files a timely request, the trial court shall hold a hearing to “to hear arguments and receive evidence from both parties on remand, in order to address the errors discussed above and to properly identify, classify, and value the parties’ property as required by statutory law and case law.” Dalgewicz v. Dalgewicz, 167 N.C. App. 412, 424, 606 S.E.2d 164, 172 (2004). If neither party files a timely written request for hearing on remand, the trial court may, in its sole discretion, determine whether to hold an additional hearing or to enter a new order based upon the evidence presented at the prior hearing. [SEP] [PARA] VACATED AND REMANDED.'}"
      ]
     },
     "execution_count": 22,
     "metadata": {},
     "output_type": "execute_result"
    }
   ],
   "source": [
    "data[0]"
   ]
  },
  {
   "cell_type": "code",
   "execution_count": 23,
   "metadata": {},
   "outputs": [
    {
     "name": "stdout",
     "output_type": "stream",
     "text": [
      "                          documentId  \\\n",
      "0  Ib4e590e0a55f11e8a5d58a2c8dcb28b5   \n",
      "1  Ib06ab4d056a011e98c7a8e995225dbf9   \n",
      "2  Iaa3e3390b93111e9ba33b03ae9101fb2   \n",
      "3  I0d4dffc381b711e280719c3f0e80bdd0   \n",
      "4  I82c7ef10d6d111e8aec5b23c3317c9c0   \n",
      "\n",
      "                                              labels  \\\n",
      "0                                        [On Appeal]   \n",
      "1  [Appellate Review, Sentencing or Penalty Phase...   \n",
      "2          [Motion to Compel Arbitration, On Appeal]   \n",
      "3     [On Appeal, Review of Administrative Decision]   \n",
      "4                                        [On Appeal]   \n",
      "\n",
      "                                                text  \n",
      "0  [PARA] Plaintiff Dwight Watson (“Husband”) app...  \n",
      "1  [PARA] After pleading guilty, William Jerome H...  \n",
      "2  [PARA] Frederick Greene, the plaintiff below, ...  \n",
      "3  [PARA] Appeal from an amended judgment of the ...  \n",
      "4  [PARA] Order, Supreme Court, New York County (...  \n"
     ]
    }
   ],
   "source": [
    "import pandas as pd\n",
    "\n",
    "df = pd.DataFrame([\n",
    "    {\n",
    "        \"documentId\": d[\"documentId\"],\n",
    "        \"labels\": d[\"postures\"],\n",
    "        \"text\": d[\"combined_text\"]\n",
    "    }\n",
    "    for d in data\n",
    "])\n",
    "\n",
    "print(df.head())"
   ]
  },
  {
   "cell_type": "code",
   "execution_count": null,
   "metadata": {},
   "outputs": [
    {
     "name": "stdout",
     "output_type": "stream",
     "text": [
      "[('On Appeal', 9197), ('Appellate Review', 4652), ('Review of Administrative Decision', 2773), ('Motion to Dismiss', 1679), ('Sentencing or Penalty Phase Motion or Objection', 1342), ('Trial or Guilt Phase Motion or Objection', 1097), (\"Motion for Attorney's Fees\", 612), ('Post-Trial Hearing Motion', 512), ('Motion for Preliminary Injunction', 364), ('Motion to Dismiss for Lack of Subject Matter Jurisdiction', 343), ('Motion to Compel Arbitration', 255), ('Motion for New Trial', 226), ('Petition to Terminate Parental Rights', 219), ('Motion for Judgment as a Matter of Law (JMOL)/Directed Verdict', 212), ('Motion for Reconsideration', 206), ('Motion to Dismiss for Lack of Personal Jurisdiction', 204), ('Motion for Costs', 168), ('Juvenile Delinquency Proceeding', 146), ('Motion for Default Judgment/Order of Default', 143), ('Motion to Dismiss for Lack of Standing', 137)]\n"
     ]
    }
   ],
   "source": []
  },
  {
   "cell_type": "code",
   "execution_count": null,
   "metadata": {},
   "outputs": [
    {
     "name": "stdout",
     "output_type": "stream",
     "text": [
      "[('On Appeal', 9197), ('Appellate Review', 4652), ('Review of Administrative Decision', 2773), ('Motion to Dismiss', 1679), ('Sentencing or Penalty Phase Motion or Objection', 1342), ('Motion for Preliminary Injunction', 174), ('Motion to Dismiss for Lack of Subject Matter Jurisdiction', 149), (\"Motion for Attorney's Fees\", 108), ('Motion to Dismiss for Lack of Personal Jurisdiction', 66), ('Motion to Compel Arbitration', 62), ('Motion for Reconsideration', 54), ('Motion to Transfer or Change Venue', 51), ('Motion for Costs', 50), ('Certified Question', 47), ('Motion for Judgment as a Matter of Law (JMOL)/Directed Verdict', 45), ('Motion for Default Judgment/Order of Default', 45), ('Objection to Proof of Claim', 37), ('Post-Trial Hearing Motion', 34), ('Motion for New Trial', 33), ('Motion for Protective Order', 31)]\n",
      "top 5 labels :['On Appeal', 'Appellate Review', 'Review of Administrative Decision', 'Motion to Dismiss', 'Sentencing or Penalty Phase Motion or Objection']\n",
      "Remaining documents after filtering: 15661\n"
     ]
    }
   ],
   "source": [
    "# TAKE TOPk and keep only labels from the topk + exclude documents that end up with no remaining labels\n",
    "from collections import Counter\n",
    "\n",
    "# Assume your data is a list of dicts, each with a 'postures' field\n",
    "label_counter = Counter()\n",
    "for entry in data:\n",
    "    label_counter.update(entry[\"postures\"])\n",
    "# Print most common labels\n",
    "print(label_counter.most_common(20))\n",
    "\n",
    "k = 5  \n",
    "top_k_labels = [label for label, _ in label_counter.most_common(k)]\n",
    "print(f\"top {5} labels :{top_k_labels}\")\n",
    "filtered_data = []\n",
    "for entry in data:\n",
    "    # Keep only labels that are in top k\n",
    "    new_labels = [label for label in entry[\"postures\"] if label in top_k_labels]\n",
    "\n",
    "    if new_labels:\n",
    "        # Update labels\n",
    "        entry[\"postures\"] = new_labels\n",
    "        filtered_data.append(entry)\n",
    "\n",
    "print(f\"Remaining documents after filtering: {len(filtered_data)}\")\n",
    "\n",
    "# next steps: take care also of the kappa score"
   ]
  },
  {
   "cell_type": "code",
   "execution_count": 37,
   "metadata": {},
   "outputs": [
    {
     "name": "stdout",
     "output_type": "stream",
     "text": [
      "Train set size: 10962\n",
      "Dev set size: 2349\n",
      "Test set size: 2350\n"
     ]
    }
   ],
   "source": [
    "from sklearn.model_selection import train_test_split\n",
    "\n",
    "# Start with your filtered data\n",
    "# Example: filtered_data is your list of documents\n",
    "\n",
    "# First split: train vs (dev + test)\n",
    "train_data, temp_data = train_test_split(\n",
    "    filtered_data, \n",
    "    test_size=0.3,  # 30% goes to temp (dev + test)\n",
    "    random_state=42,\n",
    "    shuffle=True\n",
    ")\n",
    "\n",
    "# Second split: dev vs test (half-half from temp)\n",
    "dev_data, test_data = train_test_split(\n",
    "    temp_data, \n",
    "    test_size=0.5,  # Split remaining 30% equally\n",
    "    random_state=42,\n",
    "    shuffle=True\n",
    ")\n",
    "\n",
    "# Check sizes\n",
    "print(f\"Train set size: {len(train_data)}\")\n",
    "print(f\"Dev set size: {len(dev_data)}\")\n",
    "print(f\"Test set size: {len(test_data)}\")"
   ]
  },
  {
   "cell_type": "code",
   "execution_count": 41,
   "metadata": {},
   "outputs": [
    {
     "name": "stdout",
     "output_type": "stream",
     "text": [
      "Created subset with 500 samples.\n",
      "Created subset with 1000 samples.\n",
      "Created subset with 2000 samples.\n",
      "Created subset with 5000 samples.\n",
      "Created subset with 10000 samples.\n",
      "[PARA] Proceeding pursuant to CPLR article 78 (transferred to this Court by order of the Supreme Court, entered in Albany County) to review a determination of the Department of Health which found decedent ineligible for certain Medicaid benefits. [SEP] [PARA] In September 2003, Paul Hettinger (hereinafter decedent), a widower, executed a durable general power of attorney appointing Sharon Williams, an individual identified in the record as his cousin-in-law, as his attorney-in-fact.   The power \n"
     ]
    }
   ],
   "source": [
    "import random\n",
    "\n",
    "# Fix random seed for reproducibility\n",
    "random.seed(42)\n",
    "# Define desired sample sizes\n",
    "sample_sizes = [500,1000, 2000, 5000, 10000]\n",
    "# Save all subsets\n",
    "train_subsets = {}\n",
    "\n",
    "for size in sample_sizes:\n",
    "    # Check if we have enough samples\n",
    "    if len(train_data) >= size:\n",
    "        subset = random.sample(train_data, size)\n",
    "        train_subsets[size] = subset\n",
    "        print(f\"Created subset with {size} samples.\")\n",
    "    else:\n",
    "        print(f\"Not enough data to create subset with {size} samples (only {len(train_data)} available).\")\n",
    "\n",
    "# Example: look at first document text in 1k subset\n",
    "print(train_subsets[500][0][\"combined_text\"][:500])"
   ]
  },
  {
   "cell_type": "code",
   "execution_count": null,
   "metadata": {},
   "outputs": [],
   "source": []
  }
 ],
 "metadata": {
  "kernelspec": {
   "display_name": "berserk3",
   "language": "python",
   "name": "python3"
  },
  "language_info": {
   "codemirror_mode": {
    "name": "ipython",
    "version": 3
   },
   "file_extension": ".py",
   "mimetype": "text/x-python",
   "name": "python",
   "nbconvert_exporter": "python",
   "pygments_lexer": "ipython3",
   "version": "3.12.6"
  }
 },
 "nbformat": 4,
 "nbformat_minor": 2
}
