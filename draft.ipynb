{
 "cells": [
  {
   "cell_type": "code",
   "execution_count": 2,
   "metadata": {},
   "outputs": [
    {
     "name": "stdout",
     "output_type": "stream",
     "text": [
      "  transaction_id   sender_id   receiver_id       date  nb\n",
      "5          hash6  SameSender  SameReceiver 2015-01-01   0\n",
      "0          hash1  SameSender  SameReceiver 2022-01-20   1\n",
      "1          hash2  SameSender  SameReceiver 2022-02-12   2\n",
      "2          hash3  SameSender  SameReceiver 2022-05-20   3\n",
      "3          hash4  SameSender  SameReceiver 2022-07-18   4\n",
      "4          hash5  SameSender  SameReceiver 2023-03-28   3\n"
     ]
    }
   ],
   "source": [
    "import pandas as pd\n",
    "\n",
    "# Define the data\n",
    "data = {\n",
    "    'transaction_id': ['hash1', 'hash2', 'hash3', 'hash4', 'hash5', 'hash6'],\n",
    "    'sender_id': ['SameSender', 'SameSender', 'SameSender', 'SameSender', 'SameSender', 'SameSender'],\n",
    "    'receiver_id': ['SameReceiver', 'SameReceiver', 'SameReceiver', 'SameReceiver', 'SameReceiver', 'SameReceiver'],\n",
    "    'date': ['2022-01-20', '2022-02-12', '2022-05-20', '2022-07-18', '2023-03-28', '2015-01-01'],\n",
    "    'nb': [1, 2, 3, 4, 3, 0]\n",
    "}\n",
    "\n",
    "# Create the DataFrame\n",
    "df = pd.DataFrame(data)\n",
    "\n",
    "# Convert the 'date' column to datetime\n",
    "df['date'] = pd.to_datetime(df['date'])\n",
    "\n",
    "# Sort the DataFrame by 'date'\n",
    "df = df.sort_values('date')\n",
    "\n",
    "# Create a new column 'flag' that indicates if 'nb' equals 4 in the current row or any of the 3 previous rows\n",
    "# df['flag'] = (df['nb'] == 4) | (df['nb'].shift(1) == 4) | (df['nb'].shift(2) == 4) | (df['nb'].shift(3) == 4)\n",
    "\n",
    "# # Filter the rows where 'flag' is True\n",
    "# df = df[df['flag']]\n",
    "\n",
    "# Drop the 'flag' column\n",
    "# df = df.drop(columns='flag')\n",
    "\n",
    "# Print the DataFrame\n",
    "print(df)"
   ]
  },
  {
   "cell_type": "code",
   "execution_count": 6,
   "metadata": {},
   "outputs": [
    {
     "name": "stdout",
     "output_type": "stream",
     "text": [
      "  transaction_id   sender_id   receiver_id       date  nb   flag\n",
      "0          hash1  SameSender  SameReceiver 2022-01-20   1  False\n",
      "1          hash2  SameSender  SameReceiver 2022-02-12   2  False\n",
      "2          hash3  SameSender  SameReceiver 2022-05-20   3  False\n",
      "3          hash4  SameSender  SameReceiver 2022-07-18   4   True\n"
     ]
    }
   ],
   "source": [
    "\n",
    "# Sort the DataFrame by 'date'\n",
    "df = df.sort_values('date')\n",
    "\n",
    "# Find the index of rows where 'nb' equals 4\n",
    "index_4 = df[df['nb'] == 4].index\n",
    "\n",
    "# Create a list of indices to keep\n",
    "indices_to_keep = []\n",
    "for idx in index_4:\n",
    "    indices_to_keep.extend([idx-3, idx-2, idx-1, idx])\n",
    "\n",
    "# Filter the DataFrame based on the indices to keep\n",
    "df = df[df.index.isin(indices_to_keep)]\n",
    "\n",
    "# Print the DataFrame\n",
    "print(df)"
   ]
  },
  {
   "cell_type": "code",
   "execution_count": 3,
   "metadata": {},
   "outputs": [
    {
     "name": "stdout",
     "output_type": "stream",
     "text": [
      "   transaction_id sender receiver                          date\n",
      "0               1   bob1     rec1 2018-01-01 00:00:00.000000000\n",
      "1               2   bob2     rec2 2018-11-09 20:34:17.142857144\n",
      "2               3   bob1     rec1 2019-09-18 17:08:34.285714288\n",
      "3               4   bob2     rec2 2020-07-27 13:42:51.428571424\n",
      "4               5   bob1     rec1 2021-06-05 10:17:08.571428576\n",
      "5               6   bob2     rec2 2022-04-14 06:51:25.714285728\n",
      "6               7   bob1     rec1 2023-02-21 03:25:42.857142848\n",
      "7               8   bob2     rec2 2023-12-31 00:00:00.000000000\n"
     ]
    }
   ],
   "source": [
    "import pandas as pd\n",
    "from datetime import datetime, timedelta\n",
    "\n",
    "# Define the data\n",
    "data = {\n",
    "    'transaction_id': [1, 2, 3, 4, 5, 6, 7, 8],\n",
    "    'sender': ['bob1', 'bob2', 'bob1', 'bob2', 'bob1', 'bob2', 'bob1', 'bob2'],\n",
    "    'receiver': ['rec1', 'rec2', 'rec1', 'rec2', 'rec1', 'rec2', 'rec1', 'rec2'],\n",
    "    'date': pd.date_range(start='2018-01-01', end='2023-12-31', periods=8)\n",
    "}\n",
    "\n",
    "# Create the DataFrame\n",
    "df = pd.DataFrame(data)\n",
    "\n",
    "# Print the DataFrame\n",
    "print(df)"
   ]
  },
  {
   "cell_type": "code",
   "execution_count": null,
   "metadata": {},
   "outputs": [],
   "source": []
  },
  {
   "cell_type": "code",
   "execution_count": 4,
   "metadata": {},
   "outputs": [
    {
     "name": "stdout",
     "output_type": "stream",
     "text": [
      "   transaction_id sender receiver                          date\n",
      "0               1   bob1     rec1 2018-01-01 00:00:00.000000000\n",
      "2               3   bob1     rec1 2019-09-18 17:08:34.285714288\n",
      "4               5   bob1     rec1 2021-06-05 10:17:08.571428576\n",
      "6               7   bob1     rec1 2023-02-21 03:25:42.857142848\n",
      "1               2   bob2     rec2 2018-11-09 20:34:17.142857144\n",
      "3               4   bob2     rec2 2020-07-27 13:42:51.428571424\n",
      "5               6   bob2     rec2 2022-04-14 06:51:25.714285728\n",
      "7               8   bob2     rec2 2023-12-31 00:00:00.000000000\n"
     ]
    }
   ],
   "source": [
    "# Order the DataFrame by sender and receiver\n",
    "df_sorted = df.sort_values(by=['sender', 'receiver'])\n",
    "\n",
    "# Print the sorted DataFrame\n",
    "print(df_sorted)"
   ]
  },
  {
   "cell_type": "code",
   "execution_count": 5,
   "metadata": {},
   "outputs": [
    {
     "name": "stdout",
     "output_type": "stream",
     "text": [
      "   transaction_id sender receiver                          date\n",
      "0               1   bob1     rec1 2018-01-01 00:00:00.000000000\n",
      "1               2   bob2     rec2 2018-11-09 20:34:17.142857144\n",
      "2               3   bob1     rec1 2019-09-18 17:08:34.285714288\n",
      "3               4   bob2     rec2 2020-07-27 13:42:51.428571424\n",
      "4               5   bob1     rec1 2021-06-05 10:17:08.571428576\n",
      "5               6   bob2     rec2 2022-04-14 06:51:25.714285728\n",
      "6               7   bob1     rec1 2023-02-21 03:25:42.857142848\n",
      "7               8   bob2     rec2 2023-12-31 00:00:00.000000000\n"
     ]
    }
   ],
   "source": [
    "# Calculate the date range\n",
    "min_date = df['date'].min() - pd.DateOffset(years=1)\n",
    "max_date = df['date'].max() + pd.DateOffset(years=1)\n",
    "\n",
    "# Filter the DataFrame\n",
    "df_filtered = df[(df['date'] >= min_date) & (df['date'] <= max_date)]\n",
    "\n",
    "# Print the filtered DataFrame\n",
    "print(df_filtered)"
   ]
  },
  {
   "cell_type": "code",
   "execution_count": null,
   "metadata": {},
   "outputs": [],
   "source": []
  },
  {
   "cell_type": "code",
   "execution_count": 6,
   "metadata": {},
   "outputs": [
    {
     "name": "stdout",
     "output_type": "stream",
     "text": [
      "   transaction_id sender receiver                          date  \\\n",
      "0               1   bob1     rec1 2018-01-01 00:00:00.000000000   \n",
      "1               2   bob2     rec2 2018-11-09 20:34:17.142857144   \n",
      "2               3   bob1     rec1 2019-09-18 17:08:34.285714288   \n",
      "3               4   bob2     rec2 2020-07-27 13:42:51.428571424   \n",
      "4               5   bob1     rec1 2021-06-05 10:17:08.571428576   \n",
      "5               6   bob2     rec2 2022-04-14 06:51:25.714285728   \n",
      "6               7   bob1     rec1 2023-02-21 03:25:42.857142848   \n",
      "7               8   bob2     rec2 2023-12-31 00:00:00.000000000   \n",
      "\n",
      "                       min_date                      max_date  \n",
      "0 2018-01-01 00:00:00.000000000 2023-02-21 03:25:42.857142848  \n",
      "1 2018-11-09 20:34:17.142857144 2023-12-31 00:00:00.000000000  \n",
      "2 2018-01-01 00:00:00.000000000 2023-02-21 03:25:42.857142848  \n",
      "3 2018-11-09 20:34:17.142857144 2023-12-31 00:00:00.000000000  \n",
      "4 2018-01-01 00:00:00.000000000 2023-02-21 03:25:42.857142848  \n",
      "5 2018-11-09 20:34:17.142857144 2023-12-31 00:00:00.000000000  \n",
      "6 2018-01-01 00:00:00.000000000 2023-02-21 03:25:42.857142848  \n",
      "7 2018-11-09 20:34:17.142857144 2023-12-31 00:00:00.000000000  \n"
     ]
    }
   ],
   "source": [
    "# Create new columns with the minimum and maximum date for each sender-receiver pair\n",
    "df['min_date'] = df.groupby(['sender', 'receiver'])['date'].transform('min')\n",
    "df['max_date'] = df.groupby(['sender', 'receiver'])['date'].transform('max')\n",
    "\n",
    "# Print the DataFrame\n",
    "print(df)"
   ]
  },
  {
   "cell_type": "code",
   "execution_count": 1,
   "metadata": {},
   "outputs": [],
   "source": [
    "import pandas as pd"
   ]
  },
  {
   "cell_type": "code",
   "execution_count": null,
   "metadata": {},
   "outputs": [],
   "source": []
  },
  {
   "cell_type": "code",
   "execution_count": 7,
   "metadata": {},
   "outputs": [
    {
     "ename": "ValueError",
     "evalue": "invalid literal for int() with base 10: ''",
     "output_type": "error",
     "traceback": [
      "\u001b[0;31m---------------------------------------------------------------------------\u001b[0m",
      "\u001b[0;31mValueError\u001b[0m                                Traceback (most recent call last)",
      "Cell \u001b[0;32mIn[7], line 1\u001b[0m\n\u001b[0;32m----> 1\u001b[0m grade1 \u001b[38;5;241m=\u001b[39m \u001b[38;5;28;43mint\u001b[39;49m\u001b[43m(\u001b[49m\u001b[38;5;28;43minput\u001b[39;49m\u001b[43m(\u001b[49m\u001b[38;5;124;43m'\u001b[39;49m\u001b[38;5;124;43mEnter the first grade: \u001b[39;49m\u001b[38;5;124;43m'\u001b[39;49m\u001b[43m)\u001b[49m\u001b[43m)\u001b[49m\n",
      "\u001b[0;31mValueError\u001b[0m: invalid literal for int() with base 10: ''"
     ]
    }
   ],
   "source": [
    "grade1 = int(input('Enter the first grade: '))\n"
   ]
  },
  {
   "cell_type": "code",
   "execution_count": 4,
   "metadata": {},
   "outputs": [],
   "source": [
    "grade2 = int(input('Enter the second grade: '))\n"
   ]
  },
  {
   "cell_type": "code",
   "execution_count": null,
   "metadata": {},
   "outputs": [],
   "source": [
    "def calculate_average_grade(grade1, grade2, grade3):\n",
    "    average_grade = (grade1 + grade2 + grade3) / 3\n",
    "    return average_grade\n",
    "\n",
    "# Call the function and print the result\n",
    "print(f'The average grade is: {calculate_average_grade(85, 90, 95)}')"
   ]
  },
  {
   "cell_type": "code",
   "execution_count": null,
   "metadata": {},
   "outputs": [],
   "source": [
    "def calculate_average_grade(grade1, grade2, grade3):\n",
    "    average_grade = (grade1 + grade2 + grade3) / 3\n",
    "    return average_grade\n",
    "\n",
    "# Call the function and print the result\n",
    "print(f'The average grade is: {calculate_average_grade(85, 90, 95)}')"
   ]
  },
  {
   "cell_type": "code",
   "execution_count": 5,
   "metadata": {},
   "outputs": [],
   "source": [
    "grade3 = int(input('Enter the third grade: '))\n"
   ]
  },
  {
   "cell_type": "code",
   "execution_count": 6,
   "metadata": {},
   "outputs": [
    {
     "name": "stdout",
     "output_type": "stream",
     "text": [
      "The average grade is: 3.3333333333333335\n"
     ]
    }
   ],
   "source": [
    "average_grade = (grade1 + grade2 + grade3) / 3\n",
    "print(f'The average grade is: {average_grade}')"
   ]
  },
  {
   "cell_type": "code",
   "execution_count": null,
   "metadata": {},
   "outputs": [],
   "source": [
    "def calculate_average_grade():\n",
    "    grade1 = int(input('Enter the first grade: '))\n",
    "    grade2 = int(input('Enter the second grade: '))\n",
    "    grade3 = int(input('Enter the third grade: '))\n",
    "    \n",
    "    average_grade = (grade1 + grade2 + grade3) / 3\n",
    "    print(f'The average grade is: {average_grade}')\n",
    "def calculate_average_grade(grade1, grade2, grade3):\n",
    "    average_grade = (grade1 + grade2 + grade3) / 3\n",
    "    return average_grade\n",
    "\n",
    "# Call the function and print the result\n",
    "print(f'The average grade is: {calculate_average_grade(85, 90, 95)}')\n",
    "calculate_average_grade()"
   ]
  },
  {
   "cell_type": "code",
   "execution_count": null,
   "metadata": {},
   "outputs": [],
   "source": []
  },
  {
   "cell_type": "code",
   "execution_count": null,
   "metadata": {},
   "outputs": [],
   "source": [
    "def calculate_average_grade(grade1, grade2, grade3):\n",
    "    average_grade = (grade1 + grade2 + grade3) / 3\n",
    "    return average_grade\n",
    "\n",
    "\n",
    "print(f'La moyenne est de: {calculate_average_grade(85, 90, 95)}')"
   ]
  },
  {
   "cell_type": "code",
   "execution_count": 4,
   "metadata": {},
   "outputs": [
    {
     "name": "stdout",
     "output_type": "stream",
     "text": [
      "Stack is not empty\n"
     ]
    }
   ],
   "source": [
    "stack = [4]\n",
    "if stack:\n",
    "    print(\"Stack is not empty\")"
   ]
  },
  {
   "cell_type": "code",
   "execution_count": 6,
   "metadata": {},
   "outputs": [
    {
     "data": {
      "text/plain": [
       "'('"
      ]
     },
     "execution_count": 6,
     "metadata": {},
     "output_type": "execute_result"
    }
   ],
   "source": [
    "valid_p_list = {\n",
    "    \")\":\"(\",\n",
    "    \"]\":\"[\",\n",
    "    \"}\":\"{\"\n",
    "}\n",
    "\n",
    "\n",
    "valid_p_list[\")\"]"
   ]
  },
  {
   "cell_type": "code",
   "execution_count": 7,
   "metadata": {},
   "outputs": [
    {
     "data": {
      "text/plain": [
       "True"
      ]
     },
     "execution_count": 7,
     "metadata": {},
     "output_type": "execute_result"
    }
   ],
   "source": [
    "s = \"({[]})\"\n",
    "valid_p_list = {\n",
    "    \")\":\"(\",\n",
    "    \"]\":\"[\",\n",
    "    \"}\":\"{\"\n",
    "}\n",
    "\n",
    "stack = []\n",
    "def isValid(s):\n",
    "    for i in s:\n",
    "        if i in valid_p_list.values():\n",
    "            stack.append(i)\n",
    "        elif stack and stack[-1] == valid_p_list[i]:\n",
    "            stack.pop()\n",
    "        else:\n",
    "            return False\n",
    "    return stack == []\n",
    "\n",
    "isValid(s)"
   ]
  },
  {
   "cell_type": "code",
   "execution_count": null,
   "metadata": {},
   "outputs": [],
   "source": []
  },
  {
   "cell_type": "code",
   "execution_count": 1,
   "metadata": {},
   "outputs": [],
   "source": [
    "def f(x):\n",
    "    return 3*x**2 -4*x + 5"
   ]
  },
  {
   "cell_type": "code",
   "execution_count": 5,
   "metadata": {},
   "outputs": [
    {
     "data": {
      "text/plain": [
       "array([100.    ,  91.6875,  83.75  ,  76.1875,  69.    ,  62.1875,\n",
       "        55.75  ,  49.6875,  44.    ,  38.6875,  33.75  ,  29.1875,\n",
       "        25.    ,  21.1875,  17.75  ,  14.6875,  12.    ,   9.6875,\n",
       "         7.75  ,   6.1875,   5.    ,   4.1875,   3.75  ,   3.6875,\n",
       "         4.    ,   4.6875,   5.75  ,   7.1875,   9.    ,  11.1875,\n",
       "        13.75  ,  16.6875,  20.    ,  23.6875,  27.75  ,  32.1875,\n",
       "        37.    ,  42.1875,  47.75  ,  53.6875])"
      ]
     },
     "execution_count": 5,
     "metadata": {},
     "output_type": "execute_result"
    }
   ],
   "source": [
    "import numpy as np\n",
    "xs = np.arange(-5, 5, 0.25)\n",
    "xs\n",
    "\n",
    "ys = f(xs)\n",
    "ys"
   ]
  },
  {
   "cell_type": "code",
   "execution_count": 6,
   "metadata": {},
   "outputs": [
    {
     "data": {
      "text/plain": [
       "100"
      ]
     },
     "execution_count": 6,
     "metadata": {},
     "output_type": "execute_result"
    }
   ],
   "source": [
    "f(-5)"
   ]
  },
  {
   "cell_type": "code",
   "execution_count": null,
   "metadata": {},
   "outputs": [],
   "source": []
  }
 ],
 "metadata": {
  "kernelspec": {
   "display_name": "Python 3",
   "language": "python",
   "name": "python3"
  },
  "language_info": {
   "codemirror_mode": {
    "name": "ipython",
    "version": 3
   },
   "file_extension": ".py",
   "mimetype": "text/x-python",
   "name": "python",
   "nbconvert_exporter": "python",
   "pygments_lexer": "ipython3",
   "version": "3.12.2"
  }
 },
 "nbformat": 4,
 "nbformat_minor": 2
}
